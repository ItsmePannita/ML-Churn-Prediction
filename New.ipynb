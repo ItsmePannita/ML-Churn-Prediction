{
 "cells": [
  {
   "cell_type": "markdown",
   "id": "40a8933c",
   "metadata": {},
   "source": [
    "# Customer Churn Prediction - Machine Learning Model\n",
    "# This notebook continues from RFM_Analysis.ipynb\n"
   ]
  },
  {
   "cell_type": "code",
   "execution_count": null,
   "id": "6ae95505",
   "metadata": {},
   "outputs": [
    {
     "name": "stdout",
     "output_type": "stream",
     "text": [
      "Libraries loaded successfully\n"
     ]
    }
   ],
   "source": [
    "# Part 1: Setup and Data Loading\n",
    "\n",
    "import pandas as pd\n",
    "import numpy as np\n",
    "import matplotlib.pyplot as plt\n",
    "import seaborn as sns\n",
    "import warnings\n",
    "warnings.filterwarnings('ignore')\n",
    "\n",
    "from sklearn.model_selection import train_test_split\n",
    "from sklearn.preprocessing import StandardScaler\n",
    "from sklearn.linear_model import LogisticRegression\n",
    "from sklearn.ensemble import RandomForestClassifier, GradientBoostingClassifier\n",
    "from sklearn.metrics import accuracy_score, precision_score, recall_score, f1_score\n",
    "from sklearn.metrics import confusion_matrix, classification_report\n",
    "\n",
    "print(\"Libraries loaded successfully\")"
   ]
  },
  {
   "cell_type": "code",
   "execution_count": 4,
   "id": "5806510b",
   "metadata": {},
   "outputs": [
    {
     "name": "stdout",
     "output_type": "stream",
     "text": [
      "Data loaded: (3212, 23)\n",
      "Columns: ['CustomerID', 'Recency', 'Frequency', 'Monetary', 'Churn', 'R_Score', 'F_Score', 'M_Score', 'RFM_Score_Combined', 'avg_order_value', 'std_order_value', 'min_order_value', 'max_order_value', 'avg_items_per_order', 'total_items_purchased', 'unique_purchase_days', 'customer_lifetime_days', 'purchase_frequency_days', 'days_since_first_purchase', 'is_uk', 'value_per_frequency', 'consistency_ratio', 'purchase_acceleration']\n",
      "\n",
      "Churn rate (120-day threshold): 28.6%\n"
     ]
    },
    {
     "data": {
      "application/vnd.microsoft.datawrangler.viewer.v0+json": {
       "columns": [
        {
         "name": "index",
         "rawType": "int64",
         "type": "integer"
        },
        {
         "name": "CustomerID",
         "rawType": "float64",
         "type": "float"
        },
        {
         "name": "Recency",
         "rawType": "int64",
         "type": "integer"
        },
        {
         "name": "Frequency",
         "rawType": "int64",
         "type": "integer"
        },
        {
         "name": "Monetary",
         "rawType": "float64",
         "type": "float"
        },
        {
         "name": "Churn",
         "rawType": "int64",
         "type": "integer"
        },
        {
         "name": "R_Score",
         "rawType": "int64",
         "type": "integer"
        },
        {
         "name": "F_Score",
         "rawType": "int64",
         "type": "integer"
        },
        {
         "name": "M_Score",
         "rawType": "int64",
         "type": "integer"
        },
        {
         "name": "RFM_Score_Combined",
         "rawType": "int64",
         "type": "integer"
        },
        {
         "name": "avg_order_value",
         "rawType": "float64",
         "type": "float"
        },
        {
         "name": "std_order_value",
         "rawType": "float64",
         "type": "float"
        },
        {
         "name": "min_order_value",
         "rawType": "float64",
         "type": "float"
        },
        {
         "name": "max_order_value",
         "rawType": "float64",
         "type": "float"
        },
        {
         "name": "avg_items_per_order",
         "rawType": "float64",
         "type": "float"
        },
        {
         "name": "total_items_purchased",
         "rawType": "int64",
         "type": "integer"
        },
        {
         "name": "unique_purchase_days",
         "rawType": "int64",
         "type": "integer"
        },
        {
         "name": "customer_lifetime_days",
         "rawType": "int64",
         "type": "integer"
        },
        {
         "name": "purchase_frequency_days",
         "rawType": "float64",
         "type": "float"
        },
        {
         "name": "days_since_first_purchase",
         "rawType": "int64",
         "type": "integer"
        },
        {
         "name": "is_uk",
         "rawType": "int64",
         "type": "integer"
        },
        {
         "name": "value_per_frequency",
         "rawType": "float64",
         "type": "float"
        },
        {
         "name": "consistency_ratio",
         "rawType": "float64",
         "type": "float"
        },
        {
         "name": "purchase_acceleration",
         "rawType": "float64",
         "type": "float"
        }
       ],
       "ref": "827f9bca-e399-4125-8ad3-7b7fb5080951",
       "rows": [
        [
         "0",
         "12346.0",
         "205",
         "1",
         "77183.6",
         "1",
         "1",
         "1",
         "4",
         "6",
         "77183.6",
         "0.0",
         "77183.6",
         "77183.6",
         "74215.0",
         "74215",
         "1",
         "0",
         "0.0",
         "205",
         "1",
         "77183.6",
         "0.0",
         "0.0048543689320388"
        ],
        [
         "1",
         "12347.0",
         "9",
         "124",
         "2790.86",
         "0",
         "4",
         "4",
         "4",
         "12",
         "22.50693548387097",
         "25.042598185206792",
         "5.04",
         "249.6",
         "12.82258064516129",
         "1590",
         "5",
         "237",
         "47.4",
         "246",
         "0",
         "22.50693548387097",
         "1.0653280689177669",
         "0.5020242914979757"
        ],
        [
         "2",
         "12348.0",
         "128",
         "28",
         "1487.24",
         "1",
         "2",
         "2",
         "4",
         "8",
         "53.11571428571428",
         "46.0719184519298",
         "13.2",
         "240.0",
         "75.85714285714286",
         "2124",
         "3",
         "109",
         "36.333333333333336",
         "237",
         "0",
         "53.11571428571428",
         "0.8513593336065801",
         "0.1176470588235294"
        ],
        [
         "3",
         "12350.0",
         "189",
         "17",
         "334.4",
         "1",
         "1",
         "2",
         "2",
         "5",
         "19.670588235294115",
         "7.275538185065964",
         "8.5",
         "40.0",
         "11.588235294117649",
         "197",
         "1",
         "0",
         "0.0",
         "189",
         "0",
         "19.670588235294115",
         "0.351975381747642",
         "0.0894736842105263"
        ],
        [
         "4",
         "12352.0",
         "141",
         "38",
         "1561.81",
         "1",
         "1",
         "3",
         "4",
         "8",
         "41.10026315789474",
         "74.73218386568321",
         "10.2",
         "376.5",
         "6.684210526315789",
         "254",
         "5",
         "34",
         "6.8",
         "176",
         "0",
         "41.10026315789474",
         "1.7751001599539709",
         "0.2146892655367231"
        ]
       ],
       "shape": {
        "columns": 23,
        "rows": 5
       }
      },
      "text/html": [
       "<div>\n",
       "<style scoped>\n",
       "    .dataframe tbody tr th:only-of-type {\n",
       "        vertical-align: middle;\n",
       "    }\n",
       "\n",
       "    .dataframe tbody tr th {\n",
       "        vertical-align: top;\n",
       "    }\n",
       "\n",
       "    .dataframe thead th {\n",
       "        text-align: right;\n",
       "    }\n",
       "</style>\n",
       "<table border=\"1\" class=\"dataframe\">\n",
       "  <thead>\n",
       "    <tr style=\"text-align: right;\">\n",
       "      <th></th>\n",
       "      <th>CustomerID</th>\n",
       "      <th>Recency</th>\n",
       "      <th>Frequency</th>\n",
       "      <th>Monetary</th>\n",
       "      <th>Churn</th>\n",
       "      <th>R_Score</th>\n",
       "      <th>F_Score</th>\n",
       "      <th>M_Score</th>\n",
       "      <th>RFM_Score_Combined</th>\n",
       "      <th>avg_order_value</th>\n",
       "      <th>...</th>\n",
       "      <th>avg_items_per_order</th>\n",
       "      <th>total_items_purchased</th>\n",
       "      <th>unique_purchase_days</th>\n",
       "      <th>customer_lifetime_days</th>\n",
       "      <th>purchase_frequency_days</th>\n",
       "      <th>days_since_first_purchase</th>\n",
       "      <th>is_uk</th>\n",
       "      <th>value_per_frequency</th>\n",
       "      <th>consistency_ratio</th>\n",
       "      <th>purchase_acceleration</th>\n",
       "    </tr>\n",
       "  </thead>\n",
       "  <tbody>\n",
       "    <tr>\n",
       "      <th>0</th>\n",
       "      <td>12346.0</td>\n",
       "      <td>205</td>\n",
       "      <td>1</td>\n",
       "      <td>77183.60</td>\n",
       "      <td>1</td>\n",
       "      <td>1</td>\n",
       "      <td>1</td>\n",
       "      <td>4</td>\n",
       "      <td>6</td>\n",
       "      <td>77183.600000</td>\n",
       "      <td>...</td>\n",
       "      <td>74215.000000</td>\n",
       "      <td>74215</td>\n",
       "      <td>1</td>\n",
       "      <td>0</td>\n",
       "      <td>0.000000</td>\n",
       "      <td>205</td>\n",
       "      <td>1</td>\n",
       "      <td>77183.600000</td>\n",
       "      <td>0.000000</td>\n",
       "      <td>0.004854</td>\n",
       "    </tr>\n",
       "    <tr>\n",
       "      <th>1</th>\n",
       "      <td>12347.0</td>\n",
       "      <td>9</td>\n",
       "      <td>124</td>\n",
       "      <td>2790.86</td>\n",
       "      <td>0</td>\n",
       "      <td>4</td>\n",
       "      <td>4</td>\n",
       "      <td>4</td>\n",
       "      <td>12</td>\n",
       "      <td>22.506935</td>\n",
       "      <td>...</td>\n",
       "      <td>12.822581</td>\n",
       "      <td>1590</td>\n",
       "      <td>5</td>\n",
       "      <td>237</td>\n",
       "      <td>47.400000</td>\n",
       "      <td>246</td>\n",
       "      <td>0</td>\n",
       "      <td>22.506935</td>\n",
       "      <td>1.065328</td>\n",
       "      <td>0.502024</td>\n",
       "    </tr>\n",
       "    <tr>\n",
       "      <th>2</th>\n",
       "      <td>12348.0</td>\n",
       "      <td>128</td>\n",
       "      <td>28</td>\n",
       "      <td>1487.24</td>\n",
       "      <td>1</td>\n",
       "      <td>2</td>\n",
       "      <td>2</td>\n",
       "      <td>4</td>\n",
       "      <td>8</td>\n",
       "      <td>53.115714</td>\n",
       "      <td>...</td>\n",
       "      <td>75.857143</td>\n",
       "      <td>2124</td>\n",
       "      <td>3</td>\n",
       "      <td>109</td>\n",
       "      <td>36.333333</td>\n",
       "      <td>237</td>\n",
       "      <td>0</td>\n",
       "      <td>53.115714</td>\n",
       "      <td>0.851359</td>\n",
       "      <td>0.117647</td>\n",
       "    </tr>\n",
       "    <tr>\n",
       "      <th>3</th>\n",
       "      <td>12350.0</td>\n",
       "      <td>189</td>\n",
       "      <td>17</td>\n",
       "      <td>334.40</td>\n",
       "      <td>1</td>\n",
       "      <td>1</td>\n",
       "      <td>2</td>\n",
       "      <td>2</td>\n",
       "      <td>5</td>\n",
       "      <td>19.670588</td>\n",
       "      <td>...</td>\n",
       "      <td>11.588235</td>\n",
       "      <td>197</td>\n",
       "      <td>1</td>\n",
       "      <td>0</td>\n",
       "      <td>0.000000</td>\n",
       "      <td>189</td>\n",
       "      <td>0</td>\n",
       "      <td>19.670588</td>\n",
       "      <td>0.351975</td>\n",
       "      <td>0.089474</td>\n",
       "    </tr>\n",
       "    <tr>\n",
       "      <th>4</th>\n",
       "      <td>12352.0</td>\n",
       "      <td>141</td>\n",
       "      <td>38</td>\n",
       "      <td>1561.81</td>\n",
       "      <td>1</td>\n",
       "      <td>1</td>\n",
       "      <td>3</td>\n",
       "      <td>4</td>\n",
       "      <td>8</td>\n",
       "      <td>41.100263</td>\n",
       "      <td>...</td>\n",
       "      <td>6.684211</td>\n",
       "      <td>254</td>\n",
       "      <td>5</td>\n",
       "      <td>34</td>\n",
       "      <td>6.800000</td>\n",
       "      <td>176</td>\n",
       "      <td>0</td>\n",
       "      <td>41.100263</td>\n",
       "      <td>1.775100</td>\n",
       "      <td>0.214689</td>\n",
       "    </tr>\n",
       "  </tbody>\n",
       "</table>\n",
       "<p>5 rows × 23 columns</p>\n",
       "</div>"
      ],
      "text/plain": [
       "   CustomerID  Recency  Frequency  Monetary  Churn  R_Score  F_Score  M_Score  \\\n",
       "0     12346.0      205          1  77183.60      1        1        1        4   \n",
       "1     12347.0        9        124   2790.86      0        4        4        4   \n",
       "2     12348.0      128         28   1487.24      1        2        2        4   \n",
       "3     12350.0      189         17    334.40      1        1        2        2   \n",
       "4     12352.0      141         38   1561.81      1        1        3        4   \n",
       "\n",
       "   RFM_Score_Combined  avg_order_value  ...  avg_items_per_order  \\\n",
       "0                   6     77183.600000  ...         74215.000000   \n",
       "1                  12        22.506935  ...            12.822581   \n",
       "2                   8        53.115714  ...            75.857143   \n",
       "3                   5        19.670588  ...            11.588235   \n",
       "4                   8        41.100263  ...             6.684211   \n",
       "\n",
       "   total_items_purchased  unique_purchase_days  customer_lifetime_days  \\\n",
       "0                  74215                     1                       0   \n",
       "1                   1590                     5                     237   \n",
       "2                   2124                     3                     109   \n",
       "3                    197                     1                       0   \n",
       "4                    254                     5                      34   \n",
       "\n",
       "   purchase_frequency_days  days_since_first_purchase  is_uk  \\\n",
       "0                 0.000000                        205      1   \n",
       "1                47.400000                        246      0   \n",
       "2                36.333333                        237      0   \n",
       "3                 0.000000                        189      0   \n",
       "4                 6.800000                        176      0   \n",
       "\n",
       "   value_per_frequency  consistency_ratio  purchase_acceleration  \n",
       "0         77183.600000           0.000000               0.004854  \n",
       "1            22.506935           1.065328               0.502024  \n",
       "2            53.115714           0.851359               0.117647  \n",
       "3            19.670588           0.351975               0.089474  \n",
       "4            41.100263           1.775100               0.214689  \n",
       "\n",
       "[5 rows x 23 columns]"
      ]
     },
     "metadata": {},
     "output_type": "display_data"
    }
   ],
   "source": [
    "## Part 2: Load RFM Analysis Results\n",
    "\n",
    "# Load the output from RFM analysis\n",
    "df_rfm = pd.read_csv('customer_features.csv')\n",
    "print(f\"Data loaded: {df_rfm.shape}\")\n",
    "print(f\"Columns: {df_rfm.columns.tolist()}\")\n",
    "\n",
    "# Verify churn definition (should be 120-day based on RFM analysis)\n",
    "print(f\"\\nChurn rate (120-day threshold): {df_rfm['Churn'].mean():.1%}\")\n",
    "# Display first few rows\n",
    "display(df_rfm.head())"
   ]
  },
  {
   "cell_type": "markdown",
   "id": "6f2e86e0",
   "metadata": {},
   "source": [
    "## Part 3: Data Leakage Detection\n",
    "### 3.1 Testing with 90-Day Threshold (Original Approach)"
   ]
  },
  {
   "cell_type": "code",
   "execution_count": 6,
   "id": "0ae52388",
   "metadata": {},
   "outputs": [
    {
     "name": "stdout",
     "output_type": "stream",
     "text": [
      "Comparison of Churn Definitions:\n"
     ]
    },
    {
     "data": {
      "application/vnd.microsoft.datawrangler.viewer.v0+json": {
       "columns": [
        {
         "name": "index",
         "rawType": "int64",
         "type": "integer"
        },
        {
         "name": "Threshold",
         "rawType": "object",
         "type": "string"
        },
        {
         "name": "Churn Rate",
         "rawType": "object",
         "type": "string"
        },
        {
         "name": "Total Churned",
         "rawType": "int64",
         "type": "integer"
        }
       ],
       "ref": "768a29e1-04e5-4343-b33e-8889ab8b41a3",
       "rows": [
        [
         "0",
         "90 days",
         "38.4%",
         "1234"
        ],
        [
         "1",
         "120 days",
         "28.6%",
         "920"
        ]
       ],
       "shape": {
        "columns": 3,
        "rows": 2
       }
      },
      "text/html": [
       "<div>\n",
       "<style scoped>\n",
       "    .dataframe tbody tr th:only-of-type {\n",
       "        vertical-align: middle;\n",
       "    }\n",
       "\n",
       "    .dataframe tbody tr th {\n",
       "        vertical-align: top;\n",
       "    }\n",
       "\n",
       "    .dataframe thead th {\n",
       "        text-align: right;\n",
       "    }\n",
       "</style>\n",
       "<table border=\"1\" class=\"dataframe\">\n",
       "  <thead>\n",
       "    <tr style=\"text-align: right;\">\n",
       "      <th></th>\n",
       "      <th>Threshold</th>\n",
       "      <th>Churn Rate</th>\n",
       "      <th>Total Churned</th>\n",
       "    </tr>\n",
       "  </thead>\n",
       "  <tbody>\n",
       "    <tr>\n",
       "      <th>0</th>\n",
       "      <td>90 days</td>\n",
       "      <td>38.4%</td>\n",
       "      <td>1234</td>\n",
       "    </tr>\n",
       "    <tr>\n",
       "      <th>1</th>\n",
       "      <td>120 days</td>\n",
       "      <td>28.6%</td>\n",
       "      <td>920</td>\n",
       "    </tr>\n",
       "  </tbody>\n",
       "</table>\n",
       "</div>"
      ],
      "text/plain": [
       "  Threshold Churn Rate  Total Churned\n",
       "0   90 days      38.4%           1234\n",
       "1  120 days      28.6%            920"
      ]
     },
     "metadata": {},
     "output_type": "display_data"
    },
    {
     "name": "stdout",
     "output_type": "stream",
     "text": [
      "\n",
      "Model Performance with 90-day threshold:\n"
     ]
    },
    {
     "data": {
      "application/vnd.microsoft.datawrangler.viewer.v0+json": {
       "columns": [
        {
         "name": "index",
         "rawType": "int64",
         "type": "integer"
        },
        {
         "name": "Model",
         "rawType": "object",
         "type": "string"
        },
        {
         "name": "Accuracy",
         "rawType": "object",
         "type": "string"
        }
       ],
       "ref": "f5a39af1-e16c-41db-87b9-0a0abb3abdca",
       "rows": [
        [
         "0",
         "Logistic Regression",
         "99.5%"
        ],
        [
         "1",
         "Random Forest",
         "100.0%"
        ],
        [
         "2",
         "Gradient Boosting",
         "100.0%"
        ]
       ],
       "shape": {
        "columns": 2,
        "rows": 3
       }
      },
      "text/html": [
       "<div>\n",
       "<style scoped>\n",
       "    .dataframe tbody tr th:only-of-type {\n",
       "        vertical-align: middle;\n",
       "    }\n",
       "\n",
       "    .dataframe tbody tr th {\n",
       "        vertical-align: top;\n",
       "    }\n",
       "\n",
       "    .dataframe thead th {\n",
       "        text-align: right;\n",
       "    }\n",
       "</style>\n",
       "<table border=\"1\" class=\"dataframe\">\n",
       "  <thead>\n",
       "    <tr style=\"text-align: right;\">\n",
       "      <th></th>\n",
       "      <th>Model</th>\n",
       "      <th>Accuracy</th>\n",
       "    </tr>\n",
       "  </thead>\n",
       "  <tbody>\n",
       "    <tr>\n",
       "      <th>0</th>\n",
       "      <td>Logistic Regression</td>\n",
       "      <td>99.5%</td>\n",
       "    </tr>\n",
       "    <tr>\n",
       "      <th>1</th>\n",
       "      <td>Random Forest</td>\n",
       "      <td>100.0%</td>\n",
       "    </tr>\n",
       "    <tr>\n",
       "      <th>2</th>\n",
       "      <td>Gradient Boosting</td>\n",
       "      <td>100.0%</td>\n",
       "    </tr>\n",
       "  </tbody>\n",
       "</table>\n",
       "</div>"
      ],
      "text/plain": [
       "                 Model Accuracy\n",
       "0  Logistic Regression    99.5%\n",
       "1        Random Forest   100.0%\n",
       "2    Gradient Boosting   100.0%"
      ]
     },
     "metadata": {},
     "output_type": "display_data"
    }
   ],
   "source": [
    "# Create 90-day churn to demonstrate why it causes leakage\n",
    "df_90 = df_rfm.copy()\n",
    "df_90['Churn_90'] = (df_90['Recency'] > 90).astype(int)\n",
    "\n",
    "print(\"Comparison of Churn Definitions:\")\n",
    "churn_comparison = pd.DataFrame({\n",
    "    'Threshold': ['90 days', '120 days'],\n",
    "    'Churn Rate': [f\"{df_90['Churn_90'].mean():.1%}\", f\"{df_rfm['Churn'].mean():.1%}\"],\n",
    "    'Total Churned': [df_90['Churn_90'].sum(), df_rfm['Churn'].sum()]\n",
    "})\n",
    "display(churn_comparison)\n",
    "\n",
    "# Test models with 90-day threshold\n",
    "X_90 = df_90.drop(['CustomerID', 'Churn', 'Churn_90'], axis=1)\n",
    "y_90 = df_90['Churn_90']\n",
    "\n",
    "X_train_90, X_test_90, y_train_90, y_test_90 = train_test_split(\n",
    "    X_90, y_90, test_size=0.2, random_state=42, stratify=y_90\n",
    ")\n",
    "\n",
    "# Scale features\n",
    "scaler_90 = StandardScaler()\n",
    "X_train_scaled_90 = scaler_90.fit_transform(X_train_90)\n",
    "X_test_scaled_90 = scaler_90.transform(X_test_90)\n",
    "\n",
    "# Test multiple models\n",
    "models_90 = {\n",
    "    'Logistic Regression': LogisticRegression(random_state=42, max_iter=1000),\n",
    "    'Random Forest': RandomForestClassifier(n_estimators=100, random_state=42),\n",
    "    'Gradient Boosting': GradientBoostingClassifier(n_estimators=100, random_state=42)\n",
    "}\n",
    "\n",
    "print(\"\\nModel Performance with 90-day threshold:\")\n",
    "results_90 = []\n",
    "for name, model in models_90.items():\n",
    "    model.fit(X_train_scaled_90, y_train_90)\n",
    "    acc = model.score(X_test_scaled_90, y_test_90)\n",
    "    results_90.append({'Model': name, 'Accuracy': f\"{acc:.1%}\"})\n",
    "    \n",
    "display(pd.DataFrame(results_90))"
   ]
  },
  {
   "cell_type": "markdown",
   "id": "298e9ade",
   "metadata": {},
   "source": [
    "### 3.2 Feature Correlation Analysis"
   ]
  },
  {
   "cell_type": "code",
   "execution_count": null,
   "id": "6321b8de",
   "metadata": {},
   "outputs": [
    {
     "name": "stdout",
     "output_type": "stream",
     "text": [
      "\n",
      "Top Features Correlated with Churn:\n"
     ]
    },
    {
     "data": {
      "application/vnd.microsoft.datawrangler.viewer.v0+json": {
       "columns": [
        {
         "name": "index",
         "rawType": "int64",
         "type": "integer"
        },
        {
         "name": "Feature",
         "rawType": "object",
         "type": "string"
        },
        {
         "name": "Correlation",
         "rawType": "float64",
         "type": "float"
        }
       ],
       "ref": "4ee3eb12-fb88-432b-b751-c78dc9a8ff43",
       "rows": [
        [
         "0",
         "Recency",
         "0.8542851203490947"
        ],
        [
         "3",
         "R_Score",
         "0.8135447070642562"
        ],
        [
         "6",
         "RFM_Score_Combined",
         "0.6426406752088606"
        ],
        [
         "14",
         "customer_lifetime_days",
         "0.5148836667943519"
        ],
        [
         "5",
         "M_Score",
         "0.4116263427334595"
        ]
       ],
       "shape": {
        "columns": 2,
        "rows": 5
       }
      },
      "text/html": [
       "<div>\n",
       "<style scoped>\n",
       "    .dataframe tbody tr th:only-of-type {\n",
       "        vertical-align: middle;\n",
       "    }\n",
       "\n",
       "    .dataframe tbody tr th {\n",
       "        vertical-align: top;\n",
       "    }\n",
       "\n",
       "    .dataframe thead th {\n",
       "        text-align: right;\n",
       "    }\n",
       "</style>\n",
       "<table border=\"1\" class=\"dataframe\">\n",
       "  <thead>\n",
       "    <tr style=\"text-align: right;\">\n",
       "      <th></th>\n",
       "      <th>Feature</th>\n",
       "      <th>Correlation</th>\n",
       "    </tr>\n",
       "  </thead>\n",
       "  <tbody>\n",
       "    <tr>\n",
       "      <th>0</th>\n",
       "      <td>Recency</td>\n",
       "      <td>0.854285</td>\n",
       "    </tr>\n",
       "    <tr>\n",
       "      <th>3</th>\n",
       "      <td>R_Score</td>\n",
       "      <td>0.813545</td>\n",
       "    </tr>\n",
       "    <tr>\n",
       "      <th>6</th>\n",
       "      <td>RFM_Score_Combined</td>\n",
       "      <td>0.642641</td>\n",
       "    </tr>\n",
       "    <tr>\n",
       "      <th>14</th>\n",
       "      <td>customer_lifetime_days</td>\n",
       "      <td>0.514884</td>\n",
       "    </tr>\n",
       "    <tr>\n",
       "      <th>5</th>\n",
       "      <td>M_Score</td>\n",
       "      <td>0.411626</td>\n",
       "    </tr>\n",
       "  </tbody>\n",
       "</table>\n",
       "</div>"
      ],
      "text/plain": [
       "                   Feature  Correlation\n",
       "0                  Recency     0.854285\n",
       "3                  R_Score     0.813545\n",
       "6       RFM_Score_Combined     0.642641\n",
       "14  customer_lifetime_days     0.514884\n",
       "5                  M_Score     0.411626"
      ]
     },
     "metadata": {},
     "output_type": "display_data"
    }
   ],
   "source": [
    "# Check correlation with churn\n",
    "correlations = pd.DataFrame({\n",
    "    'Feature': X_90.columns,\n",
    "    'Correlation': [abs(df_90[col].corr(df_90['Churn_90'])) for col in X_90.columns]\n",
    "}).sort_values('Correlation', ascending=False)\n",
    "\n",
    "print(\"\\nTop Features Correlated with Churn:\")\n",
    "display(correlations.head(5))"
   ]
  },
  {
   "cell_type": "markdown",
   "id": "f2fab2d1",
   "metadata": {},
   "source": [
    "## Part 4: Clean Model Development\n",
    "\n",
    "### 4.1 Create Clean Feature Set"
   ]
  },
  {
   "cell_type": "code",
   "execution_count": 12,
   "id": "8f5520d4",
   "metadata": {},
   "outputs": [
    {
     "name": "stdout",
     "output_type": "stream",
     "text": [
      "Original features: 21\n",
      "Features removed: ['Recency', 'R_Score', 'days_since_first_purchase']\n",
      "Clean features: 18\n"
     ]
    }
   ],
   "source": [
    "# Remove leaky features identified from correlation analysis\n",
    "features_to_remove = ['Recency', 'R_Score', 'days_since_first_purchase']\n",
    "\n",
    "# Prepare data with 120-day churn (production threshold)\n",
    "X = df_rfm.drop(['CustomerID', 'Churn'], axis=1)\n",
    "y = df_rfm['Churn']\n",
    "\n",
    "# Create clean features\n",
    "X_clean = X.drop(columns=[col for col in features_to_remove if col in X.columns])\n",
    "\n",
    "print(f\"Original features: {X.shape[1]}\")\n",
    "print(f\"Features removed: {features_to_remove}\")\n",
    "print(f\"Clean features: {X_clean.shape[1]}\")"
   ]
  },
  {
   "cell_type": "markdown",
   "id": "11db3cf8",
   "metadata": {},
   "source": [
    "### 4.2 Train-Test Split"
   ]
  },
  {
   "cell_type": "code",
   "execution_count": 14,
   "id": "70272779",
   "metadata": {},
   "outputs": [
    {
     "name": "stdout",
     "output_type": "stream",
     "text": [
      "Training set: (2569, 18)\n",
      "Test set: (643, 18)\n"
     ]
    }
   ],
   "source": [
    "X_train, X_test, y_train, y_test = train_test_split(\n",
    "    X_clean, y, test_size=0.2, random_state=42, stratify=y\n",
    ")\n",
    "\n",
    "# Scale features\n",
    "scaler = StandardScaler()\n",
    "X_train_scaled = scaler.fit_transform(X_train)\n",
    "X_test_scaled = scaler.transform(X_test)\n",
    "\n",
    "print(f\"Training set: {X_train_scaled.shape}\")\n",
    "print(f\"Test set: {X_test_scaled.shape}\")\n"
   ]
  },
  {
   "cell_type": "markdown",
   "id": "166a77e4",
   "metadata": {},
   "source": [
    "### 4.3 Model Training and Evaluation"
   ]
  },
  {
   "cell_type": "code",
   "execution_count": 16,
   "id": "9c5fb8c0",
   "metadata": {},
   "outputs": [
    {
     "name": "stdout",
     "output_type": "stream",
     "text": [
      "\n",
      "Final Model Performance (Clean Features):\n"
     ]
    },
    {
     "data": {
      "application/vnd.microsoft.datawrangler.viewer.v0+json": {
       "columns": [
        {
         "name": "index",
         "rawType": "int64",
         "type": "integer"
        },
        {
         "name": "Model",
         "rawType": "object",
         "type": "string"
        },
        {
         "name": "Accuracy",
         "rawType": "float64",
         "type": "float"
        },
        {
         "name": "Precision",
         "rawType": "float64",
         "type": "float"
        },
        {
         "name": "Recall",
         "rawType": "float64",
         "type": "float"
        },
        {
         "name": "F1-Score",
         "rawType": "float64",
         "type": "float"
        }
       ],
       "ref": "22b6ed95-5d48-4c52-ae72-3fd10e49c5b0",
       "rows": [
        [
         "0",
         "Logistic Regression",
         "0.956",
         "1.0",
         "0.848",
         "0.918"
        ],
        [
         "1",
         "Random Forest",
         "0.949",
         "0.958",
         "0.859",
         "0.905"
        ],
        [
         "2",
         "Gradient Boosting",
         "0.955",
         "0.975",
         "0.864",
         "0.916"
        ]
       ],
       "shape": {
        "columns": 5,
        "rows": 3
       }
      },
      "text/html": [
       "<div>\n",
       "<style scoped>\n",
       "    .dataframe tbody tr th:only-of-type {\n",
       "        vertical-align: middle;\n",
       "    }\n",
       "\n",
       "    .dataframe tbody tr th {\n",
       "        vertical-align: top;\n",
       "    }\n",
       "\n",
       "    .dataframe thead th {\n",
       "        text-align: right;\n",
       "    }\n",
       "</style>\n",
       "<table border=\"1\" class=\"dataframe\">\n",
       "  <thead>\n",
       "    <tr style=\"text-align: right;\">\n",
       "      <th></th>\n",
       "      <th>Model</th>\n",
       "      <th>Accuracy</th>\n",
       "      <th>Precision</th>\n",
       "      <th>Recall</th>\n",
       "      <th>F1-Score</th>\n",
       "    </tr>\n",
       "  </thead>\n",
       "  <tbody>\n",
       "    <tr>\n",
       "      <th>0</th>\n",
       "      <td>Logistic Regression</td>\n",
       "      <td>0.956</td>\n",
       "      <td>1.000</td>\n",
       "      <td>0.848</td>\n",
       "      <td>0.918</td>\n",
       "    </tr>\n",
       "    <tr>\n",
       "      <th>1</th>\n",
       "      <td>Random Forest</td>\n",
       "      <td>0.949</td>\n",
       "      <td>0.958</td>\n",
       "      <td>0.859</td>\n",
       "      <td>0.905</td>\n",
       "    </tr>\n",
       "    <tr>\n",
       "      <th>2</th>\n",
       "      <td>Gradient Boosting</td>\n",
       "      <td>0.955</td>\n",
       "      <td>0.975</td>\n",
       "      <td>0.864</td>\n",
       "      <td>0.916</td>\n",
       "    </tr>\n",
       "  </tbody>\n",
       "</table>\n",
       "</div>"
      ],
      "text/plain": [
       "                 Model  Accuracy  Precision  Recall  F1-Score\n",
       "0  Logistic Regression     0.956      1.000   0.848     0.918\n",
       "1        Random Forest     0.949      0.958   0.859     0.905\n",
       "2    Gradient Boosting     0.955      0.975   0.864     0.916"
      ]
     },
     "metadata": {},
     "output_type": "display_data"
    }
   ],
   "source": [
    "models = {\n",
    "    'Logistic Regression': LogisticRegression(random_state=42, max_iter=1000),\n",
    "    'Random Forest': RandomForestClassifier(n_estimators=100, random_state=42),\n",
    "    'Gradient Boosting': GradientBoostingClassifier(n_estimators=100, random_state=42)\n",
    "}\n",
    "\n",
    "results = []\n",
    "for name, model in models.items():\n",
    "    model.fit(X_train_scaled, y_train)\n",
    "    y_pred = model.predict(X_test_scaled)\n",
    "    \n",
    "    results.append({\n",
    "        'Model': name,\n",
    "        'Accuracy': accuracy_score(y_test, y_pred),\n",
    "        'Precision': precision_score(y_test, y_pred),\n",
    "        'Recall': recall_score(y_test, y_pred),\n",
    "        'F1-Score': f1_score(y_test, y_pred)\n",
    "    })\n",
    "\n",
    "results_df = pd.DataFrame(results).round(3)\n",
    "print(\"\\nFinal Model Performance (Clean Features):\")\n",
    "display(results_df)\n",
    "#!/usr/bin/env python3  "
   ]
  },
  {
   "cell_type": "markdown",
   "id": "274b0791",
   "metadata": {},
   "source": [
    "## Part 5: Summary"
   ]
  },
  {
   "cell_type": "code",
   "execution_count": 17,
   "id": "454fb61d",
   "metadata": {},
   "outputs": [
    {
     "name": "stdout",
     "output_type": "stream",
     "text": [
      "\n",
      "Data Leakage Resolution Summary:\n"
     ]
    },
    {
     "data": {
      "application/vnd.microsoft.datawrangler.viewer.v0+json": {
       "columns": [
        {
         "name": "index",
         "rawType": "int64",
         "type": "integer"
        },
        {
         "name": "Scenario",
         "rawType": "object",
         "type": "string"
        },
        {
         "name": "Best Accuracy",
         "rawType": "object",
         "type": "string"
        },
        {
         "name": "Key Issue",
         "rawType": "object",
         "type": "string"
        }
       ],
       "ref": "0b37eed1-d1d4-4ec9-9a58-b78337dd23e8",
       "rows": [
        [
         "0",
         "90-day with leakage",
         "~100%",
         "Data leakage via Recency"
        ],
        [
         "1",
         "120-day clean features",
         "~95%",
         "None - Production ready"
        ]
       ],
       "shape": {
        "columns": 3,
        "rows": 2
       }
      },
      "text/html": [
       "<div>\n",
       "<style scoped>\n",
       "    .dataframe tbody tr th:only-of-type {\n",
       "        vertical-align: middle;\n",
       "    }\n",
       "\n",
       "    .dataframe tbody tr th {\n",
       "        vertical-align: top;\n",
       "    }\n",
       "\n",
       "    .dataframe thead th {\n",
       "        text-align: right;\n",
       "    }\n",
       "</style>\n",
       "<table border=\"1\" class=\"dataframe\">\n",
       "  <thead>\n",
       "    <tr style=\"text-align: right;\">\n",
       "      <th></th>\n",
       "      <th>Scenario</th>\n",
       "      <th>Best Accuracy</th>\n",
       "      <th>Key Issue</th>\n",
       "    </tr>\n",
       "  </thead>\n",
       "  <tbody>\n",
       "    <tr>\n",
       "      <th>0</th>\n",
       "      <td>90-day with leakage</td>\n",
       "      <td>~100%</td>\n",
       "      <td>Data leakage via Recency</td>\n",
       "    </tr>\n",
       "    <tr>\n",
       "      <th>1</th>\n",
       "      <td>120-day clean features</td>\n",
       "      <td>~95%</td>\n",
       "      <td>None - Production ready</td>\n",
       "    </tr>\n",
       "  </tbody>\n",
       "</table>\n",
       "</div>"
      ],
      "text/plain": [
       "                 Scenario Best Accuracy                 Key Issue\n",
       "0     90-day with leakage         ~100%  Data leakage via Recency\n",
       "1  120-day clean features          ~95%   None - Production ready"
      ]
     },
     "metadata": {},
     "output_type": "display_data"
    }
   ],
   "source": [
    "comparison_summary = pd.DataFrame({\n",
    "    'Scenario': ['90-day with leakage', '120-day clean features'],\n",
    "    'Best Accuracy': ['~100%', '~95%'],\n",
    "    'Key Issue': ['Data leakage via Recency', 'None - Production ready']\n",
    "})\n",
    "\n",
    "print(\"\\nData Leakage Resolution Summary:\")\n",
    "display(comparison_summary)"
   ]
  }
 ],
 "metadata": {
  "kernelspec": {
   "display_name": "base",
   "language": "python",
   "name": "python3"
  },
  "language_info": {
   "codemirror_mode": {
    "name": "ipython",
    "version": 3
   },
   "file_extension": ".py",
   "mimetype": "text/x-python",
   "name": "python",
   "nbconvert_exporter": "python",
   "pygments_lexer": "ipython3",
   "version": "3.12.2"
  }
 },
 "nbformat": 4,
 "nbformat_minor": 5
}
