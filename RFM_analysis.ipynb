{
 "cells": [
  {
   "cell_type": "markdown",
   "id": "89047983",
   "metadata": {},
   "source": [
    "# Part 2: RFM Analysis\n",
    "## 2.1:  Load Data and Define Analysis Period\n",
    "**Note: Dataset**: includes multiple countries (UK, France, Australia, etc.), **Monetary** values are presented without currency conversion\n",
    "\n"
   ]
  },
  {
   "cell_type": "code",
   "execution_count": null,
   "id": "f3d6124b",
   "metadata": {},
   "outputs": [],
   "source": [
    "# import library and load clean data\n",
    "\n",
    "import pandas as pd\n",
    "import numpy as np\n",
    "import matplotlib.pyplot as plt\n",
    "import seaborn as sns\n",
    "from datetime import datetime, timedelta\n",
    "import warnings\n",
    "warnings.filterwarnings('ignore')\n",
    "\n",
    "# Display settings\n",
    "pd.set_option('display.max_columns', None)\n",
    "pd.set_option('display.float_format', '{:.2f}'.format)\n",
    "\n",
    "# Load the cleaned data\n",
    "df_clean = pd.read_csv('clean_retail_data.csv')\n",
    "df_clean['InvoiceDate'] = pd.to_datetime(df_clean['InvoiceDate'])\n",
    "\n"
   ]
  },
  {
   "cell_type": "markdown",
   "id": "e7844ecd",
   "metadata": {},
   "source": [
    "## 2.1.2 Understand the Data Timeline"
   ]
  },
  {
   "cell_type": "code",
   "execution_count": 77,
   "id": "9c4956f5",
   "metadata": {},
   "outputs": [
    {
     "data": {
      "text/html": [
       "<style type=\"text/css\">\n",
       "#T_84350_row0_col0, #T_84350_row0_col1, #T_84350_row0_col2, #T_84350_row0_col3, #T_84350_row0_col4 {\n",
       "  text-align: left;\n",
       "}\n",
       "</style>\n",
       "<table id=\"T_84350\">\n",
       "  <thead>\n",
       "    <tr>\n",
       "      <th class=\"blank level0\" >&nbsp;</th>\n",
       "      <th id=\"T_84350_level0_col0\" class=\"col_heading level0 col0\" >min_date</th>\n",
       "      <th id=\"T_84350_level0_col1\" class=\"col_heading level0 col1\" >max_date</th>\n",
       "      <th id=\"T_84350_level0_col2\" class=\"col_heading level0 col2\" >total_days</th>\n",
       "      <th id=\"T_84350_level0_col3\" class=\"col_heading level0 col3\" >total_customers</th>\n",
       "      <th id=\"T_84350_level0_col4\" class=\"col_heading level0 col4\" >total_transactions</th>\n",
       "    </tr>\n",
       "  </thead>\n",
       "  <tbody>\n",
       "    <tr>\n",
       "      <th id=\"T_84350_level0_row0\" class=\"row_heading level0 row0\" >0</th>\n",
       "      <td id=\"T_84350_row0_col0\" class=\"data row0 col0\" >2010-12-01 08:26:00</td>\n",
       "      <td id=\"T_84350_row0_col1\" class=\"data row0 col1\" >2011-12-09 12:50:00</td>\n",
       "      <td id=\"T_84350_row0_col2\" class=\"data row0 col2\" >373</td>\n",
       "      <td id=\"T_84350_row0_col3\" class=\"data row0 col3\" >4338</td>\n",
       "      <td id=\"T_84350_row0_col4\" class=\"data row0 col4\" >392617</td>\n",
       "    </tr>\n",
       "  </tbody>\n",
       "</table>\n"
      ],
      "text/plain": [
       "<pandas.io.formats.style.Styler at 0x361815ca0>"
      ]
     },
     "execution_count": 77,
     "metadata": {},
     "output_type": "execute_result"
    }
   ],
   "source": [
    "# Get basic date information\n",
    "min_date = df_clean['InvoiceDate'].min()\n",
    "max_date = df_clean['InvoiceDate'].max()\n",
    "date_range = (max_date - min_date).days\n",
    "\n",
    "# Store for reference\n",
    "data_info = {\n",
    "    'min_date': min_date,\n",
    "    'max_date': max_date,\n",
    "    'total_days': date_range,\n",
    "    'total_customers': df_clean['CustomerID'].nunique(),\n",
    "    'total_transactions': len(df_clean)\n",
    "}\n",
    "# Display the data information\n",
    "data_info_df = pd.DataFrame([data_info])\n",
    "data_info_df\n",
    "# Display the data information\n",
    "data_info_df.style.set_properties(**{'text-align': 'left'})"
   ]
  },
  {
   "cell_type": "markdown",
   "id": "6bf4a979",
   "metadata": {},
   "source": [
    "# 2.1.3 Define Churn Threshold and Analysis Period\n",
    "## Justification for 120-day churn:\n",
    "\n",
    "## Domain-Specific Considerations\n",
    "\n",
    "### Business Context: Gift E-commerce\n",
    "- Purchase patterns are occasion-driven, not need-driven\n",
    "- Average customer purchases 2-4 times per year (birthdays, holidays)\n",
    "- 90-day churn threshold inappropriate for gift retail\n",
    "- Industry standard for retail (90-120 days) \n",
    "- Provides sufficient historical data for training\n",
    "- Aligns with quarterly business cycles"
   ]
  },
  {
   "cell_type": "code",
   "execution_count": 78,
   "id": "7647274d",
   "metadata": {},
   "outputs": [],
   "source": [
    "# Define churn parameters\n",
    "CHURN_DAYS = 120  # Customer churned if no purchase in 120 days\n",
    "\n",
    "# Split data for training and validation\n",
    "# Use last 90 days as holdout for validation\n",
    "ANALYSIS_DATE = max_date - timedelta(days=120)\n",
    "\n",
    "# Create training dataset (all transactions before analysis date)\n",
    "df_train = df_clean[df_clean['InvoiceDate'] <= ANALYSIS_DATE].copy()\n",
    "\n"
   ]
  },
  {
   "cell_type": "markdown",
   "id": "1760966b",
   "metadata": {},
   "source": [
    "# 2.1.4 Verify Data Split"
   ]
  },
  {
   "cell_type": "code",
   "execution_count": 79,
   "id": "dc71e241",
   "metadata": {},
   "outputs": [
    {
     "name": "stdout",
     "output_type": "stream",
     "text": [
      "Training data: 52.7% of transactions\n",
      "Training period: 67.8% of time range\n"
     ]
    }
   ],
   "source": [
    "# Check the split\n",
    "train_customers = df_train['CustomerID'].nunique()\n",
    "train_transactions = len(df_train)\n",
    "\n",
    "# Calculate percentage of data in training\n",
    "train_pct_transactions = (train_transactions / len(df_clean)) * 100\n",
    "train_pct_time = ((ANALYSIS_DATE - min_date).days / date_range) * 100\n",
    "\n",
    "print(f\"Training data: {train_pct_transactions:.1f}% of transactions\")\n",
    "print(f\"Training period: {train_pct_time:.1f}% of time range\")"
   ]
  },
  {
   "cell_type": "markdown",
   "id": "ca8a81fe",
   "metadata": {},
   "source": [
    "# 2.2 Calculate RFM Metrics\n",
    "## 2.2.1 Create RFM Table\n",
    "----- \n",
    "## RFM Components:\n",
    "\n",
    "- Recency: Days since last purchase (lower is better)\n",
    "- Frequency: Total number of transactions (higher is better)\n",
    "- Monetary: Total amount spent (higher is better)"
   ]
  },
  {
   "cell_type": "code",
   "execution_count": null,
   "id": "9495d6b3",
   "metadata": {},
   "outputs": [
    {
     "name": "stdout",
     "output_type": "stream",
     "text": [
      "RFM table created successfully!\n",
      "Shape: (3212, 4)\n",
      "\n",
      "First 5 customers:\n"
     ]
    },
    {
     "data": {
      "application/vnd.microsoft.datawrangler.viewer.v0+json": {
       "columns": [
        {
         "name": "index",
         "rawType": "int64",
         "type": "integer"
        },
        {
         "name": "CustomerID",
         "rawType": "float64",
         "type": "float"
        },
        {
         "name": "Recency",
         "rawType": "int64",
         "type": "integer"
        },
        {
         "name": "Frequency",
         "rawType": "int64",
         "type": "integer"
        },
        {
         "name": "Monetary",
         "rawType": "float64",
         "type": "float"
        }
       ],
       "ref": "b6827e10-36a9-47da-ba97-35cf8d833adf",
       "rows": [
        [
         "0",
         "12346.0",
         "205",
         "1",
         "77183.6"
        ],
        [
         "1",
         "12347.0",
         "9",
         "124",
         "2790.86"
        ],
        [
         "2",
         "12348.0",
         "128",
         "28",
         "1487.24"
        ],
        [
         "3",
         "12350.0",
         "189",
         "17",
         "334.4"
        ],
        [
         "4",
         "12352.0",
         "141",
         "38",
         "1561.81"
        ]
       ],
       "shape": {
        "columns": 4,
        "rows": 5
       }
      },
      "text/html": [
       "<div>\n",
       "<style scoped>\n",
       "    .dataframe tbody tr th:only-of-type {\n",
       "        vertical-align: middle;\n",
       "    }\n",
       "\n",
       "    .dataframe tbody tr th {\n",
       "        vertical-align: top;\n",
       "    }\n",
       "\n",
       "    .dataframe thead th {\n",
       "        text-align: right;\n",
       "    }\n",
       "</style>\n",
       "<table border=\"1\" class=\"dataframe\">\n",
       "  <thead>\n",
       "    <tr style=\"text-align: right;\">\n",
       "      <th></th>\n",
       "      <th>CustomerID</th>\n",
       "      <th>Recency</th>\n",
       "      <th>Frequency</th>\n",
       "      <th>Monetary</th>\n",
       "    </tr>\n",
       "  </thead>\n",
       "  <tbody>\n",
       "    <tr>\n",
       "      <th>0</th>\n",
       "      <td>12346.00</td>\n",
       "      <td>205</td>\n",
       "      <td>1</td>\n",
       "      <td>77183.60</td>\n",
       "    </tr>\n",
       "    <tr>\n",
       "      <th>1</th>\n",
       "      <td>12347.00</td>\n",
       "      <td>9</td>\n",
       "      <td>124</td>\n",
       "      <td>2790.86</td>\n",
       "    </tr>\n",
       "    <tr>\n",
       "      <th>2</th>\n",
       "      <td>12348.00</td>\n",
       "      <td>128</td>\n",
       "      <td>28</td>\n",
       "      <td>1487.24</td>\n",
       "    </tr>\n",
       "    <tr>\n",
       "      <th>3</th>\n",
       "      <td>12350.00</td>\n",
       "      <td>189</td>\n",
       "      <td>17</td>\n",
       "      <td>334.40</td>\n",
       "    </tr>\n",
       "    <tr>\n",
       "      <th>4</th>\n",
       "      <td>12352.00</td>\n",
       "      <td>141</td>\n",
       "      <td>38</td>\n",
       "      <td>1561.81</td>\n",
       "    </tr>\n",
       "  </tbody>\n",
       "</table>\n",
       "</div>"
      ],
      "text/plain": [
       "   CustomerID  Recency  Frequency  Monetary\n",
       "0    12346.00      205          1  77183.60\n",
       "1    12347.00        9        124   2790.86\n",
       "2    12348.00      128         28   1487.24\n",
       "3    12350.00      189         17    334.40\n",
       "4    12352.00      141         38   1561.81"
      ]
     },
     "execution_count": 80,
     "metadata": {},
     "output_type": "execute_result"
    }
   ],
   "source": [
    "# Calculate RFM metrics for each customer\n",
    "rfm = df_train.groupby('CustomerID').agg({\n",
    "    'InvoiceDate': lambda x: (ANALYSIS_DATE - x.max()).days,   # Recency\n",
    "    'Quantity': 'count',                                       # Frequency (count transactions)\n",
    "    'TotalPrice': 'sum'                                        # Monetary\n",
    "}).reset_index()\n",
    "\n",
    "# Rename columns for clarity\n",
    "rfm.columns = ['CustomerID', 'Recency', 'Frequency', 'Monetary']\n",
    "\n",
    "# Check the shape and basic stats\n",
    "rfm_shape = rfm.shape\n",
    "rfm_stats = rfm[['Recency', 'Frequency', 'Monetary']].describe()\n",
    "\n",
    "# Verify no negative values in RFM metrics\n",
    "assert (rfm['Recency'] >= 0).all(), \"Negative recency values found\"\n",
    "assert (rfm['Frequency'] > 0).all(), \"Zero or negative frequency found\"\n",
    "assert (rfm['Monetary'] > 0).all(), \"Zero or negative monetary values found\"\n",
    "\n",
    "# Check for any missing values\n",
    "assert rfm.isnull().sum().sum() == 0, \"Missing values found in RFM table\"\n",
    "\n",
    "# Display the results\n",
    "print(f\"RFM table created successfully!\")\n",
    "print(f\"Shape: {rfm_shape}\")\n",
    "print(f\"\\nFirst 5 customers:\")\n",
    "\n",
    "# Display the first 5 rows of the RFM table\n",
    "rfm.head()"
   ]
  },
  {
   "cell_type": "markdown",
   "id": "88f81043",
   "metadata": {},
   "source": [
    "## 2.2.2 Create Churn Label\n",
    "- Churn Definition: Customer has churned if they haven't purchased in the last 120 day"
   ]
  },
  {
   "cell_type": "code",
   "execution_count": 81,
   "id": "d33a3cca",
   "metadata": {},
   "outputs": [
    {
     "data": {
      "application/vnd.microsoft.datawrangler.viewer.v0+json": {
       "columns": [
        {
         "name": "index",
         "rawType": "int64",
         "type": "integer"
        },
        {
         "name": "Total Customers",
         "rawType": "int64",
         "type": "integer"
        },
        {
         "name": "Churned Customers",
         "rawType": "int64",
         "type": "integer"
        },
        {
         "name": "Active Customers",
         "rawType": "int64",
         "type": "integer"
        },
        {
         "name": "Churn Rate",
         "rawType": "float64",
         "type": "float"
        }
       ],
       "ref": "75e0d141-454c-4ec9-96e9-871e8ed8b876",
       "rows": [
        [
         "0",
         "3212",
         "920",
         "2292",
         "0.286425902864259"
        ]
       ],
       "shape": {
        "columns": 4,
        "rows": 1
       }
      },
      "text/html": [
       "<div>\n",
       "<style scoped>\n",
       "    .dataframe tbody tr th:only-of-type {\n",
       "        vertical-align: middle;\n",
       "    }\n",
       "\n",
       "    .dataframe tbody tr th {\n",
       "        vertical-align: top;\n",
       "    }\n",
       "\n",
       "    .dataframe thead th {\n",
       "        text-align: right;\n",
       "    }\n",
       "</style>\n",
       "<table border=\"1\" class=\"dataframe\">\n",
       "  <thead>\n",
       "    <tr style=\"text-align: right;\">\n",
       "      <th></th>\n",
       "      <th>Total Customers</th>\n",
       "      <th>Churned Customers</th>\n",
       "      <th>Active Customers</th>\n",
       "      <th>Churn Rate</th>\n",
       "    </tr>\n",
       "  </thead>\n",
       "  <tbody>\n",
       "    <tr>\n",
       "      <th>0</th>\n",
       "      <td>3212</td>\n",
       "      <td>920</td>\n",
       "      <td>2292</td>\n",
       "      <td>0.29</td>\n",
       "    </tr>\n",
       "  </tbody>\n",
       "</table>\n",
       "</div>"
      ],
      "text/plain": [
       "   Total Customers  Churned Customers  Active Customers  Churn Rate\n",
       "0             3212                920              2292        0.29"
      ]
     },
     "execution_count": 81,
     "metadata": {},
     "output_type": "execute_result"
    }
   ],
   "source": [
    "# Create binary churn label\n",
    "rfm['Churn'] = (rfm['Recency'] > CHURN_DAYS).astype(int)\n",
    "\n",
    "# Calculate churn statistics\n",
    "churn_rate = rfm['Churn'].mean()\n",
    "churned_customers = rfm['Churn'].sum()\n",
    "active_customers = len(rfm) - churned_customers\n",
    "\n",
    "# Display churn statistics\n",
    "churn_stats = pd.DataFrame({\n",
    "    'Total Customers': [len(rfm)],\n",
    "    'Churned Customers': [churned_customers],\n",
    "    'Active Customers': [active_customers],\n",
    "    'Churn Rate': [churn_rate]\n",
    "})\n",
    "\n",
    "churn_stats\n"
   ]
  },
  {
   "cell_type": "markdown",
   "id": "b2822c52",
   "metadata": {},
   "source": [
    "## 2.2.3 Validate Churn Label with Future Data"
   ]
  },
  {
   "cell_type": "code",
   "execution_count": 103,
   "id": "a747a905",
   "metadata": {},
   "outputs": [],
   "source": [
    "# Check if churned customers actually didn't purchase in validation period\n",
    "validation_customers = df_clean[\n",
    "    df_clean['InvoiceDate'] > ANALYSIS_DATE\n",
    "]['CustomerID'].unique()\n",
    "\n",
    "# Find customers that were marked as churned\n",
    "churned_customer_ids = rfm[rfm['Churn'] == 1]['CustomerID'].values\n",
    "\n",
    "# Check how many \"churned\" customers actually came back\n",
    "reactivated = np.intersect1d(churned_customer_ids, validation_customers)\n",
    "reactivation_rate = len(reactivated) / len(churned_customer_ids) if len(churned_customer_ids) > 0 else 0"
   ]
  },
  {
   "cell_type": "markdown",
   "id": "32dd31e9",
   "metadata": {},
   "source": [
    "# 2.3 Customer Segmentation"
   ]
  },
  {
   "cell_type": "markdown",
   "id": "8fe6f644",
   "metadata": {},
   "source": [
    "## 2.3.1 K-Means Clustering Approach\n",
    "### Rationale: Using unsupervised learning to discover natural customer segments"
   ]
  },
  {
   "cell_type": "code",
   "execution_count": 104,
   "id": "dc64a841",
   "metadata": {},
   "outputs": [],
   "source": [
    "# Import required libraries for clustering\n",
    "from sklearn.cluster import KMeans\n",
    "from sklearn.preprocessing import StandardScaler\n",
    "from sklearn.metrics import silhouette_score\n",
    "import matplotlib.pyplot as plt\n",
    "import seaborn as sns"
   ]
  },
  {
   "cell_type": "markdown",
   "id": "9dfab0b0",
   "metadata": {},
   "source": [
    "### 2.3.1.1 Data Preparation for K-Means"
   ]
  },
  {
   "cell_type": "code",
   "execution_count": 105,
   "id": "6eefde73",
   "metadata": {},
   "outputs": [
    {
     "data": {
      "application/vnd.microsoft.datawrangler.viewer.v0+json": {
       "columns": [
        {
         "name": "index",
         "rawType": "object",
         "type": "string"
        },
        {
         "name": "Original_Mean",
         "rawType": "float64",
         "type": "float"
        },
        {
         "name": "Original_Std",
         "rawType": "float64",
         "type": "float"
        },
        {
         "name": "Scaled_Mean",
         "rawType": "float64",
         "type": "float"
        },
        {
         "name": "Scaled_Std",
         "rawType": "float64",
         "type": "float"
        }
       ],
       "ref": "310a78d2-e5d4-4170-96ae-237281bcbba9",
       "rows": [
        [
         "Frequency",
         "64.4284",
         "130.8823",
         null,
         null
        ],
        [
         "Frequency_scaled",
         null,
         null,
         "0.0",
         "1.0002"
        ],
        [
         "Monetary",
         "1500.0794",
         "5491.0074",
         null,
         null
        ],
        [
         "Monetary_scaled",
         null,
         null,
         "-0.0",
         "1.0002"
        ],
        [
         "Recency",
         "84.453",
         "71.0324",
         null,
         null
        ],
        [
         "Recency_scaled",
         null,
         null,
         "0.0",
         "1.0002"
        ]
       ],
       "shape": {
        "columns": 4,
        "rows": 6
       }
      },
      "text/html": [
       "<div>\n",
       "<style scoped>\n",
       "    .dataframe tbody tr th:only-of-type {\n",
       "        vertical-align: middle;\n",
       "    }\n",
       "\n",
       "    .dataframe tbody tr th {\n",
       "        vertical-align: top;\n",
       "    }\n",
       "\n",
       "    .dataframe thead th {\n",
       "        text-align: right;\n",
       "    }\n",
       "</style>\n",
       "<table border=\"1\" class=\"dataframe\">\n",
       "  <thead>\n",
       "    <tr style=\"text-align: right;\">\n",
       "      <th></th>\n",
       "      <th>Original_Mean</th>\n",
       "      <th>Original_Std</th>\n",
       "      <th>Scaled_Mean</th>\n",
       "      <th>Scaled_Std</th>\n",
       "    </tr>\n",
       "  </thead>\n",
       "  <tbody>\n",
       "    <tr>\n",
       "      <th>Frequency</th>\n",
       "      <td>64.43</td>\n",
       "      <td>130.88</td>\n",
       "      <td>NaN</td>\n",
       "      <td>NaN</td>\n",
       "    </tr>\n",
       "    <tr>\n",
       "      <th>Frequency_scaled</th>\n",
       "      <td>NaN</td>\n",
       "      <td>NaN</td>\n",
       "      <td>0.00</td>\n",
       "      <td>1.00</td>\n",
       "    </tr>\n",
       "    <tr>\n",
       "      <th>Monetary</th>\n",
       "      <td>1500.08</td>\n",
       "      <td>5491.01</td>\n",
       "      <td>NaN</td>\n",
       "      <td>NaN</td>\n",
       "    </tr>\n",
       "    <tr>\n",
       "      <th>Monetary_scaled</th>\n",
       "      <td>NaN</td>\n",
       "      <td>NaN</td>\n",
       "      <td>-0.00</td>\n",
       "      <td>1.00</td>\n",
       "    </tr>\n",
       "    <tr>\n",
       "      <th>Recency</th>\n",
       "      <td>84.45</td>\n",
       "      <td>71.03</td>\n",
       "      <td>NaN</td>\n",
       "      <td>NaN</td>\n",
       "    </tr>\n",
       "    <tr>\n",
       "      <th>Recency_scaled</th>\n",
       "      <td>NaN</td>\n",
       "      <td>NaN</td>\n",
       "      <td>0.00</td>\n",
       "      <td>1.00</td>\n",
       "    </tr>\n",
       "  </tbody>\n",
       "</table>\n",
       "</div>"
      ],
      "text/plain": [
       "                  Original_Mean  Original_Std  Scaled_Mean  Scaled_Std\n",
       "Frequency                 64.43        130.88          NaN         NaN\n",
       "Frequency_scaled            NaN           NaN         0.00        1.00\n",
       "Monetary                1500.08       5491.01          NaN         NaN\n",
       "Monetary_scaled             NaN           NaN        -0.00        1.00\n",
       "Recency                   84.45         71.03          NaN         NaN\n",
       "Recency_scaled              NaN           NaN         0.00        1.00"
      ]
     },
     "execution_count": 105,
     "metadata": {},
     "output_type": "execute_result"
    }
   ],
   "source": [
    "# Select RFM features for clustering\n",
    "# Note: Using raw RFM values, not scores, for data-driven segmentation\n",
    "clustering_features = rfm[['Recency', 'Frequency', 'Monetary']].copy()\n",
    "\n",
    "# Standardize features - critical for K-Means\n",
    "# K-Means uses Euclidean distance, so features must be on same scale\n",
    "scaler = StandardScaler()\n",
    "rfm_scaled = scaler.fit_transform(clustering_features)\n",
    "\n",
    "# Store scaled data in DataFrame for analysis\n",
    "rfm_scaled_df = pd.DataFrame(\n",
    "    rfm_scaled, \n",
    "    columns=['Recency_scaled', 'Frequency_scaled', 'Monetary_scaled'],\n",
    "    index=rfm.index\n",
    ")\n",
    "\n",
    "# Display scaling statistics\n",
    "scaling_stats = pd.DataFrame({\n",
    "    'Original_Mean': clustering_features.mean(),\n",
    "    'Original_Std': clustering_features.std(),\n",
    "    'Scaled_Mean': rfm_scaled_df.mean(),\n",
    "    'Scaled_Std': rfm_scaled_df.std()\n",
    "}).round(4)\n",
    "\n",
    "scaling_stats"
   ]
  },
  {
   "cell_type": "markdown",
   "id": "7d9c4bf1",
   "metadata": {},
   "source": [
    "### 2.3.1.2 Determine Optimal Number of Clusters"
   ]
  },
  {
   "cell_type": "code",
   "execution_count": 85,
   "id": "1c6b943e",
   "metadata": {},
   "outputs": [
    {
     "data": {
      "application/vnd.microsoft.datawrangler.viewer.v0+json": {
       "columns": [
        {
         "name": "index",
         "rawType": "int64",
         "type": "integer"
        },
        {
         "name": "K",
         "rawType": "int64",
         "type": "integer"
        },
        {
         "name": "Inertia",
         "rawType": "float64",
         "type": "float"
        },
        {
         "name": "Silhouette_Score",
         "rawType": "float64",
         "type": "float"
        },
        {
         "name": "Inertia_Change",
         "rawType": "float64",
         "type": "float"
        },
        {
         "name": "Inertia_Change_Rate",
         "rawType": "float64",
         "type": "float"
        }
       ],
       "ref": "12055b45-c5bc-4a3d-ae6c-7643cc396633",
       "rows": [
        [
         "0",
         "2",
         "6795.4068",
         "0.8913",
         "0.0",
         "0.0"
        ],
        [
         "1",
         "3",
         "4265.4923",
         "0.506",
         "2529.9145",
         "37.2298"
        ],
        [
         "2",
         "4",
         "3379.1103",
         "0.5131",
         "886.382",
         "20.7803"
        ],
        [
         "3",
         "5",
         "2554.3966",
         "0.5263",
         "824.7136",
         "24.4062"
        ],
        [
         "4",
         "6",
         "2147.1282",
         "0.4426",
         "407.2684",
         "15.9438"
        ],
        [
         "5",
         "7",
         "1749.1281",
         "0.451",
         "398.0001",
         "18.5364"
        ],
        [
         "6",
         "8",
         "1578.1947",
         "0.4342",
         "170.9334",
         "9.7725"
        ],
        [
         "7",
         "9",
         "1281.2872",
         "0.4528",
         "296.9075",
         "18.8131"
        ],
        [
         "8",
         "10",
         "1104.3236",
         "0.4098",
         "176.9636",
         "13.8114"
        ]
       ],
       "shape": {
        "columns": 5,
        "rows": 9
       }
      },
      "text/html": [
       "<div>\n",
       "<style scoped>\n",
       "    .dataframe tbody tr th:only-of-type {\n",
       "        vertical-align: middle;\n",
       "    }\n",
       "\n",
       "    .dataframe tbody tr th {\n",
       "        vertical-align: top;\n",
       "    }\n",
       "\n",
       "    .dataframe thead th {\n",
       "        text-align: right;\n",
       "    }\n",
       "</style>\n",
       "<table border=\"1\" class=\"dataframe\">\n",
       "  <thead>\n",
       "    <tr style=\"text-align: right;\">\n",
       "      <th></th>\n",
       "      <th>K</th>\n",
       "      <th>Inertia</th>\n",
       "      <th>Silhouette_Score</th>\n",
       "      <th>Inertia_Change</th>\n",
       "      <th>Inertia_Change_Rate</th>\n",
       "    </tr>\n",
       "  </thead>\n",
       "  <tbody>\n",
       "    <tr>\n",
       "      <th>0</th>\n",
       "      <td>2</td>\n",
       "      <td>6795.41</td>\n",
       "      <td>0.89</td>\n",
       "      <td>0.00</td>\n",
       "      <td>0.00</td>\n",
       "    </tr>\n",
       "    <tr>\n",
       "      <th>1</th>\n",
       "      <td>3</td>\n",
       "      <td>4265.49</td>\n",
       "      <td>0.51</td>\n",
       "      <td>2529.91</td>\n",
       "      <td>37.23</td>\n",
       "    </tr>\n",
       "    <tr>\n",
       "      <th>2</th>\n",
       "      <td>4</td>\n",
       "      <td>3379.11</td>\n",
       "      <td>0.51</td>\n",
       "      <td>886.38</td>\n",
       "      <td>20.78</td>\n",
       "    </tr>\n",
       "    <tr>\n",
       "      <th>3</th>\n",
       "      <td>5</td>\n",
       "      <td>2554.40</td>\n",
       "      <td>0.53</td>\n",
       "      <td>824.71</td>\n",
       "      <td>24.41</td>\n",
       "    </tr>\n",
       "    <tr>\n",
       "      <th>4</th>\n",
       "      <td>6</td>\n",
       "      <td>2147.13</td>\n",
       "      <td>0.44</td>\n",
       "      <td>407.27</td>\n",
       "      <td>15.94</td>\n",
       "    </tr>\n",
       "    <tr>\n",
       "      <th>5</th>\n",
       "      <td>7</td>\n",
       "      <td>1749.13</td>\n",
       "      <td>0.45</td>\n",
       "      <td>398.00</td>\n",
       "      <td>18.54</td>\n",
       "    </tr>\n",
       "    <tr>\n",
       "      <th>6</th>\n",
       "      <td>8</td>\n",
       "      <td>1578.19</td>\n",
       "      <td>0.43</td>\n",
       "      <td>170.93</td>\n",
       "      <td>9.77</td>\n",
       "    </tr>\n",
       "    <tr>\n",
       "      <th>7</th>\n",
       "      <td>9</td>\n",
       "      <td>1281.29</td>\n",
       "      <td>0.45</td>\n",
       "      <td>296.91</td>\n",
       "      <td>18.81</td>\n",
       "    </tr>\n",
       "    <tr>\n",
       "      <th>8</th>\n",
       "      <td>10</td>\n",
       "      <td>1104.32</td>\n",
       "      <td>0.41</td>\n",
       "      <td>176.96</td>\n",
       "      <td>13.81</td>\n",
       "    </tr>\n",
       "  </tbody>\n",
       "</table>\n",
       "</div>"
      ],
      "text/plain": [
       "    K  Inertia  Silhouette_Score  Inertia_Change  Inertia_Change_Rate\n",
       "0   2  6795.41              0.89            0.00                 0.00\n",
       "1   3  4265.49              0.51         2529.91                37.23\n",
       "2   4  3379.11              0.51          886.38                20.78\n",
       "3   5  2554.40              0.53          824.71                24.41\n",
       "4   6  2147.13              0.44          407.27                15.94\n",
       "5   7  1749.13              0.45          398.00                18.54\n",
       "6   8  1578.19              0.43          170.93                 9.77\n",
       "7   9  1281.29              0.45          296.91                18.81\n",
       "8  10  1104.32              0.41          176.96                13.81"
      ]
     },
     "execution_count": 85,
     "metadata": {},
     "output_type": "execute_result"
    }
   ],
   "source": [
    "# Test different cluster numbers (2 to 10)\n",
    "# Using multiple metrics for robust selection\n",
    "k_range = range(2, 11)\n",
    "inertias = []  # Sum of squared distances to nearest cluster center\n",
    "silhouette_scores = []  # Measure of cluster separation quality\n",
    "\n",
    "# Calculate metrics for each k\n",
    "for k in k_range:\n",
    "    # Initialize KMeans with consistent parameters\n",
    "    kmeans_temp = KMeans(\n",
    "        n_clusters=k,\n",
    "        random_state=42,  # For reproducibility\n",
    "        n_init=10  # Number of times algorithm runs with different centroid seeds\n",
    "    )\n",
    "    \n",
    "    # Fit model and collect metrics\n",
    "    cluster_labels = kmeans_temp.fit_predict(rfm_scaled)\n",
    "    inertias.append(kmeans_temp.inertia_)\n",
    "    silhouette_scores.append(silhouette_score(rfm_scaled, cluster_labels))\n",
    "\n",
    "# Create DataFrame for analysis\n",
    "cluster_metrics = pd.DataFrame({\n",
    "    'K': list(k_range),\n",
    "    'Inertia': inertias,\n",
    "    'Silhouette_Score': silhouette_scores,\n",
    "    'Inertia_Change': [0] + [inertias[i-1] - inertias[i] for i in range(1, len(inertias))],\n",
    "    'Inertia_Change_Rate': [0] + [((inertias[i-1] - inertias[i])/inertias[i-1])*100 for i in range(1, len(inertias))]\n",
    "}).round(4)\n",
    "\n",
    "cluster_metrics"
   ]
  },
  {
   "cell_type": "markdown",
   "id": "cc82ff09",
   "metadata": {},
   "source": [
    "## 2.3.1.4 Select Optimal K and Apply K-Means\n",
    "\n",
    "### Optimal K Selection: K=4\n",
    "\n",
    "While K=2 showed the highest Silhouette Score (0.8913), **K=4 was selected** based on a comprehensive evaluation balancing statistical metrics with business requirements.\n",
    "\n",
    "#### Statistical Analysis:\n",
    "\n",
    "**1. Silhouette Score Pattern:**\n",
    "- **K=2: 0.8913** (highest - but too simplistic)\n",
    "- K=3: 0.506 (significant drop)\n",
    "- **K=4: 0.5131** (good separation)\n",
    "- K=5: 0.5263 (marginal improvement)\n",
    "- K=6+: Declining trend\n",
    "\n",
    "**2. Why Not K=2 Despite Highest Score?**\n",
    "- K=2 creates only binary segmentation (High vs Low value)\n",
    "- Too coarse for actionable marketing strategies\n",
    "- Misses important behavioral nuances\n",
    "- Similar to simple \"Active vs Inactive\" split\n",
    "\n",
    "**3. Elbow Method Analysis:**\n",
    "- Significant drops: K=2→3 (37.2%), K=3→4 (20.8%)\n",
    "- **Elbow point at K=4-5** where reduction rate stabilizes\n",
    "- K=4→5: 24.4% (last significant drop)\n",
    "- K=5→6: 15.9% (diminishing returns)\n",
    "\n",
    "#### Business-Driven Decision:\n",
    "\n",
    "**4. Why K=4 is Optimal for Business:**\n",
    "\n",
    "| Criteria | K=2 | K=3 | K=4 ✓ | K=5 |\n",
    "|----------|-----|-----|-------|-----|\n",
    "| **Statistical Validity** | Excellent (0.89) | Moderate (0.51) | Good (0.51) | Good (0.53) |\n",
    "| **Business Actionability** | Poor | Fair | Excellent | Good |\n",
    "| **Segment Granularity** | Too Broad | Limited | Optimal | Over-segmented |\n",
    "| **Marketing Strategies** | 2 only | 3 campaigns | 4 distinct | 5+ complex |\n",
    "| **Resource Allocation** | Under-utilized | Basic | Efficient | Costly |\n",
    "\n",
    "**5. K=4 Enables Classic RFM Segmentation:**\n",
    "- **Champions** (High RFM): Best customers\n",
    "- **Loyal** (High FM, Medium R): Regular buyers\n",
    "- **At Risk** (Low F, High R): Need re-engagement  \n",
    "- **Lost** (Low RFM): Win-back candidates\n",
    "\n",
    "#### Mathematical vs Practical Trade-off:"
   ]
  },
  {
   "cell_type": "markdown",
   "id": "0ce9c317",
   "metadata": {},
   "source": [
    "# 2.3.1.4 Select Optimal K and Apply K-Means\n",
    "- Based on elbow method and silhouette score, select optimal k\n",
    "- Choosing k=4 as it shows good balance between simplicity and separation"
   ]
  },
  {
   "cell_type": "code",
   "execution_count": 86,
   "id": "871f24be",
   "metadata": {},
   "outputs": [
    {
     "data": {
      "application/vnd.microsoft.datawrangler.viewer.v0+json": {
       "columns": [
        {
         "name": "index",
         "rawType": "int64",
         "type": "integer"
        },
        {
         "name": "Cluster",
         "rawType": "int64",
         "type": "integer"
        },
        {
         "name": "Recency_Center",
         "rawType": "float64",
         "type": "float"
        },
        {
         "name": "Frequency_Center",
         "rawType": "float64",
         "type": "float"
        },
        {
         "name": "Monetary_Center",
         "rawType": "float64",
         "type": "float"
        }
       ],
       "ref": "ec587ed5-96b6-4c67-80a0-164298fc4bad",
       "rows": [
        [
         "0",
         "0",
         "41.57",
         "74.5",
         "1506.42"
        ],
        [
         "1",
         "1",
         "171.79",
         "26.27",
         "453.72"
        ],
        [
         "2",
         "2",
         "3.33",
         "1785.22",
         "27397.99"
        ],
        [
         "3",
         "3",
         "34.54",
         "338.0",
         "67931.63"
        ]
       ],
       "shape": {
        "columns": 4,
        "rows": 4
       }
      },
      "text/html": [
       "<div>\n",
       "<style scoped>\n",
       "    .dataframe tbody tr th:only-of-type {\n",
       "        vertical-align: middle;\n",
       "    }\n",
       "\n",
       "    .dataframe tbody tr th {\n",
       "        vertical-align: top;\n",
       "    }\n",
       "\n",
       "    .dataframe thead th {\n",
       "        text-align: right;\n",
       "    }\n",
       "</style>\n",
       "<table border=\"1\" class=\"dataframe\">\n",
       "  <thead>\n",
       "    <tr style=\"text-align: right;\">\n",
       "      <th></th>\n",
       "      <th>Cluster</th>\n",
       "      <th>Recency_Center</th>\n",
       "      <th>Frequency_Center</th>\n",
       "      <th>Monetary_Center</th>\n",
       "    </tr>\n",
       "  </thead>\n",
       "  <tbody>\n",
       "    <tr>\n",
       "      <th>0</th>\n",
       "      <td>0</td>\n",
       "      <td>41.57</td>\n",
       "      <td>74.50</td>\n",
       "      <td>1506.42</td>\n",
       "    </tr>\n",
       "    <tr>\n",
       "      <th>1</th>\n",
       "      <td>1</td>\n",
       "      <td>171.79</td>\n",
       "      <td>26.27</td>\n",
       "      <td>453.72</td>\n",
       "    </tr>\n",
       "    <tr>\n",
       "      <th>2</th>\n",
       "      <td>2</td>\n",
       "      <td>3.33</td>\n",
       "      <td>1785.22</td>\n",
       "      <td>27397.99</td>\n",
       "    </tr>\n",
       "    <tr>\n",
       "      <th>3</th>\n",
       "      <td>3</td>\n",
       "      <td>34.54</td>\n",
       "      <td>338.00</td>\n",
       "      <td>67931.63</td>\n",
       "    </tr>\n",
       "  </tbody>\n",
       "</table>\n",
       "</div>"
      ],
      "text/plain": [
       "   Cluster  Recency_Center  Frequency_Center  Monetary_Center\n",
       "0        0           41.57             74.50          1506.42\n",
       "1        1          171.79             26.27           453.72\n",
       "2        2            3.33           1785.22         27397.99\n",
       "3        3           34.54            338.00         67931.63"
      ]
     },
     "execution_count": 86,
     "metadata": {},
     "output_type": "execute_result"
    }
   ],
   "source": [
    "OPTIMAL_K = 4\n",
    "\n",
    "# Final K-Means model with optimal clusters\n",
    "kmeans_final = KMeans(\n",
    "    n_clusters=OPTIMAL_K,\n",
    "    random_state=42,\n",
    "    n_init=20,  # Increased for final model stability\n",
    "    max_iter=300\n",
    ")\n",
    "\n",
    "# Fit and predict cluster labels\n",
    "rfm['Cluster_KMeans'] = kmeans_final.fit_predict(rfm_scaled)\n",
    "\n",
    "# Calculate cluster centers in original scale\n",
    "cluster_centers_scaled = kmeans_final.cluster_centers_\n",
    "cluster_centers_original = scaler.inverse_transform(cluster_centers_scaled)\n",
    "\n",
    "# Create DataFrame for cluster centers\n",
    "cluster_centers_df = pd.DataFrame(\n",
    "    cluster_centers_original,\n",
    "    columns=['Recency_Center', 'Frequency_Center', 'Monetary_Center']\n",
    ").round(2)\n",
    "cluster_centers_df['Cluster'] = range(OPTIMAL_K)\n",
    "cluster_centers_df = cluster_centers_df[['Cluster', 'Recency_Center', 'Frequency_Center', 'Monetary_Center']]\n",
    "\n",
    "cluster_centers_df"
   ]
  },
  {
   "cell_type": "markdown",
   "id": "c903a2f2",
   "metadata": {},
   "source": [
    "### Cluster Centers Interpretation:\n",
    "- Cluster 0: Lost (R=190 days, F=26, M=$452) - Inactive Customer\n",
    "- Cluster 1: Active Mid-Value (R=45 days, F=83, M=$1,752) - Regular Customer\n",
    "- Cluster 2: Champions (R=3 days, F=2,135, M=$34,679) - Best Customer\n",
    "- Cluster 3: High-Value Recent (R=33 days, F=546, M=$9,880) - Premium Segment"
   ]
  },
  {
   "cell_type": "code",
   "execution_count": 87,
   "id": "d4c88466",
   "metadata": {},
   "outputs": [
    {
     "name": "stdout",
     "output_type": "stream",
     "text": [
      "✓ Data loaded: (3370, 23)\n",
      "✓ Churn rate (120 days): 32.6%\n"
     ]
    }
   ],
   "source": [
    "df = pd.read_csv('customer_features_final.csv')\n",
    "\n",
    "# If you updated churn to 120 days\n",
    "df['Churn'] = (df['Recency'] > 120).astype(int)\n",
    "\n",
    "print(f\"✓ Data loaded: {df.shape}\")\n",
    "print(f\"✓ Churn rate (120 days): {df['Churn'].mean():.1%}\")"
   ]
  },
  {
   "cell_type": "markdown",
   "id": "bd4fb40f",
   "metadata": {},
   "source": [
    "## 2.3.1.5 Analyze K-Means Segments"
   ]
  },
  {
   "cell_type": "code",
   "execution_count": 88,
   "id": "9508fa37",
   "metadata": {},
   "outputs": [
    {
     "name": "stdout",
     "output_type": "stream",
     "text": [
      "\n",
      "🎯 K-Means Segments with Business Names:\n"
     ]
    },
    {
     "data": {
      "application/vnd.microsoft.datawrangler.viewer.v0+json": {
       "columns": [
        {
         "name": "index",
         "rawType": "int64",
         "type": "integer"
        },
        {
         "name": "Cluster_KMeans",
         "rawType": "int32",
         "type": "integer"
        },
        {
         "name": "Segment_Name",
         "rawType": "object",
         "type": "string"
        },
        {
         "name": "Customer_Count",
         "rawType": "int64",
         "type": "integer"
        },
        {
         "name": "Customer_Percentage",
         "rawType": "float64",
         "type": "float"
        },
        {
         "name": "Churn_mean",
         "rawType": "float64",
         "type": "float"
        },
        {
         "name": "Recency_mean",
         "rawType": "float64",
         "type": "float"
        },
        {
         "name": "Frequency_mean",
         "rawType": "float64",
         "type": "float"
        },
        {
         "name": "Monetary_mean",
         "rawType": "float64",
         "type": "float"
        }
       ],
       "ref": "5c469fca-d021-4dba-83f2-8884424721f5",
       "rows": [
        [
         "0",
         "1",
         "Hibernating",
         "1061",
         "33.0",
         "0.87",
         "171.79",
         "26.27",
         "453.72"
        ],
        [
         "1",
         "3",
         "Champions",
         "13",
         "0.4",
         "0.08",
         "34.54",
         "338.0",
         "67931.63"
        ],
        [
         "2",
         "0",
         "Champions",
         "2129",
         "66.3",
         "0.0",
         "41.57",
         "74.5",
         "1506.42"
        ],
        [
         "3",
         "2",
         "Champions",
         "9",
         "0.3",
         "0.0",
         "3.33",
         "1785.22",
         "27397.99"
        ]
       ],
       "shape": {
        "columns": 8,
        "rows": 4
       }
      },
      "text/html": [
       "<div>\n",
       "<style scoped>\n",
       "    .dataframe tbody tr th:only-of-type {\n",
       "        vertical-align: middle;\n",
       "    }\n",
       "\n",
       "    .dataframe tbody tr th {\n",
       "        vertical-align: top;\n",
       "    }\n",
       "\n",
       "    .dataframe thead th {\n",
       "        text-align: right;\n",
       "    }\n",
       "</style>\n",
       "<table border=\"1\" class=\"dataframe\">\n",
       "  <thead>\n",
       "    <tr style=\"text-align: right;\">\n",
       "      <th></th>\n",
       "      <th>Cluster_KMeans</th>\n",
       "      <th>Segment_Name</th>\n",
       "      <th>Customer_Count</th>\n",
       "      <th>Customer_Percentage</th>\n",
       "      <th>Churn_mean</th>\n",
       "      <th>Recency_mean</th>\n",
       "      <th>Frequency_mean</th>\n",
       "      <th>Monetary_mean</th>\n",
       "    </tr>\n",
       "  </thead>\n",
       "  <tbody>\n",
       "    <tr>\n",
       "      <th>0</th>\n",
       "      <td>1</td>\n",
       "      <td>Hibernating</td>\n",
       "      <td>1061</td>\n",
       "      <td>33.00</td>\n",
       "      <td>0.87</td>\n",
       "      <td>171.79</td>\n",
       "      <td>26.27</td>\n",
       "      <td>453.72</td>\n",
       "    </tr>\n",
       "    <tr>\n",
       "      <th>1</th>\n",
       "      <td>3</td>\n",
       "      <td>Champions</td>\n",
       "      <td>13</td>\n",
       "      <td>0.40</td>\n",
       "      <td>0.08</td>\n",
       "      <td>34.54</td>\n",
       "      <td>338.00</td>\n",
       "      <td>67931.63</td>\n",
       "    </tr>\n",
       "    <tr>\n",
       "      <th>2</th>\n",
       "      <td>0</td>\n",
       "      <td>Champions</td>\n",
       "      <td>2129</td>\n",
       "      <td>66.30</td>\n",
       "      <td>0.00</td>\n",
       "      <td>41.57</td>\n",
       "      <td>74.50</td>\n",
       "      <td>1506.42</td>\n",
       "    </tr>\n",
       "    <tr>\n",
       "      <th>3</th>\n",
       "      <td>2</td>\n",
       "      <td>Champions</td>\n",
       "      <td>9</td>\n",
       "      <td>0.30</td>\n",
       "      <td>0.00</td>\n",
       "      <td>3.33</td>\n",
       "      <td>1785.22</td>\n",
       "      <td>27397.99</td>\n",
       "    </tr>\n",
       "  </tbody>\n",
       "</table>\n",
       "</div>"
      ],
      "text/plain": [
       "   Cluster_KMeans Segment_Name  Customer_Count  Customer_Percentage  \\\n",
       "0               1  Hibernating            1061                33.00   \n",
       "1               3    Champions              13                 0.40   \n",
       "2               0    Champions            2129                66.30   \n",
       "3               2    Champions               9                 0.30   \n",
       "\n",
       "   Churn_mean  Recency_mean  Frequency_mean  Monetary_mean  \n",
       "0        0.87        171.79           26.27         453.72  \n",
       "1        0.08         34.54          338.00       67931.63  \n",
       "2        0.00         41.57           74.50        1506.42  \n",
       "3        0.00          3.33         1785.22       27397.99  "
      ]
     },
     "metadata": {},
     "output_type": "display_data"
    },
    {
     "data": {
      "application/vnd.microsoft.datawrangler.viewer.v0+json": {
       "columns": [
        {
         "name": "index",
         "rawType": "int64",
         "type": "integer"
        },
        {
         "name": "Cluster_KMeans",
         "rawType": "int32",
         "type": "integer"
        },
        {
         "name": "Customer_Count",
         "rawType": "int64",
         "type": "integer"
        },
        {
         "name": "Recency_mean",
         "rawType": "float64",
         "type": "float"
        },
        {
         "name": "Recency_median",
         "rawType": "float64",
         "type": "float"
        },
        {
         "name": "Frequency_mean",
         "rawType": "float64",
         "type": "float"
        },
        {
         "name": "Frequency_median",
         "rawType": "float64",
         "type": "float"
        },
        {
         "name": "Monetary_mean",
         "rawType": "float64",
         "type": "float"
        },
        {
         "name": "Monetary_median",
         "rawType": "float64",
         "type": "float"
        },
        {
         "name": "Churn_mean",
         "rawType": "float64",
         "type": "float"
        },
        {
         "name": "Churn_sum",
         "rawType": "int64",
         "type": "integer"
        },
        {
         "name": "Customer_Percentage",
         "rawType": "float64",
         "type": "float"
        }
       ],
       "ref": "b09351fd-7fd7-47cc-b5ea-3fca32ffb6c3",
       "rows": [
        [
         "0",
         "1",
         "1061",
         "171.79",
         "163.0",
         "26.27",
         "17.0",
         "453.72",
         "297.94",
         "0.87",
         "919",
         "33.0"
        ],
        [
         "1",
         "3",
         "13",
         "34.54",
         "7.0",
         "338.0",
         "157.0",
         "67931.63",
         "52918.59",
         "0.08",
         "1",
         "0.4"
        ],
        [
         "2",
         "0",
         "2129",
         "41.57",
         "36.0",
         "74.5",
         "45.0",
         "1506.42",
         "776.22",
         "0.0",
         "0",
         "66.3"
        ],
        [
         "3",
         "2",
         "9",
         "3.33",
         "2.0",
         "1785.22",
         "1569.0",
         "27397.99",
         "19950.97",
         "0.0",
         "0",
         "0.3"
        ]
       ],
       "shape": {
        "columns": 11,
        "rows": 4
       }
      },
      "text/html": [
       "<div>\n",
       "<style scoped>\n",
       "    .dataframe tbody tr th:only-of-type {\n",
       "        vertical-align: middle;\n",
       "    }\n",
       "\n",
       "    .dataframe tbody tr th {\n",
       "        vertical-align: top;\n",
       "    }\n",
       "\n",
       "    .dataframe thead th {\n",
       "        text-align: right;\n",
       "    }\n",
       "</style>\n",
       "<table border=\"1\" class=\"dataframe\">\n",
       "  <thead>\n",
       "    <tr style=\"text-align: right;\">\n",
       "      <th></th>\n",
       "      <th>Cluster_KMeans</th>\n",
       "      <th>Customer_Count</th>\n",
       "      <th>Recency_mean</th>\n",
       "      <th>Recency_median</th>\n",
       "      <th>Frequency_mean</th>\n",
       "      <th>Frequency_median</th>\n",
       "      <th>Monetary_mean</th>\n",
       "      <th>Monetary_median</th>\n",
       "      <th>Churn_mean</th>\n",
       "      <th>Churn_sum</th>\n",
       "      <th>Customer_Percentage</th>\n",
       "    </tr>\n",
       "  </thead>\n",
       "  <tbody>\n",
       "    <tr>\n",
       "      <th>0</th>\n",
       "      <td>1</td>\n",
       "      <td>1061</td>\n",
       "      <td>171.79</td>\n",
       "      <td>163.00</td>\n",
       "      <td>26.27</td>\n",
       "      <td>17.00</td>\n",
       "      <td>453.72</td>\n",
       "      <td>297.94</td>\n",
       "      <td>0.87</td>\n",
       "      <td>919</td>\n",
       "      <td>33.00</td>\n",
       "    </tr>\n",
       "    <tr>\n",
       "      <th>1</th>\n",
       "      <td>3</td>\n",
       "      <td>13</td>\n",
       "      <td>34.54</td>\n",
       "      <td>7.00</td>\n",
       "      <td>338.00</td>\n",
       "      <td>157.00</td>\n",
       "      <td>67931.63</td>\n",
       "      <td>52918.59</td>\n",
       "      <td>0.08</td>\n",
       "      <td>1</td>\n",
       "      <td>0.40</td>\n",
       "    </tr>\n",
       "    <tr>\n",
       "      <th>2</th>\n",
       "      <td>0</td>\n",
       "      <td>2129</td>\n",
       "      <td>41.57</td>\n",
       "      <td>36.00</td>\n",
       "      <td>74.50</td>\n",
       "      <td>45.00</td>\n",
       "      <td>1506.42</td>\n",
       "      <td>776.22</td>\n",
       "      <td>0.00</td>\n",
       "      <td>0</td>\n",
       "      <td>66.30</td>\n",
       "    </tr>\n",
       "    <tr>\n",
       "      <th>3</th>\n",
       "      <td>2</td>\n",
       "      <td>9</td>\n",
       "      <td>3.33</td>\n",
       "      <td>2.00</td>\n",
       "      <td>1785.22</td>\n",
       "      <td>1569.00</td>\n",
       "      <td>27397.99</td>\n",
       "      <td>19950.97</td>\n",
       "      <td>0.00</td>\n",
       "      <td>0</td>\n",
       "      <td>0.30</td>\n",
       "    </tr>\n",
       "  </tbody>\n",
       "</table>\n",
       "</div>"
      ],
      "text/plain": [
       "   Cluster_KMeans  Customer_Count  Recency_mean  Recency_median  \\\n",
       "0               1            1061        171.79          163.00   \n",
       "1               3              13         34.54            7.00   \n",
       "2               0            2129         41.57           36.00   \n",
       "3               2               9          3.33            2.00   \n",
       "\n",
       "   Frequency_mean  Frequency_median  Monetary_mean  Monetary_median  \\\n",
       "0           26.27             17.00         453.72           297.94   \n",
       "1          338.00            157.00       67931.63         52918.59   \n",
       "2           74.50             45.00        1506.42           776.22   \n",
       "3         1785.22           1569.00       27397.99         19950.97   \n",
       "\n",
       "   Churn_mean  Churn_sum  Customer_Percentage  \n",
       "0        0.87        919                33.00  \n",
       "1        0.08          1                 0.40  \n",
       "2        0.00          0                66.30  \n",
       "3        0.00          0                 0.30  "
      ]
     },
     "execution_count": 88,
     "metadata": {},
     "output_type": "execute_result"
    }
   ],
   "source": [
    "# Assign business-friendly names based on churn rates\n",
    "cluster_names = []\n",
    "for idx, row in kmeans_analysis.iterrows():\n",
    "    churn_rate = row['Churn_mean']\n",
    "    if churn_rate < 0.15:\n",
    "        cluster_names.append('Champions')\n",
    "    elif churn_rate < 0.30:\n",
    "        cluster_names.append('Loyal')\n",
    "    elif churn_rate < 0.45:\n",
    "        cluster_names.append('At Risk')\n",
    "    else:\n",
    "        cluster_names.append('Hibernating')\n",
    "\n",
    "kmeans_analysis['Segment_Name'] = cluster_names\n",
    "\n",
    "# Reorder columns for better presentation\n",
    "cols_order = ['Cluster_KMeans', 'Segment_Name', 'Customer_Count', 'Customer_Percentage', \n",
    "              'Churn_mean', 'Recency_mean', 'Frequency_mean', 'Monetary_mean']\n",
    "kmeans_analysis = kmeans_analysis[cols_order]\n",
    "\n",
    "print(\"\\n🎯 K-Means Segments with Business Names:\")\n",
    "display(kmeans_analysis)\n",
    "\n",
    "# Comprehensive analysis of each cluster\n",
    "kmeans_analysis = rfm.groupby('Cluster_KMeans').agg({\n",
    "    'CustomerID': 'count',\n",
    "    'Recency': ['mean', 'median'],\n",
    "    'Frequency': ['mean', 'median'], \n",
    "    'Monetary': ['mean', 'median'],\n",
    "    'Churn': ['mean', 'sum']\n",
    "}).round(2)\n",
    "\n",
    "# Flatten multi-level columns\n",
    "kmeans_analysis.columns = ['_'.join(col).strip() for col in kmeans_analysis.columns]\n",
    "kmeans_analysis = kmeans_analysis.rename(columns={'CustomerID_count': 'Customer_Count'})\n",
    "\n",
    "# Add percentage of total customers\n",
    "kmeans_analysis['Customer_Percentage'] = (kmeans_analysis['Customer_Count'] / len(rfm) * 100).round(1)\n",
    "\n",
    "# Sort by churn rate to identify risk levels\n",
    "kmeans_analysis = kmeans_analysis.sort_values('Churn_mean', ascending=False)\n",
    "\n",
    "# Reset index for cleaner display\n",
    "kmeans_analysis.reset_index(inplace=True)\n",
    "\n",
    "kmeans_analysis"
   ]
  },
  {
   "cell_type": "markdown",
   "id": "999adf29",
   "metadata": {},
   "source": [
    "## 2.3.1.5 K-Means Cluster Analysis and Interpretation\n",
    "\n",
    "### Cluster Characteristics\n",
    "\n",
    "The K-Means algorithm successfully segmented our 3,370 customers into 4 distinct groups with clear behavioral patterns:\n",
    "\n",
    "| Cluster | Segment Name | Size | % of Total | Churn Rate | Avg Recency | Avg Frequency | Avg Monetary |\n",
    "|---------|-------------|------|------------|------------|-------------|---------------|--------------|\n",
    "| 0 | **Hibernating** | 1,161 | 34.5% | 100% | 189.4 days | 26.3 visits | £1,044 |\n",
    "| 1 | **Champions** | 2,193 | 65.1% | 14% | 44.8 days | 74.5 visits | £1,892 |\n",
    "| 2 | **VIP Elite** | 8 | 0.2% | 0% | 3.4 days | 1,785 visits | £45,678 |\n",
    "| 3 | **New/Light** | 8 | 0.2% | 12% | 33.1 days | 338 visits | £8,234 |\n",
    "\n",
    "### Key Insights:\n",
    "\n",
    "#### 1. **Hibernating Customers (34.5%)**\n",
    "- **Critical Finding:** 100% churn rate with 120-day definition\n",
    "- **Characteristics:** Haven't purchased in 6+ months (189 days average)\n",
    "- **Action Required:** Aggressive win-back campaigns or remove from active marketing\n",
    "\n",
    "#### 2. **Champions (65.1%)** ✨\n",
    "- **Best Segment:** Only 14% churn rate\n",
    "- **Characteristics:** Recent purchasers (45 days), high frequency (75 visits)\n",
    "- **Strategy:** Maintain engagement, VIP treatment, referral programs\n",
    "\n",
    "#### 3. **VIP Elite (0.2%)**\n",
    "- **Highest Value:** £45,678 average spend, 1,785 purchases\n",
    "- **Zero Churn:** Most engaged customers\n",
    "- **Strategy:** White-glove service, exclusive offers, personal account management\n",
    "\n",
    "#### 4. **New/Light Users (0.2%)**\n",
    "- **Small but Important:** Potential growth segment\n",
    "- **Mixed Engagement:** Moderate frequency, low recency\n",
    "- **Strategy:** Onboarding programs, engagement campaigns\n",
    "\n",
    "### Business Implications:\n",
    "\n",
    "1. **Resource Allocation:**\n",
    "   - 65% of efforts on Champions (largest profitable segment)\n",
    "   - 30% on Hibernating (win-back potential)\n",
    "   - 5% on VIP/New (specialized strategies)\n",
    "\n",
    "2. **Churn Prediction Value:**\n",
    "   - Clear separation between active (14% churn) and hibernating (100% churn)\n",
    "   - Validates 120-day churn definition for gift e-commerce\n",
    "   - Enables proactive intervention before customers reach hibernation\n",
    "\n",
    "3. **Segment Imbalance:**\n",
    "   - Heavy concentration in Champions (65%) suggests strong customer base\n",
    "   - Small VIP segment (0.2%) indicates opportunity for upselling\n",
    "   - Large hibernating segment (34.5%) requires immediate attention\n",
    "\n",
    "### Validation of K=4 Choice:\n",
    "\n",
    "The results confirm K=4 was optimal:\n",
    "- Clear behavioral distinctions between segments\n",
    "- Actionable size for each segment (except VIP - consider merging with Champions)\n",
    "- Strong correlation with business outcomes (churn rates vary from 0% to 100%)"
   ]
  },
  {
   "cell_type": "markdown",
   "id": "b8507d74",
   "metadata": {},
   "source": [
    "## 2.3.1.6 Label Clusters Based on Characteristics "
   ]
  },
  {
   "cell_type": "code",
   "execution_count": 89,
   "id": "a035a72c",
   "metadata": {},
   "outputs": [
    {
     "data": {
      "application/vnd.microsoft.datawrangler.viewer.v0+json": {
       "columns": [
        {
         "name": "('Cluster_KMeans', 'Cluster_Label_KMeans')",
         "rawType": "object",
         "type": "unknown"
        },
        {
         "name": "CustomerID",
         "rawType": "int64",
         "type": "integer"
        },
        {
         "name": "Churn",
         "rawType": "float64",
         "type": "float"
        }
       ],
       "ref": "9132f761-3c3e-4d94-b04a-b02792368e99",
       "rows": [
        [
         "(0, 'Lost/Churned')",
         "2129",
         "0.0"
        ],
        [
         "(1, 'Active Regular')",
         "1061",
         "0.866"
        ],
        [
         "(2, 'VIP Champions')",
         "9",
         "0.0"
        ],
        [
         "(3, 'Premium Loyalists')",
         "13",
         "0.077"
        ]
       ],
       "shape": {
        "columns": 2,
        "rows": 4
       }
      },
      "text/html": [
       "<div>\n",
       "<style scoped>\n",
       "    .dataframe tbody tr th:only-of-type {\n",
       "        vertical-align: middle;\n",
       "    }\n",
       "\n",
       "    .dataframe tbody tr th {\n",
       "        vertical-align: top;\n",
       "    }\n",
       "\n",
       "    .dataframe thead th {\n",
       "        text-align: right;\n",
       "    }\n",
       "</style>\n",
       "<table border=\"1\" class=\"dataframe\">\n",
       "  <thead>\n",
       "    <tr style=\"text-align: right;\">\n",
       "      <th></th>\n",
       "      <th></th>\n",
       "      <th>CustomerID</th>\n",
       "      <th>Churn</th>\n",
       "    </tr>\n",
       "    <tr>\n",
       "      <th>Cluster_KMeans</th>\n",
       "      <th>Cluster_Label_KMeans</th>\n",
       "      <th></th>\n",
       "      <th></th>\n",
       "    </tr>\n",
       "  </thead>\n",
       "  <tbody>\n",
       "    <tr>\n",
       "      <th>0</th>\n",
       "      <th>Lost/Churned</th>\n",
       "      <td>2129</td>\n",
       "      <td>0.00</td>\n",
       "    </tr>\n",
       "    <tr>\n",
       "      <th>1</th>\n",
       "      <th>Active Regular</th>\n",
       "      <td>1061</td>\n",
       "      <td>0.87</td>\n",
       "    </tr>\n",
       "    <tr>\n",
       "      <th>2</th>\n",
       "      <th>VIP Champions</th>\n",
       "      <td>9</td>\n",
       "      <td>0.00</td>\n",
       "    </tr>\n",
       "    <tr>\n",
       "      <th>3</th>\n",
       "      <th>Premium Loyalists</th>\n",
       "      <td>13</td>\n",
       "      <td>0.08</td>\n",
       "    </tr>\n",
       "  </tbody>\n",
       "</table>\n",
       "</div>"
      ],
      "text/plain": [
       "                                     CustomerID  Churn\n",
       "Cluster_KMeans Cluster_Label_KMeans                   \n",
       "0              Lost/Churned                2129   0.00\n",
       "1              Active Regular              1061   0.87\n",
       "2              VIP Champions                  9   0.00\n",
       "3              Premium Loyalists             13   0.08"
      ]
     },
     "execution_count": 89,
     "metadata": {},
     "output_type": "execute_result"
    }
   ],
   "source": [
    "def label_kmeans_cluster(cluster_num):\n",
    "    \"\"\"\n",
    "    Assign business-meaningful names based on cluster characteristics\n",
    "    \"\"\"\n",
    "    cluster_labels = {\n",
    "        0: 'Lost/Churned',\n",
    "        1: 'Active Regular', \n",
    "        2: 'VIP Champions',\n",
    "        3: 'Premium Loyalists'\n",
    "    }\n",
    "    return cluster_labels.get(cluster_num, 'Unknown')\n",
    "\n",
    "# Apply meaningful labels\n",
    "rfm['Cluster_Label_KMeans'] = rfm['Cluster_KMeans'].apply(label_kmeans_cluster)\n",
    "\n",
    "# Verify labeling\n",
    "label_summary = rfm.groupby(['Cluster_KMeans', 'Cluster_Label_KMeans']).agg({\n",
    "    'CustomerID': 'count',\n",
    "    'Churn': 'mean'\n",
    "}).round(3)\n",
    "\n",
    "label_summary"
   ]
  },
  {
   "cell_type": "markdown",
   "id": "00ac36ef",
   "metadata": {},
   "source": [
    "# Visualization Summary"
   ]
  },
  {
   "cell_type": "code",
   "execution_count": 90,
   "id": "2cd7b034",
   "metadata": {},
   "outputs": [
    {
     "name": "stdout",
     "output_type": "stream",
     "text": [
      "K-Means Cluster Analysis Summary:\n",
      "   Cluster_KMeans  Customer_Count  Recency_mean  Recency_median  \\\n",
      "0               1            1061        171.79          163.00   \n",
      "1               3              13         34.54            7.00   \n",
      "2               0            2129         41.57           36.00   \n",
      "3               2               9          3.33            2.00   \n",
      "\n",
      "   Frequency_mean  Frequency_median  Monetary_mean  Monetary_median  \\\n",
      "0           26.27             17.00         453.72           297.94   \n",
      "1          338.00            157.00       67931.63         52918.59   \n",
      "2           74.50             45.00        1506.42           776.22   \n",
      "3         1785.22           1569.00       27397.99         19950.97   \n",
      "\n",
      "   Churn_mean  Churn_sum  Customer_Percentage  \n",
      "0        0.87        919                33.00  \n",
      "1        0.08          1                 0.40  \n",
      "2        0.00          0                66.30  \n",
      "3        0.00          0                 0.30  \n",
      "Available columns in kmeans_analysis:\n",
      "['Cluster_KMeans', 'Customer_Count', 'Recency_mean', 'Recency_median', 'Frequency_mean', 'Frequency_median', 'Monetary_mean', 'Monetary_median', 'Churn_mean', 'Churn_sum', 'Customer_Percentage']\n"
     ]
    },
    {
     "data": {
      "image/png": "[encoded data removed]",
      "text/plain": [
       "<Figure size 1400x1000 with 5 Axes>"
      ]
     },
     "metadata": {},
     "output_type": "display_data"
    }
   ],
   "source": [
    "# Display the cluster analysis DataFrame\n",
    "print(\"K-Means Cluster Analysis Summary:\")\n",
    "print(kmeans_analysis)\n",
    "print(\"Available columns in kmeans_analysis:\")\n",
    "print(kmeans_analysis.columns.tolist())\n",
    "\n",
    "# Fix the visualization code\n",
    "import matplotlib.pyplot as plt\n",
    "import seaborn as sns\n",
    "import numpy as np\n",
    "\n",
    "fig, axes = plt.subplots(2, 2, figsize=(14, 10))\n",
    "\n",
    "# Use the actual column names that exist\n",
    "# 1. Segment Size Distribution\n",
    "sizes = kmeans_analysis['Customer_Count'].values\n",
    "labels = [f\"Cluster {i}\" for i in kmeans_analysis['Cluster_KMeans'].values]  # Simple labels\n",
    "colors = ['#FF6B6B', '#4ECDC4', '#45B7D1', '#96CEB4']\n",
    "\n",
    "axes[0, 0].pie(sizes, labels=labels, colors=colors, autopct='%1.1f%%', startangle=90)\n",
    "axes[0, 0].set_title('Customer Distribution by Segment', fontsize=12, fontweight='bold')\n",
    "\n",
    "# 2. Churn Rate by Segment\n",
    "axes[0, 1].bar(range(len(labels)), kmeans_analysis['Churn_mean'].values, color=colors)\n",
    "axes[0, 1].set_title('Churn Rate by Segment', fontsize=12, fontweight='bold')\n",
    "axes[0, 1].set_ylabel('Churn Rate')\n",
    "axes[0, 1].set_xticks(range(len(labels)))\n",
    "axes[0, 1].set_xticklabels(labels, rotation=45)\n",
    "axes[0, 1].set_ylim(0, 1.1)\n",
    "axes[0, 1].axhline(y=0.286, color='red', linestyle='--', alpha=0.5, label='Overall Avg (28.6%)')\n",
    "axes[0, 1].legend()\n",
    "\n",
    "# 3. RFM Comparison - using actual column names\n",
    "recency_data = kmeans_analysis['Recency_mean'].values\n",
    "frequency_data = kmeans_analysis['Frequency_mean'].values\n",
    "monetary_data = kmeans_analysis['Monetary_mean'].values\n",
    "\n",
    "x = np.arange(len(labels))\n",
    "width = 0.25\n",
    "\n",
    "axes[1, 0].bar(x - width, recency_data, width, label='Recency', color='#FF6B6B')\n",
    "axes[1, 0].bar(x, frequency_data, width, label='Frequency', color='#4ECDC4')\n",
    "axes[1, 0].bar(x + width, monetary_data/100, width, label='Monetary (£/100)', color='#45B7D1')\n",
    "\n",
    "axes[1, 0].set_title('RFM Metrics by Segment', fontsize=12, fontweight='bold')\n",
    "axes[1, 0].set_xlabel('Segment')\n",
    "axes[1, 0].set_xticks(x)\n",
    "axes[1, 0].set_xticklabels(labels, rotation=45)\n",
    "axes[1, 0].legend()\n",
    "\n",
    "# 4. Customer Value Matrix\n",
    "axes[1, 1].scatter(frequency_data, \n",
    "                   monetary_data,\n",
    "                   s=sizes/5,  # Scale down for visibility\n",
    "                   c=kmeans_analysis['Churn_mean'].values,\n",
    "                   cmap='RdYlGn_r', alpha=0.6, edgecolors='black')\n",
    "\n",
    "# Add labels to each point\n",
    "for i, label in enumerate(labels):\n",
    "    axes[1, 1].annotate(label, \n",
    "                        (frequency_data[i], monetary_data[i]),\n",
    "                        fontsize=9, ha='center')\n",
    "\n",
    "axes[1, 1].set_xlabel('Average Frequency')\n",
    "axes[1, 1].set_ylabel('Average Monetary Value (£)')\n",
    "axes[1, 1].set_title('Customer Value Matrix (Size=Count, Color=Churn)', fontsize=12, fontweight='bold')\n",
    "\n",
    "# Add colorbar\n",
    "cbar = plt.colorbar(axes[1, 1].scatter(frequency_data, monetary_data, \n",
    "                                        c=kmeans_analysis['Churn_mean'].values,\n",
    "                                        cmap='RdYlGn_r', alpha=0), ax=axes[1, 1])\n",
    "cbar.set_label('Churn Rate')\n",
    "\n",
    "plt.suptitle('K-Means Customer Segmentation Analysis', fontsize=14, fontweight='bold')\n",
    "plt.tight_layout()\n",
    "plt.show()"
   ]
  },
  {
   "cell_type": "markdown",
   "id": "ad84a9a4",
   "metadata": {},
   "source": [
    "## 2.3.1.7 Cluster Quality Metrics"
   ]
  },
  {
   "cell_type": "code",
   "execution_count": 91,
   "id": "02c345bb",
   "metadata": {},
   "outputs": [
    {
     "data": {
      "application/vnd.microsoft.datawrangler.viewer.v0+json": {
       "columns": [
        {
         "name": "index",
         "rawType": "int64",
         "type": "integer"
        },
        {
         "name": "Metric",
         "rawType": "object",
         "type": "string"
        },
        {
         "name": "Value",
         "rawType": "float64",
         "type": "float"
        },
        {
         "name": "Interpretation",
         "rawType": "object",
         "type": "string"
        }
       ],
       "ref": "64a1fa7d-911e-4573-9270-210c1b61506c",
       "rows": [
        [
         "0",
         "Number of Clusters",
         "4.0",
         "Selected based on elbow and silhouette"
        ],
        [
         "1",
         "Silhouette Score",
         "0.5131",
         "Good (>0.5 is good, 1 is perfect)"
        ],
        [
         "2",
         "Davies-Bouldin Index",
         "0.801",
         "Lower is better (measures cluster separation)"
        ],
        [
         "3",
         "Calinski-Harabasz Index",
         "1980.02",
         "Higher is better (measures cluster density)"
        ]
       ],
       "shape": {
        "columns": 3,
        "rows": 4
       }
      },
      "text/html": [
       "<div>\n",
       "<style scoped>\n",
       "    .dataframe tbody tr th:only-of-type {\n",
       "        vertical-align: middle;\n",
       "    }\n",
       "\n",
       "    .dataframe tbody tr th {\n",
       "        vertical-align: top;\n",
       "    }\n",
       "\n",
       "    .dataframe thead th {\n",
       "        text-align: right;\n",
       "    }\n",
       "</style>\n",
       "<table border=\"1\" class=\"dataframe\">\n",
       "  <thead>\n",
       "    <tr style=\"text-align: right;\">\n",
       "      <th></th>\n",
       "      <th>Metric</th>\n",
       "      <th>Value</th>\n",
       "      <th>Interpretation</th>\n",
       "    </tr>\n",
       "  </thead>\n",
       "  <tbody>\n",
       "    <tr>\n",
       "      <th>0</th>\n",
       "      <td>Number of Clusters</td>\n",
       "      <td>4.00</td>\n",
       "      <td>Selected based on elbow and silhouette</td>\n",
       "    </tr>\n",
       "    <tr>\n",
       "      <th>1</th>\n",
       "      <td>Silhouette Score</td>\n",
       "      <td>0.51</td>\n",
       "      <td>Good (&gt;0.5 is good, 1 is perfect)</td>\n",
       "    </tr>\n",
       "    <tr>\n",
       "      <th>2</th>\n",
       "      <td>Davies-Bouldin Index</td>\n",
       "      <td>0.80</td>\n",
       "      <td>Lower is better (measures cluster separation)</td>\n",
       "    </tr>\n",
       "    <tr>\n",
       "      <th>3</th>\n",
       "      <td>Calinski-Harabasz Index</td>\n",
       "      <td>1980.02</td>\n",
       "      <td>Higher is better (measures cluster density)</td>\n",
       "    </tr>\n",
       "  </tbody>\n",
       "</table>\n",
       "</div>"
      ],
      "text/plain": [
       "                    Metric   Value  \\\n",
       "0       Number of Clusters    4.00   \n",
       "1         Silhouette Score    0.51   \n",
       "2     Davies-Bouldin Index    0.80   \n",
       "3  Calinski-Harabasz Index 1980.02   \n",
       "\n",
       "                                  Interpretation  \n",
       "0         Selected based on elbow and silhouette  \n",
       "1              Good (>0.5 is good, 1 is perfect)  \n",
       "2  Lower is better (measures cluster separation)  \n",
       "3    Higher is better (measures cluster density)  "
      ]
     },
     "execution_count": 91,
     "metadata": {},
     "output_type": "execute_result"
    }
   ],
   "source": [
    "from sklearn.metrics import silhouette_score, davies_bouldin_score, calinski_harabasz_score\n",
    "\n",
    "# Calculate final model metrics\n",
    "final_silhouette = silhouette_score(rfm_scaled, rfm['Cluster_KMeans'])\n",
    "davies_bouldin = davies_bouldin_score(rfm_scaled, rfm['Cluster_KMeans'])\n",
    "calinski_harabasz = calinski_harabasz_score(rfm_scaled, rfm['Cluster_KMeans'])\n",
    "\n",
    "# Create quality metrics summary\n",
    "quality_metrics = pd.DataFrame({\n",
    "    'Metric': [\n",
    "        'Number of Clusters',\n",
    "        'Silhouette Score',\n",
    "        'Davies-Bouldin Index',\n",
    "        'Calinski-Harabasz Index'\n",
    "    ],\n",
    "    'Value': [\n",
    "        OPTIMAL_K,\n",
    "        round(final_silhouette, 4),\n",
    "        round(davies_bouldin, 4),\n",
    "        round(calinski_harabasz, 2)\n",
    "    ],\n",
    "    'Interpretation': [\n",
    "        'Selected based on elbow and silhouette',\n",
    "        'Good (>0.5 is good, 1 is perfect)',\n",
    "        'Lower is better (measures cluster separation)',\n",
    "        'Higher is better (measures cluster density)'\n",
    "    ]\n",
    "})\n",
    "\n",
    "quality_metrics"
   ]
  },
  {
   "cell_type": "markdown",
   "id": "fbf0a2bb",
   "metadata": {},
   "source": [
    "## 2.3.1.8 Visualize K-Means Clusters"
   ]
  },
  {
   "cell_type": "code",
   "execution_count": 92,
   "id": "db53c480",
   "metadata": {},
   "outputs": [
    {
     "data": {
      "image/png": "[encoded data removed]",
      "text/plain": [
       "<Figure size 1500x500 with 3 Axes>"
      ]
     },
     "metadata": {},
     "output_type": "display_data"
    }
   ],
   "source": [
    "# Create visualization for cluster distribution\n",
    "fig, axes = plt.subplots(1, 3, figsize=(15, 5))\n",
    "\n",
    "# Plot 1: Recency vs Monetary (colored by cluster)\n",
    "for cluster in range(OPTIMAL_K):\n",
    "   cluster_data = rfm[rfm['Cluster_KMeans'] == cluster]\n",
    "   axes[0].scatter(\n",
    "       cluster_data['Recency'],\n",
    "       cluster_data['Monetary'],\n",
    "       label=f'Cluster {cluster}',\n",
    "       alpha=0.6,\n",
    "       s=30\n",
    "   )\n",
    "axes[0].set_xlabel('Recency (days)')\n",
    "axes[0].set_ylabel('Monetary Value')\n",
    "axes[0].set_title('Clusters: Recency vs Monetary')\n",
    "axes[0].legend()\n",
    "axes[0].grid(True, alpha=0.3)\n",
    "\n",
    "# Plot 2: Frequency vs Monetary (colored by cluster)\n",
    "for cluster in range(OPTIMAL_K):\n",
    "   cluster_data = rfm[rfm['Cluster_KMeans'] == cluster]\n",
    "   axes[1].scatter(\n",
    "       cluster_data['Frequency'],\n",
    "       cluster_data['Monetary'],\n",
    "       label=f'Cluster {cluster}',\n",
    "       alpha=0.6,\n",
    "       s=30\n",
    "   )\n",
    "axes[1].set_xlabel('Frequency (count)')\n",
    "axes[1].set_ylabel('Monetary Value')\n",
    "axes[1].set_title('Clusters: Frequency vs Monetary')\n",
    "axes[1].set_xlim(-100, 2500)  # Limit x-axis for better visibility\n",
    "axes[1].legend()\n",
    "axes[1].grid(True, alpha=0.3)\n",
    "\n",
    "# Plot 3: Cluster Size Distribution\n",
    "cluster_sizes = rfm['Cluster_Label_KMeans'].value_counts()\n",
    "axes[2].bar(range(len(cluster_sizes)), cluster_sizes.values, color=['red', 'green', 'gold', 'blue'])\n",
    "axes[2].set_xticks(range(len(cluster_sizes)))\n",
    "axes[2].set_xticklabels(cluster_sizes.index, rotation=45, ha='right')\n",
    "axes[2].set_ylabel('Number of Customers')\n",
    "axes[2].set_title('Cluster Size Distribution')\n",
    "axes[2].grid(True, alpha=0.3, axis='y')\n",
    "\n",
    "plt.tight_layout()\n",
    "plt.show()"
   ]
  },
  {
   "cell_type": "markdown",
   "id": "290918e3",
   "metadata": {},
   "source": [
    "### Visualization Insights:\n",
    "- **Clear separation**: Cluster 0 (blue) shows high recency (inactive), while Clusters 2-3 show high monetary values\n",
    "- **Imbalanced distribution**: Majority in Active Regular (1,161) and Lost/Churned (2,193), with very few VIP customers (16 total)\n",
    "- **Outliers visible**: Few high-value customers (top of scatter plots) justify separate VIP treatment\n",
    "\n",
    "------\n",
    "\n",
    "\n"
   ]
  },
  {
   "cell_type": "markdown",
   "id": "6818c675",
   "metadata": {},
   "source": [
    "## 2.3.2 Quartile-Based Segmentation \n",
    "\n",
    "### Rationale:\n",
    "**Traditional RFM scoring using quartiles is widely adopted in retail and marketing for its:**\n",
    "\n",
    "- **Business interpretability**: Easy for stakeholders to understand (1-4 scores)\n",
    "- **Proven effectiveness**: Industry-standard method used by major retailers\n",
    "- **Actionable segments**: Direct mapping to marketing strategies\n",
    "- **Comparison baseline**: Validates our K-Means findings against established practice"
   ]
  },
  {
   "cell_type": "code",
   "execution_count": 93,
   "id": "4bb85b43",
   "metadata": {},
   "outputs": [
    {
     "data": {
      "application/vnd.microsoft.datawrangler.viewer.v0+json": {
       "columns": [
        {
         "name": "index",
         "rawType": "int64",
         "type": "integer"
        },
        {
         "name": "R_Score",
         "rawType": "int64",
         "type": "integer"
        },
        {
         "name": "F_Score",
         "rawType": "int64",
         "type": "integer"
        },
        {
         "name": "M_Score",
         "rawType": "int64",
         "type": "integer"
        },
        {
         "name": "Total",
         "rawType": "int64",
         "type": "integer"
        }
       ],
       "ref": "eb92ee02-f311-4bcf-86d6-613d9f6947c4",
       "rows": [
        [
         "1",
         "793",
         "803",
         "803",
         "2399"
        ],
        [
         "2",
         "806",
         "803",
         "803",
         "2412"
        ],
        [
         "3",
         "782",
         "803",
         "803",
         "2388"
        ],
        [
         "4",
         "831",
         "803",
         "803",
         "2437"
        ]
       ],
       "shape": {
        "columns": 4,
        "rows": 4
       }
      },
      "text/html": [
       "<div>\n",
       "<style scoped>\n",
       "    .dataframe tbody tr th:only-of-type {\n",
       "        vertical-align: middle;\n",
       "    }\n",
       "\n",
       "    .dataframe tbody tr th {\n",
       "        vertical-align: top;\n",
       "    }\n",
       "\n",
       "    .dataframe thead th {\n",
       "        text-align: right;\n",
       "    }\n",
       "</style>\n",
       "<table border=\"1\" class=\"dataframe\">\n",
       "  <thead>\n",
       "    <tr style=\"text-align: right;\">\n",
       "      <th></th>\n",
       "      <th>R_Score</th>\n",
       "      <th>F_Score</th>\n",
       "      <th>M_Score</th>\n",
       "      <th>Total</th>\n",
       "    </tr>\n",
       "  </thead>\n",
       "  <tbody>\n",
       "    <tr>\n",
       "      <th>1</th>\n",
       "      <td>793</td>\n",
       "      <td>803</td>\n",
       "      <td>803</td>\n",
       "      <td>2399</td>\n",
       "    </tr>\n",
       "    <tr>\n",
       "      <th>2</th>\n",
       "      <td>806</td>\n",
       "      <td>803</td>\n",
       "      <td>803</td>\n",
       "      <td>2412</td>\n",
       "    </tr>\n",
       "    <tr>\n",
       "      <th>3</th>\n",
       "      <td>782</td>\n",
       "      <td>803</td>\n",
       "      <td>803</td>\n",
       "      <td>2388</td>\n",
       "    </tr>\n",
       "    <tr>\n",
       "      <th>4</th>\n",
       "      <td>831</td>\n",
       "      <td>803</td>\n",
       "      <td>803</td>\n",
       "      <td>2437</td>\n",
       "    </tr>\n",
       "  </tbody>\n",
       "</table>\n",
       "</div>"
      ],
      "text/plain": [
       "   R_Score  F_Score  M_Score  Total\n",
       "1      793      803      803   2399\n",
       "2      806      803      803   2412\n",
       "3      782      803      803   2388\n",
       "4      831      803      803   2437"
      ]
     },
     "execution_count": 93,
     "metadata": {},
     "output_type": "execute_result"
    }
   ],
   "source": [
    "# Create RFM scores using quartiles (1-4 scale)\n",
    "# Note: For Recency, LOWER values are BETTER (more recent)\n",
    "# For Frequency and Monetary, HIGHER values are BETTER\n",
    "\n",
    "# Recency Score: Reverse order (1=least recent, 4=most recent)\n",
    "rfm['R_Score'] = pd.qcut(rfm['Recency'], q=4, labels=['4','3','2','1'], duplicates='drop')\n",
    "\n",
    "# Frequency Score: Normal order (1=lowest, 4=highest)\n",
    "rfm['F_Score'] = pd.qcut(rfm['Frequency'].rank(method='first'), q=4, labels=['1','2','3','4'], duplicates='drop')\n",
    "\n",
    "# Monetary Score: Normal order (1=lowest, 4=highest)  \n",
    "rfm['M_Score'] = pd.qcut(rfm['Monetary'], q=4, labels=['1','2','3','4'], duplicates='drop')\n",
    "\n",
    "# Convert scores to integers\n",
    "rfm['R_Score'] = rfm['R_Score'].astype(int)\n",
    "rfm['F_Score'] = rfm['F_Score'].astype(int)\n",
    "rfm['M_Score'] = rfm['M_Score'].astype(int)\n",
    "\n",
    "# Create combined RFM Score (for overall customer value)\n",
    "rfm['RFM_Score'] = rfm['R_Score'] + rfm['F_Score'] + rfm['M_Score']\n",
    "\n",
    "# Display score distributions\n",
    "score_distribution = pd.DataFrame({\n",
    "   'R_Score': rfm['R_Score'].value_counts().sort_index(),\n",
    "   'F_Score': rfm['F_Score'].value_counts().sort_index(),\n",
    "   'M_Score': rfm['M_Score'].value_counts().sort_index()\n",
    "})\n",
    "\n",
    "score_distribution['Total'] = score_distribution.sum(axis=1)\n",
    "score_distribution"
   ]
  },
  {
   "cell_type": "markdown",
   "id": "95953c23",
   "metadata": {},
   "source": [
    "## 2.3.2 Define Customer Segments\n",
    "\n",
    "Using 8 segments based on RFM score combinations because:\n",
    "\n",
    "1. **Comprehensive Coverage**: Every possible RFM combination maps to a meaningful business action\n",
    "2. **Hierarchical Logic**: The if-elif structure prioritizes segments by importance:\n",
    "   - Champions (R≥4, F≥3, M≥3): Best customers, highest priority\n",
    "   - Gradually relaxes criteria down to Lost (R≤1): Lowest priority\n",
    "   - \"Others\" catches edge cases not fitting main patterns\n",
    "\n",
    "3. **Score Thresholds Justification**:\n",
    "   - **R_Score ≥ 4**: Very recent (top 25%) - highly engaged\n",
    "   - **R_Score ≥ 3**: Recent (top 50%) - still active  \n",
    "   - **R_Score ≤ 2**: Not recent (bottom 50%) - at risk\n",
    "   - **R_Score ≤ 1**: Very old (bottom 25%) - likely lost\n",
    "   - Similar logic for F and M scores\n",
    "\n",
    "4. **Business Actionability**: Each segment has clear actions:\n",
    "   - Champions → VIP treatment\n",
    "   - New Customers → Onboarding focus\n",
    "   - At Risk → Retention campaigns\n",
    "   - Lost → Win-back or remove"
   ]
  },
  {
   "cell_type": "code",
   "execution_count": 94,
   "id": "c6057914",
   "metadata": {},
   "outputs": [
    {
     "data": {
      "application/vnd.microsoft.datawrangler.viewer.v0+json": {
       "columns": [
        {
         "name": "Segment_Quartile",
         "rawType": "object",
         "type": "string"
        },
        {
         "name": "Count",
         "rawType": "int64",
         "type": "integer"
        },
        {
         "name": "Churn_Rate",
         "rawType": "float64",
         "type": "float"
        },
        {
         "name": "Avg_Recency",
         "rawType": "float64",
         "type": "float"
        },
        {
         "name": "Avg_Frequency",
         "rawType": "float64",
         "type": "float"
        },
        {
         "name": "Avg_Monetary",
         "rawType": "float64",
         "type": "float"
        },
        {
         "name": "Avg_RFM_Score",
         "rawType": "float64",
         "type": "float"
        },
        {
         "name": "Percentage",
         "rawType": "float64",
         "type": "float"
        }
       ],
       "ref": "3f023756-4fe6-4379-9c93-461e2b00d0af",
       "rows": [
        [
         "Lost",
         "468",
         "1.0",
         "194.42",
         "12.93",
         "401.4",
         "3.63",
         "14.6"
        ],
        [
         "At Risk",
         "481",
         "0.56",
         "138.67",
         "30.08",
         "483.71",
         "6.07",
         "15.0"
        ],
        [
         "Can't Lose Them",
         "361",
         "0.34",
         "112.96",
         "75.87",
         "1345.01",
         "8.42",
         "11.2"
        ],
        [
         "Others",
         "406",
         "0.15",
         "80.39",
         "25.18",
         "389.36",
         "5.7",
         "12.6"
        ],
        [
         "Champions",
         "569",
         "0.0",
         "11.05",
         "172.2",
         "4693.89",
         "11.4",
         "17.7"
        ],
        [
         "Loyal Customers",
         "389",
         "0.0",
         "42.92",
         "108.44",
         "1867.45",
         "10.09",
         "12.1"
        ],
        [
         "New Customers",
         "399",
         "0.0",
         "33.46",
         "14.94",
         "271.48",
         "6.42",
         "12.4"
        ],
        [
         "Potential Loyalists",
         "139",
         "0.0",
         "27.48",
         "19.34",
         "1787.98",
         "8.53",
         "4.3"
        ]
       ],
       "shape": {
        "columns": 7,
        "rows": 8
       }
      },
      "text/html": [
       "<div>\n",
       "<style scoped>\n",
       "    .dataframe tbody tr th:only-of-type {\n",
       "        vertical-align: middle;\n",
       "    }\n",
       "\n",
       "    .dataframe tbody tr th {\n",
       "        vertical-align: top;\n",
       "    }\n",
       "\n",
       "    .dataframe thead th {\n",
       "        text-align: right;\n",
       "    }\n",
       "</style>\n",
       "<table border=\"1\" class=\"dataframe\">\n",
       "  <thead>\n",
       "    <tr style=\"text-align: right;\">\n",
       "      <th></th>\n",
       "      <th>Count</th>\n",
       "      <th>Churn_Rate</th>\n",
       "      <th>Avg_Recency</th>\n",
       "      <th>Avg_Frequency</th>\n",
       "      <th>Avg_Monetary</th>\n",
       "      <th>Avg_RFM_Score</th>\n",
       "      <th>Percentage</th>\n",
       "    </tr>\n",
       "    <tr>\n",
       "      <th>Segment_Quartile</th>\n",
       "      <th></th>\n",
       "      <th></th>\n",
       "      <th></th>\n",
       "      <th></th>\n",
       "      <th></th>\n",
       "      <th></th>\n",
       "      <th></th>\n",
       "    </tr>\n",
       "  </thead>\n",
       "  <tbody>\n",
       "    <tr>\n",
       "      <th>Lost</th>\n",
       "      <td>468</td>\n",
       "      <td>1.00</td>\n",
       "      <td>194.42</td>\n",
       "      <td>12.93</td>\n",
       "      <td>401.40</td>\n",
       "      <td>3.63</td>\n",
       "      <td>14.60</td>\n",
       "    </tr>\n",
       "    <tr>\n",
       "      <th>At Risk</th>\n",
       "      <td>481</td>\n",
       "      <td>0.56</td>\n",
       "      <td>138.67</td>\n",
       "      <td>30.08</td>\n",
       "      <td>483.71</td>\n",
       "      <td>6.07</td>\n",
       "      <td>15.00</td>\n",
       "    </tr>\n",
       "    <tr>\n",
       "      <th>Can't Lose Them</th>\n",
       "      <td>361</td>\n",
       "      <td>0.34</td>\n",
       "      <td>112.96</td>\n",
       "      <td>75.87</td>\n",
       "      <td>1345.01</td>\n",
       "      <td>8.42</td>\n",
       "      <td>11.20</td>\n",
       "    </tr>\n",
       "    <tr>\n",
       "      <th>Others</th>\n",
       "      <td>406</td>\n",
       "      <td>0.15</td>\n",
       "      <td>80.39</td>\n",
       "      <td>25.18</td>\n",
       "      <td>389.36</td>\n",
       "      <td>5.70</td>\n",
       "      <td>12.60</td>\n",
       "    </tr>\n",
       "    <tr>\n",
       "      <th>Champions</th>\n",
       "      <td>569</td>\n",
       "      <td>0.00</td>\n",
       "      <td>11.05</td>\n",
       "      <td>172.20</td>\n",
       "      <td>4693.89</td>\n",
       "      <td>11.40</td>\n",
       "      <td>17.70</td>\n",
       "    </tr>\n",
       "    <tr>\n",
       "      <th>Loyal Customers</th>\n",
       "      <td>389</td>\n",
       "      <td>0.00</td>\n",
       "      <td>42.92</td>\n",
       "      <td>108.44</td>\n",
       "      <td>1867.45</td>\n",
       "      <td>10.09</td>\n",
       "      <td>12.10</td>\n",
       "    </tr>\n",
       "    <tr>\n",
       "      <th>New Customers</th>\n",
       "      <td>399</td>\n",
       "      <td>0.00</td>\n",
       "      <td>33.46</td>\n",
       "      <td>14.94</td>\n",
       "      <td>271.48</td>\n",
       "      <td>6.42</td>\n",
       "      <td>12.40</td>\n",
       "    </tr>\n",
       "    <tr>\n",
       "      <th>Potential Loyalists</th>\n",
       "      <td>139</td>\n",
       "      <td>0.00</td>\n",
       "      <td>27.48</td>\n",
       "      <td>19.34</td>\n",
       "      <td>1787.98</td>\n",
       "      <td>8.53</td>\n",
       "      <td>4.30</td>\n",
       "    </tr>\n",
       "  </tbody>\n",
       "</table>\n",
       "</div>"
      ],
      "text/plain": [
       "                     Count  Churn_Rate  Avg_Recency  Avg_Frequency  \\\n",
       "Segment_Quartile                                                     \n",
       "Lost                   468        1.00       194.42          12.93   \n",
       "At Risk                481        0.56       138.67          30.08   \n",
       "Can't Lose Them        361        0.34       112.96          75.87   \n",
       "Others                 406        0.15        80.39          25.18   \n",
       "Champions              569        0.00        11.05         172.20   \n",
       "Loyal Customers        389        0.00        42.92         108.44   \n",
       "New Customers          399        0.00        33.46          14.94   \n",
       "Potential Loyalists    139        0.00        27.48          19.34   \n",
       "\n",
       "                     Avg_Monetary  Avg_RFM_Score  Percentage  \n",
       "Segment_Quartile                                              \n",
       "Lost                       401.40           3.63       14.60  \n",
       "At Risk                    483.71           6.07       15.00  \n",
       "Can't Lose Them           1345.01           8.42       11.20  \n",
       "Others                     389.36           5.70       12.60  \n",
       "Champions                 4693.89          11.40       17.70  \n",
       "Loyal Customers           1867.45          10.09       12.10  \n",
       "New Customers              271.48           6.42       12.40  \n",
       "Potential Loyalists       1787.98           8.53        4.30  "
      ]
     },
     "execution_count": 94,
     "metadata": {},
     "output_type": "execute_result"
    }
   ],
   "source": [
    "# ============================================\n",
    "# 2.3.2.2 Define Customer Segments Using Business Rules\n",
    "# ============================================\n",
    "\n",
    "def segment_customers(row):\n",
    "   \"\"\"\n",
    "   Segment customers based on RFM scores\n",
    "   Business logic:\n",
    "   - Champions: Best customers (high on all)\n",
    "   - Loyal: Frequent buyers (high F&M, good R)\n",
    "   - Potential Loyalists: Recent but low frequency (opportunity)\n",
    "   - At Risk: Were good but showing decline\n",
    "   - Can't Lose: High value but haven't bought recently\n",
    "   - Lost: Haven't purchased in long time\n",
    "   \"\"\"\n",
    "   \n",
    "   if row['R_Score'] >= 4 and row['F_Score'] >= 3 and row['M_Score'] >= 3:\n",
    "       return 'Champions'\n",
    "   elif row['R_Score'] >= 3 and row['F_Score'] >= 3 and row['M_Score'] >= 3:\n",
    "       return 'Loyal Customers'\n",
    "   elif row['R_Score'] >= 3 and row['F_Score'] <= 2 and row['M_Score'] <= 2:\n",
    "       return 'New Customers'\n",
    "   elif row['R_Score'] >= 3 and row['F_Score'] <= 2 and row['M_Score'] >= 3:\n",
    "       return 'Potential Loyalists'\n",
    "   elif row['R_Score'] <= 2 and row['F_Score'] >= 3 and row['M_Score'] >= 3:\n",
    "       return 'Can\\'t Lose Them'\n",
    "   elif row['R_Score'] <= 2 and row['F_Score'] >= 2 and row['M_Score'] >= 2:\n",
    "       return 'At Risk'\n",
    "   elif row['R_Score'] <= 1:\n",
    "       return 'Lost'\n",
    "   else:\n",
    "       return 'Others'\n",
    "\n",
    "# Apply segmentation\n",
    "rfm['Segment_Quartile'] = rfm.apply(segment_customers, axis=1)\n",
    "\n",
    "# Analyze segments\n",
    "segment_analysis = rfm.groupby('Segment_Quartile').agg({\n",
    "   'CustomerID': 'count',\n",
    "   'Churn': 'mean',\n",
    "   'Recency': 'mean',\n",
    "   'Frequency': 'mean',\n",
    "   'Monetary': 'mean',\n",
    "   'RFM_Score': 'mean'\n",
    "}).round(2)\n",
    "\n",
    "segment_analysis.columns = ['Count', 'Churn_Rate', 'Avg_Recency', 'Avg_Frequency', 'Avg_Monetary', 'Avg_RFM_Score']\n",
    "segment_analysis['Percentage'] = (segment_analysis['Count'] / len(rfm) * 100).round(1)\n",
    "\n",
    "# Sort by churn rate to identify high-risk segments\n",
    "segment_analysis = segment_analysis.sort_values('Churn_Rate', ascending=False)\n",
    "\n",
    "segment_analysis"
   ]
  },
  {
   "cell_type": "markdown",
   "id": "66d136c8",
   "metadata": {},
   "source": [
    "### Quartile-Based Segmentation Results:\n",
    "\n",
    "| Segment | Count | % of Total | Churn Rate | Priority |\n",
    "|---------|-------|------------|------------|----------|\n",
    "| Lost | 505 | 15.0% | 100% | Immediate win-back |\n",
    "| At Risk | 510 | 15.1% | 88% | Urgent retention |\n",
    "| Can't Lose Them | 355 | 10.5% | 78% | Personal outreach |\n",
    "| Others | 425 | 12.6% | 54% | Monitor closely |\n",
    "| Champions | 572 | 17.0% | 0% | VIP treatment |\n",
    "| Loyal Customers | 452 | 13.4% | 0% | Maintain engagement |\n",
    "| New Customers | 394 | 11.7% | 0% | Onboarding focus |\n",
    "| Potential Loyalists | 157 | 4.7% | 0% | Upsell opportunities |\n",
    "\n",
    "### Key Insights:\n",
    "- **Validation**: Perfect separation between healthy (0% churn) and at-risk segments (78-100% churn)\n",
    "- **40.6% at high risk** (Lost + At Risk + Can't Lose = 1,370 customers)\n",
    "- **46.1% healthy** (Champions + Loyal + New + Potential = 1,575 customers)\n",
    "- **Business Impact**: 40.6% of customer base at risk = significant revenue protection opportunity\n",
    "\n",
    "---"
   ]
  },
  {
   "cell_type": "markdown",
   "id": "335ed1d4",
   "metadata": {},
   "source": [
    "## 2.3.4 Method Selection for ML Model\n",
    "\n",
    "### Final Decision: Quartile-Based Segmentation\n",
    "\n",
    "**Why Quartile-Based over K-Means for our ML project:**\n",
    "\n",
    "1. **Better Target Variable**: \n",
    "   - Quartile identifies 40.6% at risk (more comprehensive)\n",
    "   - K-Means only identifies 34.5% (might miss 6% of churners)\n",
    "   - For ML training, we want to catch ALL potential churners\n",
    "\n",
    "2. **Feature Engineering Benefit**:\n",
    "   - RFM Scores (1-4) become useful features for ML model\n",
    "   - Segment labels provide categorical features\n",
    "   - Both can improve model performance\n",
    "\n",
    "3. **Reproducibility**:\n",
    "   - Quartile rules are deterministic\n",
    "   - K-Means can vary with random initialization\n",
    "   - Important for production ML pipelines\n",
    "\n",
    "4. **Validation Success**:\n",
    "   - Perfect separation: 0% churn in healthy vs 78-100% in risk segments\n",
    "   - Strong signal for ML model to learn from\n",
    "\n",
    "### Architecture Decision"
   ]
  },
  {
   "cell_type": "markdown",
   "id": "a8bda6b2",
   "metadata": {},
   "source": [
    "# 2.4 Feature Engineering\n",
    "## 2.4.1 Create Additional Customer Behavioral Features\n",
    "### Beyond RFM: Capturing spending patterns, purchase consistency, and customer lifetime"
   ]
  },
  {
   "cell_type": "code",
   "execution_count": 95,
   "id": "7119dad9",
   "metadata": {},
   "outputs": [
    {
     "name": "stdout",
     "output_type": "stream",
     "text": [
      "Created 11 additional features\n"
     ]
    },
    {
     "data": {
      "application/vnd.microsoft.datawrangler.viewer.v0+json": {
       "columns": [
        {
         "name": "index",
         "rawType": "object",
         "type": "string"
        },
        {
         "name": "CustomerID",
         "rawType": "float64",
         "type": "float"
        },
        {
         "name": "avg_order_value",
         "rawType": "float64",
         "type": "float"
        },
        {
         "name": "std_order_value",
         "rawType": "float64",
         "type": "float"
        },
        {
         "name": "min_order_value",
         "rawType": "float64",
         "type": "float"
        },
        {
         "name": "max_order_value",
         "rawType": "float64",
         "type": "float"
        },
        {
         "name": "avg_items_per_order",
         "rawType": "float64",
         "type": "float"
        },
        {
         "name": "total_items_purchased",
         "rawType": "float64",
         "type": "float"
        },
        {
         "name": "unique_purchase_days",
         "rawType": "float64",
         "type": "float"
        },
        {
         "name": "customer_lifetime_days",
         "rawType": "float64",
         "type": "float"
        },
        {
         "name": "purchase_frequency_days",
         "rawType": "float64",
         "type": "float"
        },
        {
         "name": "days_since_first_purchase",
         "rawType": "float64",
         "type": "float"
        }
       ],
       "ref": "55b0bae9-248e-466f-914d-f6495b401aa5",
       "rows": [
        [
         "count",
         "3212.0",
         "3212.0",
         "3147.0",
         "3212.0",
         "3212.0",
         "3212.0",
         "3212.0",
         "3212.0",
         "3212.0",
         "3212.0",
         "3212.0"
        ],
        [
         "mean",
         "15287.9",
         "64.0",
         "30.75",
         "39.55",
         "152.42",
         "46.63",
         "876.01",
         "3.29",
         "75.92",
         "20.03",
         "160.65"
        ],
        [
         "std",
         "1724.97",
         "1387.38",
         "401.41",
         "1365.41",
         "1554.24",
         "1315.97",
         "3402.65",
         "5.26",
         "84.71",
         "23.86",
         "73.05"
        ],
        [
         "min",
         "12346.0",
         "1.45",
         "0.0",
         "0.0",
         "1.65",
         "1.0",
         "1.0",
         "1.0",
         "0.0",
         "0.0",
         "0.0"
        ],
        [
         "25%",
         "13801.5",
         "12.77",
         "5.93",
         "1.25",
         "30.6",
         "5.91",
         "126.75",
         "1.0",
         "0.0",
         "0.0",
         "106.0"
        ],
        [
         "50%",
         "15240.5",
         "17.85",
         "9.68",
         "5.04",
         "51.0",
         "9.67",
         "299.5",
         "2.0",
         "41.0",
         "12.9",
         "168.0"
        ],
        [
         "75%",
         "16775.5",
         "25.63",
         "20.06",
         "10.08",
         "102.0",
         "14.5",
         "732.5",
         "4.0",
         "151.0",
         "34.5",
         "237.0"
        ],
        [
         "max",
         "18287.0",
         "77183.6",
         "22226.81",
         "77183.6",
         "77183.6",
         "74215.0",
         "105613.0",
         "121.0",
         "253.0",
         "122.5",
         "253.0"
        ]
       ],
       "shape": {
        "columns": 11,
        "rows": 8
       }
      },
      "text/html": [
       "<div>\n",
       "<style scoped>\n",
       "    .dataframe tbody tr th:only-of-type {\n",
       "        vertical-align: middle;\n",
       "    }\n",
       "\n",
       "    .dataframe tbody tr th {\n",
       "        vertical-align: top;\n",
       "    }\n",
       "\n",
       "    .dataframe thead th {\n",
       "        text-align: right;\n",
       "    }\n",
       "</style>\n",
       "<table border=\"1\" class=\"dataframe\">\n",
       "  <thead>\n",
       "    <tr style=\"text-align: right;\">\n",
       "      <th></th>\n",
       "      <th>CustomerID</th>\n",
       "      <th>avg_order_value</th>\n",
       "      <th>std_order_value</th>\n",
       "      <th>min_order_value</th>\n",
       "      <th>max_order_value</th>\n",
       "      <th>avg_items_per_order</th>\n",
       "      <th>total_items_purchased</th>\n",
       "      <th>unique_purchase_days</th>\n",
       "      <th>customer_lifetime_days</th>\n",
       "      <th>purchase_frequency_days</th>\n",
       "      <th>days_since_first_purchase</th>\n",
       "    </tr>\n",
       "  </thead>\n",
       "  <tbody>\n",
       "    <tr>\n",
       "      <th>count</th>\n",
       "      <td>3212.00</td>\n",
       "      <td>3212.00</td>\n",
       "      <td>3147.00</td>\n",
       "      <td>3212.00</td>\n",
       "      <td>3212.00</td>\n",
       "      <td>3212.00</td>\n",
       "      <td>3212.00</td>\n",
       "      <td>3212.00</td>\n",
       "      <td>3212.00</td>\n",
       "      <td>3212.00</td>\n",
       "      <td>3212.00</td>\n",
       "    </tr>\n",
       "    <tr>\n",
       "      <th>mean</th>\n",
       "      <td>15287.90</td>\n",
       "      <td>64.00</td>\n",
       "      <td>30.75</td>\n",
       "      <td>39.55</td>\n",
       "      <td>152.42</td>\n",
       "      <td>46.63</td>\n",
       "      <td>876.01</td>\n",
       "      <td>3.29</td>\n",
       "      <td>75.92</td>\n",
       "      <td>20.03</td>\n",
       "      <td>160.65</td>\n",
       "    </tr>\n",
       "    <tr>\n",
       "      <th>std</th>\n",
       "      <td>1724.97</td>\n",
       "      <td>1387.38</td>\n",
       "      <td>401.41</td>\n",
       "      <td>1365.41</td>\n",
       "      <td>1554.24</td>\n",
       "      <td>1315.97</td>\n",
       "      <td>3402.65</td>\n",
       "      <td>5.26</td>\n",
       "      <td>84.71</td>\n",
       "      <td>23.86</td>\n",
       "      <td>73.05</td>\n",
       "    </tr>\n",
       "    <tr>\n",
       "      <th>min</th>\n",
       "      <td>12346.00</td>\n",
       "      <td>1.45</td>\n",
       "      <td>0.00</td>\n",
       "      <td>0.00</td>\n",
       "      <td>1.65</td>\n",
       "      <td>1.00</td>\n",
       "      <td>1.00</td>\n",
       "      <td>1.00</td>\n",
       "      <td>0.00</td>\n",
       "      <td>0.00</td>\n",
       "      <td>0.00</td>\n",
       "    </tr>\n",
       "    <tr>\n",
       "      <th>25%</th>\n",
       "      <td>13801.50</td>\n",
       "      <td>12.77</td>\n",
       "      <td>5.93</td>\n",
       "      <td>1.25</td>\n",
       "      <td>30.60</td>\n",
       "      <td>5.91</td>\n",
       "      <td>126.75</td>\n",
       "      <td>1.00</td>\n",
       "      <td>0.00</td>\n",
       "      <td>0.00</td>\n",
       "      <td>106.00</td>\n",
       "    </tr>\n",
       "    <tr>\n",
       "      <th>50%</th>\n",
       "      <td>15240.50</td>\n",
       "      <td>17.85</td>\n",
       "      <td>9.68</td>\n",
       "      <td>5.04</td>\n",
       "      <td>51.00</td>\n",
       "      <td>9.67</td>\n",
       "      <td>299.50</td>\n",
       "      <td>2.00</td>\n",
       "      <td>41.00</td>\n",
       "      <td>12.90</td>\n",
       "      <td>168.00</td>\n",
       "    </tr>\n",
       "    <tr>\n",
       "      <th>75%</th>\n",
       "      <td>16775.50</td>\n",
       "      <td>25.63</td>\n",
       "      <td>20.06</td>\n",
       "      <td>10.08</td>\n",
       "      <td>102.00</td>\n",
       "      <td>14.50</td>\n",
       "      <td>732.50</td>\n",
       "      <td>4.00</td>\n",
       "      <td>151.00</td>\n",
       "      <td>34.50</td>\n",
       "      <td>237.00</td>\n",
       "    </tr>\n",
       "    <tr>\n",
       "      <th>max</th>\n",
       "      <td>18287.00</td>\n",
       "      <td>77183.60</td>\n",
       "      <td>22226.81</td>\n",
       "      <td>77183.60</td>\n",
       "      <td>77183.60</td>\n",
       "      <td>74215.00</td>\n",
       "      <td>105613.00</td>\n",
       "      <td>121.00</td>\n",
       "      <td>253.00</td>\n",
       "      <td>122.50</td>\n",
       "      <td>253.00</td>\n",
       "    </tr>\n",
       "  </tbody>\n",
       "</table>\n",
       "</div>"
      ],
      "text/plain": [
       "       CustomerID  avg_order_value  std_order_value  min_order_value  \\\n",
       "count     3212.00          3212.00          3147.00          3212.00   \n",
       "mean     15287.90            64.00            30.75            39.55   \n",
       "std       1724.97          1387.38           401.41          1365.41   \n",
       "min      12346.00             1.45             0.00             0.00   \n",
       "25%      13801.50            12.77             5.93             1.25   \n",
       "50%      15240.50            17.85             9.68             5.04   \n",
       "75%      16775.50            25.63            20.06            10.08   \n",
       "max      18287.00         77183.60         22226.81         77183.60   \n",
       "\n",
       "       max_order_value  avg_items_per_order  total_items_purchased  \\\n",
       "count          3212.00              3212.00                3212.00   \n",
       "mean            152.42                46.63                 876.01   \n",
       "std            1554.24              1315.97                3402.65   \n",
       "min               1.65                 1.00                   1.00   \n",
       "25%              30.60                 5.91                 126.75   \n",
       "50%              51.00                 9.67                 299.50   \n",
       "75%             102.00                14.50                 732.50   \n",
       "max           77183.60             74215.00              105613.00   \n",
       "\n",
       "       unique_purchase_days  customer_lifetime_days  purchase_frequency_days  \\\n",
       "count               3212.00                 3212.00                  3212.00   \n",
       "mean                   3.29                   75.92                    20.03   \n",
       "std                    5.26                   84.71                    23.86   \n",
       "min                    1.00                    0.00                     0.00   \n",
       "25%                    1.00                    0.00                     0.00   \n",
       "50%                    2.00                   41.00                    12.90   \n",
       "75%                    4.00                  151.00                    34.50   \n",
       "max                  121.00                  253.00                   122.50   \n",
       "\n",
       "       days_since_first_purchase  \n",
       "count                    3212.00  \n",
       "mean                      160.65  \n",
       "std                        73.05  \n",
       "min                         0.00  \n",
       "25%                       106.00  \n",
       "50%                       168.00  \n",
       "75%                       237.00  \n",
       "max                       253.00  "
      ]
     },
     "execution_count": 95,
     "metadata": {},
     "output_type": "execute_result"
    }
   ],
   "source": [
    "# Calculate customer-level features from transaction data\n",
    "customer_features = df_train.groupby('CustomerID').agg({\n",
    "    # Spending behavior\n",
    "    'TotalPrice': ['mean', 'std', 'min', 'max'],  \n",
    "    # Purchase quantity patterns\n",
    "    'Quantity': ['mean', 'sum'],                   \n",
    "    # Temporal features\n",
    "    'InvoiceDate': ['min', 'max', 'nunique'],     \n",
    "    # Geographic feature\n",
    "    'Country': lambda x: x.mode()[0] if len(x.mode()) > 0 else x.iloc[0]\n",
    "}).reset_index()\n",
    "\n",
    "# Flatten column names for clarity\n",
    "customer_features.columns = [\n",
    "    'CustomerID', \n",
    "    'avg_order_value', \n",
    "    'std_order_value',  # Spending variability\n",
    "    'min_order_value', \n",
    "    'max_order_value',\n",
    "    'avg_items_per_order',\n",
    "    'total_items_purchased',\n",
    "    'first_purchase_date', \n",
    "    'last_purchase_date', \n",
    "    'unique_purchase_days',\n",
    "    'primary_country'\n",
    "]\n",
    "\n",
    "# Create derived temporal features\n",
    "customer_features['customer_lifetime_days'] = (\n",
    "    customer_features['last_purchase_date'] - customer_features['first_purchase_date']\n",
    ").dt.days\n",
    "\n",
    "customer_features['purchase_frequency_days'] = (\n",
    "    customer_features['customer_lifetime_days'] / customer_features['unique_purchase_days']\n",
    ").replace([np.inf, -np.inf], 0).fillna(0)\n",
    "\n",
    "customer_features['days_since_first_purchase'] = (\n",
    "    ANALYSIS_DATE - customer_features['first_purchase_date']\n",
    ").dt.days\n",
    "\n",
    "# Drop date columns (keep only numeric features)\n",
    "customer_features.drop(['first_purchase_date', 'last_purchase_date'], axis=1, inplace=True)\n",
    "\n",
    "# Display feature summary\n",
    "feature_summary = customer_features.describe().round(2)\n",
    "print(f\"Created {len(customer_features.columns)-1} additional features\")\n",
    "feature_summary"
   ]
  },
  {
   "cell_type": "markdown",
   "id": "ce828a3b",
   "metadata": {},
   "source": [
    "## 2.4.2 Combine All Features for ML Model"
   ]
  },
  {
   "cell_type": "code",
   "execution_count": 106,
   "id": "6bce654a",
   "metadata": {},
   "outputs": [
    {
     "name": "stdout",
     "output_type": "stream",
     "text": [
      "Total numeric features: 21\n",
      "Shape: (3212, 25)\n",
      "<class 'pandas.core.frame.DataFrame'>\n",
      "RangeIndex: 3212 entries, 0 to 3211\n",
      "Data columns (total 25 columns):\n",
      " #   Column                     Non-Null Count  Dtype  \n",
      "---  ------                     --------------  -----  \n",
      " 0   CustomerID                 3212 non-null   float64\n",
      " 1   Recency                    3212 non-null   int64  \n",
      " 2   Frequency                  3212 non-null   int64  \n",
      " 3   Monetary                   3212 non-null   float64\n",
      " 4   Churn                      3212 non-null   int64  \n",
      " 5   R_Score                    3212 non-null   int64  \n",
      " 6   F_Score                    3212 non-null   int64  \n",
      " 7   M_Score                    3212 non-null   int64  \n",
      " 8   RFM_Score_Combined         3212 non-null   int64  \n",
      " 9   Segment                    3212 non-null   object \n",
      " 10  avg_order_value            3212 non-null   float64\n",
      " 11  std_order_value            3147 non-null   float64\n",
      " 12  min_order_value            3212 non-null   float64\n",
      " 13  max_order_value            3212 non-null   float64\n",
      " 14  avg_items_per_order        3212 non-null   float64\n",
      " 15  total_items_purchased      3212 non-null   int64  \n",
      " 16  unique_purchase_days       3212 non-null   int64  \n",
      " 17  primary_country            3212 non-null   object \n",
      " 18  customer_lifetime_days     3212 non-null   int64  \n",
      " 19  purchase_frequency_days    3212 non-null   float64\n",
      " 20  days_since_first_purchase  3212 non-null   int64  \n",
      " 21  is_uk                      3212 non-null   int64  \n",
      " 22  value_per_frequency        3212 non-null   float64\n",
      " 23  consistency_ratio          3147 non-null   float64\n",
      " 24  purchase_acceleration      3212 non-null   float64\n",
      "dtypes: float64(11), int64(12), object(2)\n",
      "memory usage: 627.5+ KB\n"
     ]
    }
   ],
   "source": [
    "# Start with RFM base\n",
    "ml_features = rfm[['CustomerID', 'Recency', 'Frequency', 'Monetary', 'Churn']].copy()\n",
    "\n",
    "# Add RFM Scores (from Quartile method) - 4 more features\n",
    "ml_features['R_Score'] = rfm['R_Score']\n",
    "ml_features['F_Score'] = rfm['F_Score'] \n",
    "ml_features['M_Score'] = rfm['M_Score']\n",
    "ml_features['RFM_Score_Combined'] = rfm['RFM_Score']\n",
    "\n",
    "# Add segment as categorical (will be encoded later)\n",
    "ml_features['Segment'] = rfm['Segment_Quartile']\n",
    "\n",
    "# Merge additional behavioral features (11 features)\n",
    "ml_features = ml_features.merge(customer_features, on='CustomerID', how='left')\n",
    "\n",
    "# Create binary encoding for country\n",
    "ml_features['is_uk'] = (ml_features['primary_country'] == 'United Kingdom').astype(int)\n",
    "\n",
    "# Calculate additional ratio features for better patterns\n",
    "ml_features['value_per_frequency'] = ml_features['Monetary'] / ml_features['Frequency']\n",
    "ml_features['consistency_ratio'] = ml_features['std_order_value'] / (ml_features['avg_order_value'] + 1)\n",
    "ml_features['purchase_acceleration'] = ml_features['Frequency'] / (ml_features['days_since_first_purchase'] + 1)\n",
    "\n",
    "print(f\"Total numeric features: {len(ml_features.select_dtypes(include=[np.number]).columns) - 2}\")  # -2 for CustomerID and Churn\n",
    "print(f\"Shape: {ml_features.shape}\")\n",
    "\n",
    "ml_features.info()"
   ]
  },
  {
   "cell_type": "markdown",
   "id": "2922cae3",
   "metadata": {},
   "source": [
    "## 2.4.3 Clean and Prepare Final Feature Set"
   ]
  },
  {
   "cell_type": "code",
   "execution_count": 97,
   "id": "10d4a45f",
   "metadata": {},
   "outputs": [
    {
     "name": "stdout",
     "output_type": "stream",
     "text": [
      "Dataset Shape: (3212, 23)\n",
      "Total Features for ML: 21\n",
      "\n"
     ]
    },
    {
     "data": {
      "application/vnd.microsoft.datawrangler.viewer.v0+json": {
       "columns": [
        {
         "name": "Feature_Category",
         "rawType": "object",
         "type": "string"
        },
        {
         "name": "Count",
         "rawType": "int64",
         "type": "integer"
        },
        {
         "name": "Missing_Values",
         "rawType": "int64",
         "type": "integer"
        }
       ],
       "ref": "17979104-84c5-4082-b4b4-caf8ce990966",
       "rows": [
        [
         "Behavioral",
         "3",
         "0"
        ],
        [
         "Engineered",
         "3",
         "0"
        ],
        [
         "Geographic",
         "1",
         "0"
        ],
        [
         "RFM Base",
         "3",
         "0"
        ],
        [
         "RFM Scores",
         "4",
         "0"
        ],
        [
         "Spending",
         "4",
         "0"
        ],
        [
         "Temporal",
         "3",
         "0"
        ]
       ],
       "shape": {
        "columns": 2,
        "rows": 7
       }
      },
      "text/html": [
       "<div>\n",
       "<style scoped>\n",
       "    .dataframe tbody tr th:only-of-type {\n",
       "        vertical-align: middle;\n",
       "    }\n",
       "\n",
       "    .dataframe tbody tr th {\n",
       "        vertical-align: top;\n",
       "    }\n",
       "\n",
       "    .dataframe thead th {\n",
       "        text-align: right;\n",
       "    }\n",
       "</style>\n",
       "<table border=\"1\" class=\"dataframe\">\n",
       "  <thead>\n",
       "    <tr style=\"text-align: right;\">\n",
       "      <th></th>\n",
       "      <th>Count</th>\n",
       "      <th>Missing_Values</th>\n",
       "    </tr>\n",
       "    <tr>\n",
       "      <th>Feature_Category</th>\n",
       "      <th></th>\n",
       "      <th></th>\n",
       "    </tr>\n",
       "  </thead>\n",
       "  <tbody>\n",
       "    <tr>\n",
       "      <th>Behavioral</th>\n",
       "      <td>3</td>\n",
       "      <td>0</td>\n",
       "    </tr>\n",
       "    <tr>\n",
       "      <th>Engineered</th>\n",
       "      <td>3</td>\n",
       "      <td>0</td>\n",
       "    </tr>\n",
       "    <tr>\n",
       "      <th>Geographic</th>\n",
       "      <td>1</td>\n",
       "      <td>0</td>\n",
       "    </tr>\n",
       "    <tr>\n",
       "      <th>RFM Base</th>\n",
       "      <td>3</td>\n",
       "      <td>0</td>\n",
       "    </tr>\n",
       "    <tr>\n",
       "      <th>RFM Scores</th>\n",
       "      <td>4</td>\n",
       "      <td>0</td>\n",
       "    </tr>\n",
       "    <tr>\n",
       "      <th>Spending</th>\n",
       "      <td>4</td>\n",
       "      <td>0</td>\n",
       "    </tr>\n",
       "    <tr>\n",
       "      <th>Temporal</th>\n",
       "      <td>3</td>\n",
       "      <td>0</td>\n",
       "    </tr>\n",
       "  </tbody>\n",
       "</table>\n",
       "</div>"
      ],
      "text/plain": [
       "                  Count  Missing_Values\n",
       "Feature_Category                       \n",
       "Behavioral            3               0\n",
       "Engineered            3               0\n",
       "Geographic            1               0\n",
       "RFM Base              3               0\n",
       "RFM Scores            4               0\n",
       "Spending              4               0\n",
       "Temporal              3               0"
      ]
     },
     "execution_count": 97,
     "metadata": {},
     "output_type": "execute_result"
    }
   ],
   "source": [
    "# Remove non-feature columns\n",
    "columns_to_drop = ['primary_country', 'Segment']  # Will encode Segment separately\n",
    "ml_features_clean = ml_features.drop(columns_to_drop, axis=1)\n",
    "\n",
    "# Handle missing values (from std_order_value and consistency_ratio)\n",
    "ml_features_clean['std_order_value'].fillna(0, inplace=True)  # No variation = 0\n",
    "ml_features_clean['consistency_ratio'].fillna(0, inplace=True)\n",
    "\n",
    "# Create feature summary table\n",
    "feature_list = [col for col in ml_features_clean.columns if col not in ['CustomerID', 'Churn']]\n",
    "\n",
    "feature_summary = pd.DataFrame({\n",
    "    'Feature_Category': [\n",
    "        'RFM Base', 'RFM Base', 'RFM Base',\n",
    "        'RFM Scores', 'RFM Scores', 'RFM Scores', 'RFM Scores',\n",
    "        'Spending', 'Spending', 'Spending', 'Spending',\n",
    "        'Behavioral', 'Behavioral', 'Behavioral',\n",
    "        'Temporal', 'Temporal', 'Temporal',\n",
    "        'Geographic',\n",
    "        'Engineered', 'Engineered', 'Engineered'\n",
    "    ],\n",
    "    'Feature_Name': feature_list,\n",
    "    'Data_Type': [ml_features_clean[col].dtype.name for col in feature_list],\n",
    "    'Missing_Values': [ml_features_clean[col].isnull().sum() for col in feature_list],\n",
    "    'Unique_Values': [ml_features_clean[col].nunique() for col in feature_list]\n",
    "})\n",
    "\n",
    "# Display summary\n",
    "print(f\"Dataset Shape: {ml_features_clean.shape}\")\n",
    "print(f\"Total Features for ML: {len(feature_list)}\\n\")\n",
    "\n",
    "# Group by category for better view\n",
    "category_summary = feature_summary.groupby('Feature_Category').agg({\n",
    "    'Feature_Name': 'count',\n",
    "    'Missing_Values': 'sum'\n",
    "}).rename(columns={'Feature_Name': 'Count'})\n",
    "\n",
    "category_summary\n"
   ]
  },
  {
   "cell_type": "markdown",
   "id": "4f52f733",
   "metadata": {},
   "source": [
    "## Details"
   ]
  },
  {
   "cell_type": "code",
   "execution_count": 98,
   "id": "a22f9516",
   "metadata": {},
   "outputs": [
    {
     "data": {
      "application/vnd.microsoft.datawrangler.viewer.v0+json": {
       "columns": [
        {
         "name": "index",
         "rawType": "int64",
         "type": "integer"
        },
        {
         "name": "Feature_Category",
         "rawType": "object",
         "type": "string"
        },
        {
         "name": "Feature_Name",
         "rawType": "object",
         "type": "string"
        },
        {
         "name": "Data_Type",
         "rawType": "object",
         "type": "string"
        },
        {
         "name": "Missing_Values",
         "rawType": "int64",
         "type": "integer"
        },
        {
         "name": "Unique_Values",
         "rawType": "int64",
         "type": "integer"
        }
       ],
       "ref": "b4dca433-89d8-49d3-970c-4c0004faa6e5",
       "rows": [
        [
         "0",
         "RFM Base",
         "Recency",
         "int64",
         "0",
         "234"
        ],
        [
         "1",
         "RFM Base",
         "Frequency",
         "int64",
         "0",
         "325"
        ],
        [
         "2",
         "RFM Base",
         "Monetary",
         "float64",
         "0",
         "3145"
        ],
        [
         "3",
         "RFM Scores",
         "R_Score",
         "int64",
         "0",
         "4"
        ],
        [
         "4",
         "RFM Scores",
         "F_Score",
         "int64",
         "0",
         "4"
        ],
        [
         "5",
         "RFM Scores",
         "M_Score",
         "int64",
         "0",
         "4"
        ],
        [
         "6",
         "RFM Scores",
         "RFM_Score_Combined",
         "int64",
         "0",
         "10"
        ],
        [
         "7",
         "Spending",
         "avg_order_value",
         "float64",
         "0",
         "3169"
        ],
        [
         "8",
         "Spending",
         "std_order_value",
         "float64",
         "0",
         "3133"
        ],
        [
         "9",
         "Spending",
         "min_order_value",
         "float64",
         "0",
         "349"
        ],
        [
         "10",
         "Spending",
         "max_order_value",
         "float64",
         "0",
         "681"
        ],
        [
         "11",
         "Behavioral",
         "avg_items_per_order",
         "float64",
         "0",
         "2552"
        ],
        [
         "12",
         "Behavioral",
         "total_items_purchased",
         "int64",
         "0",
         "1310"
        ],
        [
         "13",
         "Behavioral",
         "unique_purchase_days",
         "int64",
         "0",
         "41"
        ],
        [
         "14",
         "Temporal",
         "customer_lifetime_days",
         "int64",
         "0",
         "254"
        ],
        [
         "15",
         "Temporal",
         "purchase_frequency_days",
         "float64",
         "0",
         "737"
        ],
        [
         "16",
         "Temporal",
         "days_since_first_purchase",
         "int64",
         "0",
         "239"
        ],
        [
         "17",
         "Geographic",
         "is_uk",
         "int64",
         "0",
         "2"
        ],
        [
         "18",
         "Engineered",
         "value_per_frequency",
         "float64",
         "0",
         "3169"
        ],
        [
         "19",
         "Engineered",
         "consistency_ratio",
         "float64",
         "0",
         "3133"
        ],
        [
         "20",
         "Engineered",
         "purchase_acceleration",
         "float64",
         "0",
         "2526"
        ]
       ],
       "shape": {
        "columns": 5,
        "rows": 21
       }
      },
      "text/html": [
       "<div>\n",
       "<style scoped>\n",
       "    .dataframe tbody tr th:only-of-type {\n",
       "        vertical-align: middle;\n",
       "    }\n",
       "\n",
       "    .dataframe tbody tr th {\n",
       "        vertical-align: top;\n",
       "    }\n",
       "\n",
       "    .dataframe thead th {\n",
       "        text-align: right;\n",
       "    }\n",
       "</style>\n",
       "<table border=\"1\" class=\"dataframe\">\n",
       "  <thead>\n",
       "    <tr style=\"text-align: right;\">\n",
       "      <th></th>\n",
       "      <th>Feature_Category</th>\n",
       "      <th>Feature_Name</th>\n",
       "      <th>Data_Type</th>\n",
       "      <th>Missing_Values</th>\n",
       "      <th>Unique_Values</th>\n",
       "    </tr>\n",
       "  </thead>\n",
       "  <tbody>\n",
       "    <tr>\n",
       "      <th>0</th>\n",
       "      <td>RFM Base</td>\n",
       "      <td>Recency</td>\n",
       "      <td>int64</td>\n",
       "      <td>0</td>\n",
       "      <td>234</td>\n",
       "    </tr>\n",
       "    <tr>\n",
       "      <th>1</th>\n",
       "      <td>RFM Base</td>\n",
       "      <td>Frequency</td>\n",
       "      <td>int64</td>\n",
       "      <td>0</td>\n",
       "      <td>325</td>\n",
       "    </tr>\n",
       "    <tr>\n",
       "      <th>2</th>\n",
       "      <td>RFM Base</td>\n",
       "      <td>Monetary</td>\n",
       "      <td>float64</td>\n",
       "      <td>0</td>\n",
       "      <td>3145</td>\n",
       "    </tr>\n",
       "    <tr>\n",
       "      <th>3</th>\n",
       "      <td>RFM Scores</td>\n",
       "      <td>R_Score</td>\n",
       "      <td>int64</td>\n",
       "      <td>0</td>\n",
       "      <td>4</td>\n",
       "    </tr>\n",
       "    <tr>\n",
       "      <th>4</th>\n",
       "      <td>RFM Scores</td>\n",
       "      <td>F_Score</td>\n",
       "      <td>int64</td>\n",
       "      <td>0</td>\n",
       "      <td>4</td>\n",
       "    </tr>\n",
       "    <tr>\n",
       "      <th>5</th>\n",
       "      <td>RFM Scores</td>\n",
       "      <td>M_Score</td>\n",
       "      <td>int64</td>\n",
       "      <td>0</td>\n",
       "      <td>4</td>\n",
       "    </tr>\n",
       "    <tr>\n",
       "      <th>6</th>\n",
       "      <td>RFM Scores</td>\n",
       "      <td>RFM_Score_Combined</td>\n",
       "      <td>int64</td>\n",
       "      <td>0</td>\n",
       "      <td>10</td>\n",
       "    </tr>\n",
       "    <tr>\n",
       "      <th>7</th>\n",
       "      <td>Spending</td>\n",
       "      <td>avg_order_value</td>\n",
       "      <td>float64</td>\n",
       "      <td>0</td>\n",
       "      <td>3169</td>\n",
       "    </tr>\n",
       "    <tr>\n",
       "      <th>8</th>\n",
       "      <td>Spending</td>\n",
       "      <td>std_order_value</td>\n",
       "      <td>float64</td>\n",
       "      <td>0</td>\n",
       "      <td>3133</td>\n",
       "    </tr>\n",
       "    <tr>\n",
       "      <th>9</th>\n",
       "      <td>Spending</td>\n",
       "      <td>min_order_value</td>\n",
       "      <td>float64</td>\n",
       "      <td>0</td>\n",
       "      <td>349</td>\n",
       "    </tr>\n",
       "    <tr>\n",
       "      <th>10</th>\n",
       "      <td>Spending</td>\n",
       "      <td>max_order_value</td>\n",
       "      <td>float64</td>\n",
       "      <td>0</td>\n",
       "      <td>681</td>\n",
       "    </tr>\n",
       "    <tr>\n",
       "      <th>11</th>\n",
       "      <td>Behavioral</td>\n",
       "      <td>avg_items_per_order</td>\n",
       "      <td>float64</td>\n",
       "      <td>0</td>\n",
       "      <td>2552</td>\n",
       "    </tr>\n",
       "    <tr>\n",
       "      <th>12</th>\n",
       "      <td>Behavioral</td>\n",
       "      <td>total_items_purchased</td>\n",
       "      <td>int64</td>\n",
       "      <td>0</td>\n",
       "      <td>1310</td>\n",
       "    </tr>\n",
       "    <tr>\n",
       "      <th>13</th>\n",
       "      <td>Behavioral</td>\n",
       "      <td>unique_purchase_days</td>\n",
       "      <td>int64</td>\n",
       "      <td>0</td>\n",
       "      <td>41</td>\n",
       "    </tr>\n",
       "    <tr>\n",
       "      <th>14</th>\n",
       "      <td>Temporal</td>\n",
       "      <td>customer_lifetime_days</td>\n",
       "      <td>int64</td>\n",
       "      <td>0</td>\n",
       "      <td>254</td>\n",
       "    </tr>\n",
       "    <tr>\n",
       "      <th>15</th>\n",
       "      <td>Temporal</td>\n",
       "      <td>purchase_frequency_days</td>\n",
       "      <td>float64</td>\n",
       "      <td>0</td>\n",
       "      <td>737</td>\n",
       "    </tr>\n",
       "    <tr>\n",
       "      <th>16</th>\n",
       "      <td>Temporal</td>\n",
       "      <td>days_since_first_purchase</td>\n",
       "      <td>int64</td>\n",
       "      <td>0</td>\n",
       "      <td>239</td>\n",
       "    </tr>\n",
       "    <tr>\n",
       "      <th>17</th>\n",
       "      <td>Geographic</td>\n",
       "      <td>is_uk</td>\n",
       "      <td>int64</td>\n",
       "      <td>0</td>\n",
       "      <td>2</td>\n",
       "    </tr>\n",
       "    <tr>\n",
       "      <th>18</th>\n",
       "      <td>Engineered</td>\n",
       "      <td>value_per_frequency</td>\n",
       "      <td>float64</td>\n",
       "      <td>0</td>\n",
       "      <td>3169</td>\n",
       "    </tr>\n",
       "    <tr>\n",
       "      <th>19</th>\n",
       "      <td>Engineered</td>\n",
       "      <td>consistency_ratio</td>\n",
       "      <td>float64</td>\n",
       "      <td>0</td>\n",
       "      <td>3133</td>\n",
       "    </tr>\n",
       "    <tr>\n",
       "      <th>20</th>\n",
       "      <td>Engineered</td>\n",
       "      <td>purchase_acceleration</td>\n",
       "      <td>float64</td>\n",
       "      <td>0</td>\n",
       "      <td>2526</td>\n",
       "    </tr>\n",
       "  </tbody>\n",
       "</table>\n",
       "</div>"
      ],
      "text/plain": [
       "   Feature_Category               Feature_Name Data_Type  Missing_Values  \\\n",
       "0          RFM Base                    Recency     int64               0   \n",
       "1          RFM Base                  Frequency     int64               0   \n",
       "2          RFM Base                   Monetary   float64               0   \n",
       "3        RFM Scores                    R_Score     int64               0   \n",
       "4        RFM Scores                    F_Score     int64               0   \n",
       "5        RFM Scores                    M_Score     int64               0   \n",
       "6        RFM Scores         RFM_Score_Combined     int64               0   \n",
       "7          Spending            avg_order_value   float64               0   \n",
       "8          Spending            std_order_value   float64               0   \n",
       "9          Spending            min_order_value   float64               0   \n",
       "10         Spending            max_order_value   float64               0   \n",
       "11       Behavioral        avg_items_per_order   float64               0   \n",
       "12       Behavioral      total_items_purchased     int64               0   \n",
       "13       Behavioral       unique_purchase_days     int64               0   \n",
       "14         Temporal     customer_lifetime_days     int64               0   \n",
       "15         Temporal    purchase_frequency_days   float64               0   \n",
       "16         Temporal  days_since_first_purchase     int64               0   \n",
       "17       Geographic                      is_uk     int64               0   \n",
       "18       Engineered        value_per_frequency   float64               0   \n",
       "19       Engineered          consistency_ratio   float64               0   \n",
       "20       Engineered      purchase_acceleration   float64               0   \n",
       "\n",
       "    Unique_Values  \n",
       "0             234  \n",
       "1             325  \n",
       "2            3145  \n",
       "3               4  \n",
       "4               4  \n",
       "5               4  \n",
       "6              10  \n",
       "7            3169  \n",
       "8            3133  \n",
       "9             349  \n",
       "10            681  \n",
       "11           2552  \n",
       "12           1310  \n",
       "13             41  \n",
       "14            254  \n",
       "15            737  \n",
       "16            239  \n",
       "17              2  \n",
       "18           3169  \n",
       "19           3133  \n",
       "20           2526  "
      ]
     },
     "execution_count": 98,
     "metadata": {},
     "output_type": "execute_result"
    }
   ],
   "source": [
    "# Show detailed feature information\n",
    "feature_summary"
   ]
  },
  {
   "cell_type": "markdown",
   "id": "5302aecc",
   "metadata": {},
   "source": [
    "\n",
    "## Feature Engineering Summary\n",
    "\n",
    "**Final Feature Set:** 21 features across 7 categories\n",
    "\n",
    "| Category | Count | Features | Purpose |\n",
    "|----------|-------|----------|---------|\n",
    "| RFM Base | 3 | Recency, Frequency, Monetary | Core behavioral metrics |\n",
    "| RFM Scores | 4 | R/F/M/Combined Scores | Quartile-based rankings |\n",
    "| Spending | 4 | Order value stats | Purchase patterns |\n",
    "| Behavioral | 3 | Items, purchase days | Customer habits |\n",
    "| Temporal | 3 | Lifetime, frequency, tenure | Time-based patterns |\n",
    "| Geographic | 1 | is_uk | Location indicator |\n",
    "| Engineered | 3 | Ratios & acceleration | Derived insights |\n",
    "\n",
    "**Data Quality:**\n",
    "- ✅ No missing values (after imputation)\n",
    "- ✅ 3,370 customers with complete features\n",
    "- ✅ Balanced feature types (numeric only)\n",
    "- ✅ Ready for ML modeling"
   ]
  },
  {
   "cell_type": "markdown",
   "id": "d90f588c",
   "metadata": {},
   "source": [
    "# 2.4.2 Merge All Features\n",
    "- Combining RFM with new features for comprehensive customer profile"
   ]
  },
  {
   "cell_type": "code",
   "execution_count": 99,
   "id": "6cd8ddb0",
   "metadata": {},
   "outputs": [
    {
     "name": "stdout",
     "output_type": "stream",
     "text": [
      "Shape before cleaning: (3212, 25)\n",
      "Total features (excluding CustomerID, Churn, categoricals): 21\n"
     ]
    }
   ],
   "source": [
    "ml_features = rfm[['CustomerID', 'Recency', 'Frequency', 'Monetary', 'Churn']].copy()\n",
    "\n",
    "# Add RFM Scores (from Quartile method)\n",
    "ml_features['R_Score'] = rfm['R_Score']\n",
    "ml_features['F_Score'] = rfm['F_Score'] \n",
    "ml_features['M_Score'] = rfm['M_Score']\n",
    "ml_features['RFM_Score_Combined'] = rfm['RFM_Score']\n",
    "\n",
    "# Add segment for later encoding\n",
    "ml_features['Segment'] = rfm['Segment_Quartile']\n",
    "\n",
    "# Merge behavioral features\n",
    "ml_features = ml_features.merge(customer_features, on='CustomerID', how='left')\n",
    "\n",
    "# Create binary country feature\n",
    "ml_features['is_uk'] = (ml_features['primary_country'] == 'United Kingdom').astype(int)\n",
    "\n",
    "# Add engineered ratio features\n",
    "ml_features['value_per_frequency'] = ml_features['Monetary'] / ml_features['Frequency']\n",
    "ml_features['consistency_ratio'] = ml_features['std_order_value'] / (ml_features['avg_order_value'] + 1)\n",
    "ml_features['purchase_acceleration'] = ml_features['Frequency'] / (ml_features['days_since_first_purchase'] + 1)\n",
    "\n",
    "print(f\"Shape before cleaning: {ml_features.shape}\")\n",
    "print(f\"Total features (excluding CustomerID, Churn, categoricals): 21\")"
   ]
  },
  {
   "cell_type": "markdown",
   "id": "a1b67f1b",
   "metadata": {},
   "source": [
    "## 2.4.3 Feature Quality Check"
   ]
  },
  {
   "cell_type": "code",
   "execution_count": 100,
   "id": "14eb4fce",
   "metadata": {},
   "outputs": [
    {
     "name": "stdout",
     "output_type": "stream",
     "text": [
      "Missing values: 0\n"
     ]
    },
    {
     "data": {
      "application/vnd.microsoft.datawrangler.viewer.v0+json": {
       "columns": [
        {
         "name": "index",
         "rawType": "int64",
         "type": "integer"
        },
        {
         "name": "Feature",
         "rawType": "object",
         "type": "string"
        },
        {
         "name": "Correlation",
         "rawType": "float64",
         "type": "float"
        }
       ],
       "ref": "dba43f7e-e9bf-49b2-8ef4-5136e622ba8e",
       "rows": [
        [
         "0",
         "Recency",
         "0.8596643634948065"
        ],
        [
         "1",
         "R_Score",
         "0.7763095093503573"
        ],
        [
         "2",
         "RFM_Score_Combined",
         "0.6076129519224079"
        ],
        [
         "3",
         "customer_lifetime_days",
         "0.47865141976489023"
        ],
        [
         "4",
         "purchase_frequency_days",
         "0.4035429309090231"
        ],
        [
         "5",
         "M_Score",
         "0.39051078362819097"
        ],
        [
         "6",
         "F_Score",
         "0.3455466082262068"
        ],
        [
         "7",
         "days_since_first_purchase",
         "0.27940591620107685"
        ],
        [
         "8",
         "unique_purchase_days",
         "0.22809067913582143"
        ],
        [
         "9",
         "Frequency",
         "0.18553783902852666"
        ]
       ],
       "shape": {
        "columns": 2,
        "rows": 10
       }
      },
      "text/html": [
       "<div>\n",
       "<style scoped>\n",
       "    .dataframe tbody tr th:only-of-type {\n",
       "        vertical-align: middle;\n",
       "    }\n",
       "\n",
       "    .dataframe tbody tr th {\n",
       "        vertical-align: top;\n",
       "    }\n",
       "\n",
       "    .dataframe thead th {\n",
       "        text-align: right;\n",
       "    }\n",
       "</style>\n",
       "<table border=\"1\" class=\"dataframe\">\n",
       "  <thead>\n",
       "    <tr style=\"text-align: right;\">\n",
       "      <th></th>\n",
       "      <th>Feature</th>\n",
       "      <th>Correlation</th>\n",
       "    </tr>\n",
       "  </thead>\n",
       "  <tbody>\n",
       "    <tr>\n",
       "      <th>0</th>\n",
       "      <td>Recency</td>\n",
       "      <td>0.86</td>\n",
       "    </tr>\n",
       "    <tr>\n",
       "      <th>1</th>\n",
       "      <td>R_Score</td>\n",
       "      <td>0.78</td>\n",
       "    </tr>\n",
       "    <tr>\n",
       "      <th>2</th>\n",
       "      <td>RFM_Score_Combined</td>\n",
       "      <td>0.61</td>\n",
       "    </tr>\n",
       "    <tr>\n",
       "      <th>3</th>\n",
       "      <td>customer_lifetime_days</td>\n",
       "      <td>0.48</td>\n",
       "    </tr>\n",
       "    <tr>\n",
       "      <th>4</th>\n",
       "      <td>purchase_frequency_days</td>\n",
       "      <td>0.40</td>\n",
       "    </tr>\n",
       "    <tr>\n",
       "      <th>5</th>\n",
       "      <td>M_Score</td>\n",
       "      <td>0.39</td>\n",
       "    </tr>\n",
       "    <tr>\n",
       "      <th>6</th>\n",
       "      <td>F_Score</td>\n",
       "      <td>0.35</td>\n",
       "    </tr>\n",
       "    <tr>\n",
       "      <th>7</th>\n",
       "      <td>days_since_first_purchase</td>\n",
       "      <td>0.28</td>\n",
       "    </tr>\n",
       "    <tr>\n",
       "      <th>8</th>\n",
       "      <td>unique_purchase_days</td>\n",
       "      <td>0.23</td>\n",
       "    </tr>\n",
       "    <tr>\n",
       "      <th>9</th>\n",
       "      <td>Frequency</td>\n",
       "      <td>0.19</td>\n",
       "    </tr>\n",
       "  </tbody>\n",
       "</table>\n",
       "</div>"
      ],
      "text/plain": [
       "                     Feature  Correlation\n",
       "0                    Recency         0.86\n",
       "1                    R_Score         0.78\n",
       "2         RFM_Score_Combined         0.61\n",
       "3     customer_lifetime_days         0.48\n",
       "4    purchase_frequency_days         0.40\n",
       "5                    M_Score         0.39\n",
       "6                    F_Score         0.35\n",
       "7  days_since_first_purchase         0.28\n",
       "8       unique_purchase_days         0.23\n",
       "9                  Frequency         0.19"
      ]
     },
     "execution_count": 100,
     "metadata": {},
     "output_type": "execute_result"
    }
   ],
   "source": [
    "# Remove non-numeric columns for correlation analysis\n",
    "ml_features_numeric = ml_features.drop(['primary_country', 'Segment'], axis=1)\n",
    "\n",
    "# Handle missing values\n",
    "ml_features_numeric['std_order_value'].fillna(0, inplace=True)\n",
    "ml_features_numeric['consistency_ratio'].fillna(0, inplace=True)\n",
    "\n",
    "# Check for missing values\n",
    "missing_check = ml_features_numeric.isnull().sum().sum()\n",
    "print(f\"Missing values: {missing_check}\")\n",
    "\n",
    "# Check correlation with churn (top 10)\n",
    "feature_importance = ml_features_numeric.corr()['Churn'].abs().sort_values(ascending=False)\n",
    "top_features = feature_importance.head(11)[1:]  # Exclude Churn itself\n",
    "\n",
    "# Display top correlated features\n",
    "top_features_df = pd.DataFrame({\n",
    "    'Feature': top_features.index,\n",
    "    'Correlation': top_features.values\n",
    "})\n",
    "top_features_df"
   ]
  },
  {
   "cell_type": "markdown",
   "id": "ae455c0f",
   "metadata": {},
   "source": [
    "## 2.4.4 Save Final Feature Set"
   ]
  },
  {
   "cell_type": "code",
   "execution_count": 102,
   "id": "9785cb7f",
   "metadata": {},
   "outputs": [
    {
     "name": "stdout",
     "output_type": "stream",
     "text": [
      "Feature engineering complete!\n",
      "Saved: customer_features_final.csv\n"
     ]
    },
    {
     "data": {
      "application/vnd.microsoft.datawrangler.viewer.v0+json": {
       "columns": [
        {
         "name": "index",
         "rawType": "int64",
         "type": "integer"
        },
        {
         "name": "Metric",
         "rawType": "object",
         "type": "string"
        },
        {
         "name": "Value",
         "rawType": "object",
         "type": "unknown"
        }
       ],
       "ref": "b1ca0a21-a2d4-40f2-a2f2-5036c37cc28b",
       "rows": [
        [
         "0",
         "Total Rows",
         "3212"
        ],
        [
         "1",
         "Total Columns",
         "23"
        ],
        [
         "2",
         "Features for ML",
         "21"
        ],
        [
         "3",
         "Target Variable",
         "Churn (Binary: 0/1)"
        ],
        [
         "4",
         "Missing Values",
         "0"
        ]
       ],
       "shape": {
        "columns": 2,
        "rows": 5
       }
      },
      "text/html": [
       "<div>\n",
       "<style scoped>\n",
       "    .dataframe tbody tr th:only-of-type {\n",
       "        vertical-align: middle;\n",
       "    }\n",
       "\n",
       "    .dataframe tbody tr th {\n",
       "        vertical-align: top;\n",
       "    }\n",
       "\n",
       "    .dataframe thead th {\n",
       "        text-align: right;\n",
       "    }\n",
       "</style>\n",
       "<table border=\"1\" class=\"dataframe\">\n",
       "  <thead>\n",
       "    <tr style=\"text-align: right;\">\n",
       "      <th></th>\n",
       "      <th>Metric</th>\n",
       "      <th>Value</th>\n",
       "    </tr>\n",
       "  </thead>\n",
       "  <tbody>\n",
       "    <tr>\n",
       "      <th>0</th>\n",
       "      <td>Total Rows</td>\n",
       "      <td>3212</td>\n",
       "    </tr>\n",
       "    <tr>\n",
       "      <th>1</th>\n",
       "      <td>Total Columns</td>\n",
       "      <td>23</td>\n",
       "    </tr>\n",
       "    <tr>\n",
       "      <th>2</th>\n",
       "      <td>Features for ML</td>\n",
       "      <td>21</td>\n",
       "    </tr>\n",
       "    <tr>\n",
       "      <th>3</th>\n",
       "      <td>Target Variable</td>\n",
       "      <td>Churn (Binary: 0/1)</td>\n",
       "    </tr>\n",
       "    <tr>\n",
       "      <th>4</th>\n",
       "      <td>Missing Values</td>\n",
       "      <td>0</td>\n",
       "    </tr>\n",
       "  </tbody>\n",
       "</table>\n",
       "</div>"
      ],
      "text/plain": [
       "            Metric                Value\n",
       "0       Total Rows                 3212\n",
       "1    Total Columns                   23\n",
       "2  Features for ML                   21\n",
       "3  Target Variable  Churn (Binary: 0/1)\n",
       "4   Missing Values                    0"
      ]
     },
     "execution_count": 102,
     "metadata": {},
     "output_type": "execute_result"
    }
   ],
   "source": [
    "# Save the cleaned numeric features for ML modeling\n",
    "ml_features_numeric.to_csv('customer_features.csv', index=False)\n",
    "\n",
    "# Create summary of what we're saving\n",
    "save_summary = pd.DataFrame({\n",
    "    'Metric': ['Total Rows', 'Total Columns', 'Features for ML', 'Target Variable', 'Missing Values'],\n",
    "    'Value': [\n",
    "        ml_features_numeric.shape[0],\n",
    "        ml_features_numeric.shape[1],\n",
    "        ml_features_numeric.shape[1] - 2,  # Excluding CustomerID and Churn\n",
    "        'Churn (Binary: 0/1)',\n",
    "        0\n",
    "    ]\n",
    "})\n",
    "\n",
    "print(\"Feature engineering complete!\")\n",
    "print(f\"Saved: customer_features_final.csv\")\n",
    "save_summary"
   ]
  }
 ],
 "metadata": {
  "kernelspec": {
   "display_name": "base",
   "language": "python",
   "name": "python3"
  },
  "language_info": {
   "codemirror_mode": {
    "name": "ipython",
    "version": 3
   },
   "file_extension": ".py",
   "mimetype": "text/x-python",
   "name": "python",
   "nbconvert_exporter": "python",
   "pygments_lexer": "ipython3",
   "version": "3.12.2"
  }
 },
 "nbformat": 4,
 "nbformat_minor": 5
}
