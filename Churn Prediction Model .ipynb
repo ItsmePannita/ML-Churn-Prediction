{
 "cells": [
  {
   "cell_type": "markdown",
   "id": "cf74907a",
   "metadata": {},
   "source": [
    "# Customer Churn Prediction - Machine Learning Model\n",
    "# Continuation from RFM_Analysis.ipynb"
   ]
  },
  {
   "cell_type": "markdown",
   "id": "f163a83b",
   "metadata": {},
   "source": [
    "# Part 3: Machine Learning Models\n",
    "## 3.1 Data Preparation\n"
   ]
  },
  {
   "cell_type": "markdown",
   "id": "7ec185b5",
   "metadata": {},
   "source": [
    "## 3.1.1 Load Libraries and Data\n",
    "\n",
    "\n"
   ]
  },
  {
   "cell_type": "code",
   "execution_count": 119,
   "id": "fef85cff",
   "metadata": {},
   "outputs": [
    {
     "name": "stdout",
     "output_type": "stream",
     "text": [
      "✓ Data loaded successfully\n",
      "Shape: (3212, 23)\n"
     ]
    },
    {
     "data": {
      "application/vnd.microsoft.datawrangler.viewer.v0+json": {
       "columns": [
        {
         "name": "index",
         "rawType": "int64",
         "type": "integer"
        },
        {
         "name": "CustomerID",
         "rawType": "float64",
         "type": "float"
        },
        {
         "name": "Recency",
         "rawType": "int64",
         "type": "integer"
        },
        {
         "name": "Frequency",
         "rawType": "int64",
         "type": "integer"
        },
        {
         "name": "Monetary",
         "rawType": "float64",
         "type": "float"
        },
        {
         "name": "Churn",
         "rawType": "int64",
         "type": "integer"
        },
        {
         "name": "R_Score",
         "rawType": "int64",
         "type": "integer"
        },
        {
         "name": "F_Score",
         "rawType": "int64",
         "type": "integer"
        },
        {
         "name": "M_Score",
         "rawType": "int64",
         "type": "integer"
        },
        {
         "name": "RFM_Score_Combined",
         "rawType": "int64",
         "type": "integer"
        },
        {
         "name": "avg_order_value",
         "rawType": "float64",
         "type": "float"
        },
        {
         "name": "std_order_value",
         "rawType": "float64",
         "type": "float"
        },
        {
         "name": "min_order_value",
         "rawType": "float64",
         "type": "float"
        },
        {
         "name": "max_order_value",
         "rawType": "float64",
         "type": "float"
        },
        {
         "name": "avg_items_per_order",
         "rawType": "float64",
         "type": "float"
        },
        {
         "name": "total_items_purchased",
         "rawType": "int64",
         "type": "integer"
        },
        {
         "name": "unique_purchase_days",
         "rawType": "int64",
         "type": "integer"
        },
        {
         "name": "customer_lifetime_days",
         "rawType": "int64",
         "type": "integer"
        },
        {
         "name": "purchase_frequency_days",
         "rawType": "float64",
         "type": "float"
        },
        {
         "name": "days_since_first_purchase",
         "rawType": "int64",
         "type": "integer"
        },
        {
         "name": "is_uk",
         "rawType": "int64",
         "type": "integer"
        },
        {
         "name": "value_per_frequency",
         "rawType": "float64",
         "type": "float"
        },
        {
         "name": "consistency_ratio",
         "rawType": "float64",
         "type": "float"
        },
        {
         "name": "purchase_acceleration",
         "rawType": "float64",
         "type": "float"
        }
       ],
       "ref": "5f17d5c7-0c64-4d06-ab4b-729f5cd88a5d",
       "rows": [
        [
         "0",
         "12346.0",
         "205",
         "1",
         "77183.6",
         "1",
         "1",
         "1",
         "4",
         "6",
         "77183.6",
         "0.0",
         "77183.6",
         "77183.6",
         "74215.0",
         "74215",
         "1",
         "0",
         "0.0",
         "205",
         "1",
         "77183.6",
         "0.0",
         "0.0048543689320388"
        ],
        [
         "1",
         "12347.0",
         "9",
         "124",
         "2790.86",
         "0",
         "4",
         "4",
         "4",
         "12",
         "22.50693548387097",
         "25.042598185206792",
         "5.04",
         "249.6",
         "12.82258064516129",
         "1590",
         "5",
         "237",
         "47.4",
         "246",
         "0",
         "22.50693548387097",
         "1.0653280689177669",
         "0.5020242914979757"
        ],
        [
         "2",
         "12348.0",
         "128",
         "28",
         "1487.24",
         "1",
         "2",
         "2",
         "4",
         "8",
         "53.11571428571428",
         "46.0719184519298",
         "13.2",
         "240.0",
         "75.85714285714286",
         "2124",
         "3",
         "109",
         "36.333333333333336",
         "237",
         "0",
         "53.11571428571428",
         "0.8513593336065801",
         "0.1176470588235294"
        ],
        [
         "3",
         "12350.0",
         "189",
         "17",
         "334.4",
         "1",
         "1",
         "2",
         "2",
         "5",
         "19.670588235294115",
         "7.275538185065964",
         "8.5",
         "40.0",
         "11.588235294117649",
         "197",
         "1",
         "0",
         "0.0",
         "189",
         "0",
         "19.670588235294115",
         "0.351975381747642",
         "0.0894736842105263"
        ],
        [
         "4",
         "12352.0",
         "141",
         "38",
         "1561.81",
         "1",
         "1",
         "3",
         "4",
         "8",
         "41.10026315789474",
         "74.73218386568321",
         "10.2",
         "376.5",
         "6.684210526315789",
         "254",
         "5",
         "34",
         "6.8",
         "176",
         "0",
         "41.10026315789474",
         "1.7751001599539709",
         "0.2146892655367231"
        ]
       ],
       "shape": {
        "columns": 23,
        "rows": 5
       }
      },
      "text/html": [
       "<div>\n",
       "<style scoped>\n",
       "    .dataframe tbody tr th:only-of-type {\n",
       "        vertical-align: middle;\n",
       "    }\n",
       "\n",
       "    .dataframe tbody tr th {\n",
       "        vertical-align: top;\n",
       "    }\n",
       "\n",
       "    .dataframe thead th {\n",
       "        text-align: right;\n",
       "    }\n",
       "</style>\n",
       "<table border=\"1\" class=\"dataframe\">\n",
       "  <thead>\n",
       "    <tr style=\"text-align: right;\">\n",
       "      <th></th>\n",
       "      <th>CustomerID</th>\n",
       "      <th>Recency</th>\n",
       "      <th>Frequency</th>\n",
       "      <th>Monetary</th>\n",
       "      <th>Churn</th>\n",
       "      <th>R_Score</th>\n",
       "      <th>F_Score</th>\n",
       "      <th>M_Score</th>\n",
       "      <th>RFM_Score_Combined</th>\n",
       "      <th>avg_order_value</th>\n",
       "      <th>std_order_value</th>\n",
       "      <th>min_order_value</th>\n",
       "      <th>max_order_value</th>\n",
       "      <th>avg_items_per_order</th>\n",
       "      <th>total_items_purchased</th>\n",
       "      <th>unique_purchase_days</th>\n",
       "      <th>customer_lifetime_days</th>\n",
       "      <th>purchase_frequency_days</th>\n",
       "      <th>days_since_first_purchase</th>\n",
       "      <th>is_uk</th>\n",
       "      <th>value_per_frequency</th>\n",
       "      <th>consistency_ratio</th>\n",
       "      <th>purchase_acceleration</th>\n",
       "    </tr>\n",
       "  </thead>\n",
       "  <tbody>\n",
       "    <tr>\n",
       "      <th>0</th>\n",
       "      <td>12346.000</td>\n",
       "      <td>205</td>\n",
       "      <td>1</td>\n",
       "      <td>77183.600</td>\n",
       "      <td>1</td>\n",
       "      <td>1</td>\n",
       "      <td>1</td>\n",
       "      <td>4</td>\n",
       "      <td>6</td>\n",
       "      <td>77183.600</td>\n",
       "      <td>0.000</td>\n",
       "      <td>77183.600</td>\n",
       "      <td>77183.600</td>\n",
       "      <td>74215.000</td>\n",
       "      <td>74215</td>\n",
       "      <td>1</td>\n",
       "      <td>0</td>\n",
       "      <td>0.000</td>\n",
       "      <td>205</td>\n",
       "      <td>1</td>\n",
       "      <td>77183.600</td>\n",
       "      <td>0.000</td>\n",
       "      <td>0.005</td>\n",
       "    </tr>\n",
       "    <tr>\n",
       "      <th>1</th>\n",
       "      <td>12347.000</td>\n",
       "      <td>9</td>\n",
       "      <td>124</td>\n",
       "      <td>2790.860</td>\n",
       "      <td>0</td>\n",
       "      <td>4</td>\n",
       "      <td>4</td>\n",
       "      <td>4</td>\n",
       "      <td>12</td>\n",
       "      <td>22.507</td>\n",
       "      <td>25.043</td>\n",
       "      <td>5.040</td>\n",
       "      <td>249.600</td>\n",
       "      <td>12.823</td>\n",
       "      <td>1590</td>\n",
       "      <td>5</td>\n",
       "      <td>237</td>\n",
       "      <td>47.400</td>\n",
       "      <td>246</td>\n",
       "      <td>0</td>\n",
       "      <td>22.507</td>\n",
       "      <td>1.065</td>\n",
       "      <td>0.502</td>\n",
       "    </tr>\n",
       "    <tr>\n",
       "      <th>2</th>\n",
       "      <td>12348.000</td>\n",
       "      <td>128</td>\n",
       "      <td>28</td>\n",
       "      <td>1487.240</td>\n",
       "      <td>1</td>\n",
       "      <td>2</td>\n",
       "      <td>2</td>\n",
       "      <td>4</td>\n",
       "      <td>8</td>\n",
       "      <td>53.116</td>\n",
       "      <td>46.072</td>\n",
       "      <td>13.200</td>\n",
       "      <td>240.000</td>\n",
       "      <td>75.857</td>\n",
       "      <td>2124</td>\n",
       "      <td>3</td>\n",
       "      <td>109</td>\n",
       "      <td>36.333</td>\n",
       "      <td>237</td>\n",
       "      <td>0</td>\n",
       "      <td>53.116</td>\n",
       "      <td>0.851</td>\n",
       "      <td>0.118</td>\n",
       "    </tr>\n",
       "    <tr>\n",
       "      <th>3</th>\n",
       "      <td>12350.000</td>\n",
       "      <td>189</td>\n",
       "      <td>17</td>\n",
       "      <td>334.400</td>\n",
       "      <td>1</td>\n",
       "      <td>1</td>\n",
       "      <td>2</td>\n",
       "      <td>2</td>\n",
       "      <td>5</td>\n",
       "      <td>19.671</td>\n",
       "      <td>7.276</td>\n",
       "      <td>8.500</td>\n",
       "      <td>40.000</td>\n",
       "      <td>11.588</td>\n",
       "      <td>197</td>\n",
       "      <td>1</td>\n",
       "      <td>0</td>\n",
       "      <td>0.000</td>\n",
       "      <td>189</td>\n",
       "      <td>0</td>\n",
       "      <td>19.671</td>\n",
       "      <td>0.352</td>\n",
       "      <td>0.089</td>\n",
       "    </tr>\n",
       "    <tr>\n",
       "      <th>4</th>\n",
       "      <td>12352.000</td>\n",
       "      <td>141</td>\n",
       "      <td>38</td>\n",
       "      <td>1561.810</td>\n",
       "      <td>1</td>\n",
       "      <td>1</td>\n",
       "      <td>3</td>\n",
       "      <td>4</td>\n",
       "      <td>8</td>\n",
       "      <td>41.100</td>\n",
       "      <td>74.732</td>\n",
       "      <td>10.200</td>\n",
       "      <td>376.500</td>\n",
       "      <td>6.684</td>\n",
       "      <td>254</td>\n",
       "      <td>5</td>\n",
       "      <td>34</td>\n",
       "      <td>6.800</td>\n",
       "      <td>176</td>\n",
       "      <td>0</td>\n",
       "      <td>41.100</td>\n",
       "      <td>1.775</td>\n",
       "      <td>0.215</td>\n",
       "    </tr>\n",
       "  </tbody>\n",
       "</table>\n",
       "</div>"
      ],
      "text/plain": [
       "   CustomerID  Recency  Frequency  Monetary  Churn  R_Score  F_Score  M_Score  \\\n",
       "0   12346.000      205          1 77183.600      1        1        1        4   \n",
       "1   12347.000        9        124  2790.860      0        4        4        4   \n",
       "2   12348.000      128         28  1487.240      1        2        2        4   \n",
       "3   12350.000      189         17   334.400      1        1        2        2   \n",
       "4   12352.000      141         38  1561.810      1        1        3        4   \n",
       "\n",
       "   RFM_Score_Combined  avg_order_value  std_order_value  min_order_value  \\\n",
       "0                   6        77183.600            0.000        77183.600   \n",
       "1                  12           22.507           25.043            5.040   \n",
       "2                   8           53.116           46.072           13.200   \n",
       "3                   5           19.671            7.276            8.500   \n",
       "4                   8           41.100           74.732           10.200   \n",
       "\n",
       "   max_order_value  avg_items_per_order  total_items_purchased  \\\n",
       "0        77183.600            74215.000                  74215   \n",
       "1          249.600               12.823                   1590   \n",
       "2          240.000               75.857                   2124   \n",
       "3           40.000               11.588                    197   \n",
       "4          376.500                6.684                    254   \n",
       "\n",
       "   unique_purchase_days  customer_lifetime_days  purchase_frequency_days  \\\n",
       "0                     1                       0                    0.000   \n",
       "1                     5                     237                   47.400   \n",
       "2                     3                     109                   36.333   \n",
       "3                     1                       0                    0.000   \n",
       "4                     5                      34                    6.800   \n",
       "\n",
       "   days_since_first_purchase  is_uk  value_per_frequency  consistency_ratio  \\\n",
       "0                        205      1            77183.600              0.000   \n",
       "1                        246      0               22.507              1.065   \n",
       "2                        237      0               53.116              0.851   \n",
       "3                        189      0               19.671              0.352   \n",
       "4                        176      0               41.100              1.775   \n",
       "\n",
       "   purchase_acceleration  \n",
       "0                  0.005  \n",
       "1                  0.502  \n",
       "2                  0.118  \n",
       "3                  0.089  \n",
       "4                  0.215  "
      ]
     },
     "metadata": {},
     "output_type": "display_data"
    }
   ],
   "source": [
    "# Import required libraries\n",
    "import pandas as pd\n",
    "import numpy as np\n",
    "from sklearn.model_selection import train_test_split, cross_val_score, GridSearchCV\n",
    "from sklearn.preprocessing import StandardScaler\n",
    "from sklearn.linear_model import LogisticRegression\n",
    "from sklearn.ensemble import RandomForestClassifier, GradientBoostingClassifier\n",
    "from sklearn.metrics import classification_report, confusion_matrix, roc_auc_score, roc_curve\n",
    "import matplotlib.pyplot as plt\n",
    "import seaborn as sns\n",
    "import warnings\n",
    "warnings.filterwarnings('ignore')\n",
    "\n",
    "# Set random seed for reproducibility\n",
    "np.random.seed(42)\n",
    "\n",
    "# Load the data\n",
    "df = pd.read_csv('customer_features.csv')\n",
    "print(\"✓ Data loaded successfully\")\n",
    "print(f\"Shape: {df.shape}\")\n",
    "# Display first few rows\n",
    "display(df.head())"
   ]
  },
  {
   "cell_type": "markdown",
   "id": "9cc5ebf9",
   "metadata": {},
   "source": [
    "## 3.1.2 Initial Data Exploration"
   ]
  },
  {
   "cell_type": "code",
   "execution_count": 120,
   "id": "51428265",
   "metadata": {},
   "outputs": [
    {
     "name": "stdout",
     "output_type": "stream",
     "text": [
      "<class 'pandas.core.frame.DataFrame'>\n",
      "RangeIndex: 3212 entries, 0 to 3211\n",
      "Data columns (total 23 columns):\n",
      " #   Column                     Non-Null Count  Dtype  \n",
      "---  ------                     --------------  -----  \n",
      " 0   CustomerID                 3212 non-null   float64\n",
      " 1   Recency                    3212 non-null   int64  \n",
      " 2   Frequency                  3212 non-null   int64  \n",
      " 3   Monetary                   3212 non-null   float64\n",
      " 4   Churn                      3212 non-null   int64  \n",
      " 5   R_Score                    3212 non-null   int64  \n",
      " 6   F_Score                    3212 non-null   int64  \n",
      " 7   M_Score                    3212 non-null   int64  \n",
      " 8   RFM_Score_Combined         3212 non-null   int64  \n",
      " 9   avg_order_value            3212 non-null   float64\n",
      " 10  std_order_value            3212 non-null   float64\n",
      " 11  min_order_value            3212 non-null   float64\n",
      " 12  max_order_value            3212 non-null   float64\n",
      " 13  avg_items_per_order        3212 non-null   float64\n",
      " 14  total_items_purchased      3212 non-null   int64  \n",
      " 15  unique_purchase_days       3212 non-null   int64  \n",
      " 16  customer_lifetime_days     3212 non-null   int64  \n",
      " 17  purchase_frequency_days    3212 non-null   float64\n",
      " 18  days_since_first_purchase  3212 non-null   int64  \n",
      " 19  is_uk                      3212 non-null   int64  \n",
      " 20  value_per_frequency        3212 non-null   float64\n",
      " 21  consistency_ratio          3212 non-null   float64\n",
      " 22  purchase_acceleration      3212 non-null   float64\n",
      "dtypes: float64(11), int64(12)\n",
      "memory usage: 577.3 KB\n",
      "First few rows of the dataset:\n"
     ]
    },
    {
     "data": {
      "application/vnd.microsoft.datawrangler.viewer.v0+json": {
       "columns": [
        {
         "name": "index",
         "rawType": "int64",
         "type": "integer"
        },
        {
         "name": "CustomerID",
         "rawType": "float64",
         "type": "float"
        },
        {
         "name": "Recency",
         "rawType": "int64",
         "type": "integer"
        },
        {
         "name": "Frequency",
         "rawType": "int64",
         "type": "integer"
        },
        {
         "name": "Monetary",
         "rawType": "float64",
         "type": "float"
        },
        {
         "name": "Churn",
         "rawType": "int64",
         "type": "integer"
        },
        {
         "name": "R_Score",
         "rawType": "int64",
         "type": "integer"
        },
        {
         "name": "F_Score",
         "rawType": "int64",
         "type": "integer"
        },
        {
         "name": "M_Score",
         "rawType": "int64",
         "type": "integer"
        },
        {
         "name": "RFM_Score_Combined",
         "rawType": "int64",
         "type": "integer"
        },
        {
         "name": "avg_order_value",
         "rawType": "float64",
         "type": "float"
        },
        {
         "name": "std_order_value",
         "rawType": "float64",
         "type": "float"
        },
        {
         "name": "min_order_value",
         "rawType": "float64",
         "type": "float"
        },
        {
         "name": "max_order_value",
         "rawType": "float64",
         "type": "float"
        },
        {
         "name": "avg_items_per_order",
         "rawType": "float64",
         "type": "float"
        },
        {
         "name": "total_items_purchased",
         "rawType": "int64",
         "type": "integer"
        },
        {
         "name": "unique_purchase_days",
         "rawType": "int64",
         "type": "integer"
        },
        {
         "name": "customer_lifetime_days",
         "rawType": "int64",
         "type": "integer"
        },
        {
         "name": "purchase_frequency_days",
         "rawType": "float64",
         "type": "float"
        },
        {
         "name": "days_since_first_purchase",
         "rawType": "int64",
         "type": "integer"
        },
        {
         "name": "is_uk",
         "rawType": "int64",
         "type": "integer"
        },
        {
         "name": "value_per_frequency",
         "rawType": "float64",
         "type": "float"
        },
        {
         "name": "consistency_ratio",
         "rawType": "float64",
         "type": "float"
        },
        {
         "name": "purchase_acceleration",
         "rawType": "float64",
         "type": "float"
        }
       ],
       "ref": "be700b36-dc5d-4cd5-b82b-adac71cac1b6",
       "rows": [
        [
         "0",
         "12346.0",
         "205",
         "1",
         "77183.6",
         "1",
         "1",
         "1",
         "4",
         "6",
         "77183.6",
         "0.0",
         "77183.6",
         "77183.6",
         "74215.0",
         "74215",
         "1",
         "0",
         "0.0",
         "205",
         "1",
         "77183.6",
         "0.0",
         "0.0048543689320388"
        ],
        [
         "1",
         "12347.0",
         "9",
         "124",
         "2790.86",
         "0",
         "4",
         "4",
         "4",
         "12",
         "22.50693548387097",
         "25.042598185206792",
         "5.04",
         "249.6",
         "12.82258064516129",
         "1590",
         "5",
         "237",
         "47.4",
         "246",
         "0",
         "22.50693548387097",
         "1.0653280689177669",
         "0.5020242914979757"
        ],
        [
         "2",
         "12348.0",
         "128",
         "28",
         "1487.24",
         "1",
         "2",
         "2",
         "4",
         "8",
         "53.11571428571428",
         "46.0719184519298",
         "13.2",
         "240.0",
         "75.85714285714286",
         "2124",
         "3",
         "109",
         "36.333333333333336",
         "237",
         "0",
         "53.11571428571428",
         "0.8513593336065801",
         "0.1176470588235294"
        ],
        [
         "3",
         "12350.0",
         "189",
         "17",
         "334.4",
         "1",
         "1",
         "2",
         "2",
         "5",
         "19.670588235294115",
         "7.275538185065964",
         "8.5",
         "40.0",
         "11.588235294117649",
         "197",
         "1",
         "0",
         "0.0",
         "189",
         "0",
         "19.670588235294115",
         "0.351975381747642",
         "0.0894736842105263"
        ],
        [
         "4",
         "12352.0",
         "141",
         "38",
         "1561.81",
         "1",
         "1",
         "3",
         "4",
         "8",
         "41.10026315789474",
         "74.73218386568321",
         "10.2",
         "376.5",
         "6.684210526315789",
         "254",
         "5",
         "34",
         "6.8",
         "176",
         "0",
         "41.10026315789474",
         "1.7751001599539709",
         "0.2146892655367231"
        ]
       ],
       "shape": {
        "columns": 23,
        "rows": 5
       }
      },
      "text/html": [
       "<div>\n",
       "<style scoped>\n",
       "    .dataframe tbody tr th:only-of-type {\n",
       "        vertical-align: middle;\n",
       "    }\n",
       "\n",
       "    .dataframe tbody tr th {\n",
       "        vertical-align: top;\n",
       "    }\n",
       "\n",
       "    .dataframe thead th {\n",
       "        text-align: right;\n",
       "    }\n",
       "</style>\n",
       "<table border=\"1\" class=\"dataframe\">\n",
       "  <thead>\n",
       "    <tr style=\"text-align: right;\">\n",
       "      <th></th>\n",
       "      <th>CustomerID</th>\n",
       "      <th>Recency</th>\n",
       "      <th>Frequency</th>\n",
       "      <th>Monetary</th>\n",
       "      <th>Churn</th>\n",
       "      <th>R_Score</th>\n",
       "      <th>F_Score</th>\n",
       "      <th>M_Score</th>\n",
       "      <th>RFM_Score_Combined</th>\n",
       "      <th>avg_order_value</th>\n",
       "      <th>std_order_value</th>\n",
       "      <th>min_order_value</th>\n",
       "      <th>max_order_value</th>\n",
       "      <th>avg_items_per_order</th>\n",
       "      <th>total_items_purchased</th>\n",
       "      <th>unique_purchase_days</th>\n",
       "      <th>customer_lifetime_days</th>\n",
       "      <th>purchase_frequency_days</th>\n",
       "      <th>days_since_first_purchase</th>\n",
       "      <th>is_uk</th>\n",
       "      <th>value_per_frequency</th>\n",
       "      <th>consistency_ratio</th>\n",
       "      <th>purchase_acceleration</th>\n",
       "    </tr>\n",
       "  </thead>\n",
       "  <tbody>\n",
       "    <tr>\n",
       "      <th>0</th>\n",
       "      <td>12346.000</td>\n",
       "      <td>205</td>\n",
       "      <td>1</td>\n",
       "      <td>77183.600</td>\n",
       "      <td>1</td>\n",
       "      <td>1</td>\n",
       "      <td>1</td>\n",
       "      <td>4</td>\n",
       "      <td>6</td>\n",
       "      <td>77183.600</td>\n",
       "      <td>0.000</td>\n",
       "      <td>77183.600</td>\n",
       "      <td>77183.600</td>\n",
       "      <td>74215.000</td>\n",
       "      <td>74215</td>\n",
       "      <td>1</td>\n",
       "      <td>0</td>\n",
       "      <td>0.000</td>\n",
       "      <td>205</td>\n",
       "      <td>1</td>\n",
       "      <td>77183.600</td>\n",
       "      <td>0.000</td>\n",
       "      <td>0.005</td>\n",
       "    </tr>\n",
       "    <tr>\n",
       "      <th>1</th>\n",
       "      <td>12347.000</td>\n",
       "      <td>9</td>\n",
       "      <td>124</td>\n",
       "      <td>2790.860</td>\n",
       "      <td>0</td>\n",
       "      <td>4</td>\n",
       "      <td>4</td>\n",
       "      <td>4</td>\n",
       "      <td>12</td>\n",
       "      <td>22.507</td>\n",
       "      <td>25.043</td>\n",
       "      <td>5.040</td>\n",
       "      <td>249.600</td>\n",
       "      <td>12.823</td>\n",
       "      <td>1590</td>\n",
       "      <td>5</td>\n",
       "      <td>237</td>\n",
       "      <td>47.400</td>\n",
       "      <td>246</td>\n",
       "      <td>0</td>\n",
       "      <td>22.507</td>\n",
       "      <td>1.065</td>\n",
       "      <td>0.502</td>\n",
       "    </tr>\n",
       "    <tr>\n",
       "      <th>2</th>\n",
       "      <td>12348.000</td>\n",
       "      <td>128</td>\n",
       "      <td>28</td>\n",
       "      <td>1487.240</td>\n",
       "      <td>1</td>\n",
       "      <td>2</td>\n",
       "      <td>2</td>\n",
       "      <td>4</td>\n",
       "      <td>8</td>\n",
       "      <td>53.116</td>\n",
       "      <td>46.072</td>\n",
       "      <td>13.200</td>\n",
       "      <td>240.000</td>\n",
       "      <td>75.857</td>\n",
       "      <td>2124</td>\n",
       "      <td>3</td>\n",
       "      <td>109</td>\n",
       "      <td>36.333</td>\n",
       "      <td>237</td>\n",
       "      <td>0</td>\n",
       "      <td>53.116</td>\n",
       "      <td>0.851</td>\n",
       "      <td>0.118</td>\n",
       "    </tr>\n",
       "    <tr>\n",
       "      <th>3</th>\n",
       "      <td>12350.000</td>\n",
       "      <td>189</td>\n",
       "      <td>17</td>\n",
       "      <td>334.400</td>\n",
       "      <td>1</td>\n",
       "      <td>1</td>\n",
       "      <td>2</td>\n",
       "      <td>2</td>\n",
       "      <td>5</td>\n",
       "      <td>19.671</td>\n",
       "      <td>7.276</td>\n",
       "      <td>8.500</td>\n",
       "      <td>40.000</td>\n",
       "      <td>11.588</td>\n",
       "      <td>197</td>\n",
       "      <td>1</td>\n",
       "      <td>0</td>\n",
       "      <td>0.000</td>\n",
       "      <td>189</td>\n",
       "      <td>0</td>\n",
       "      <td>19.671</td>\n",
       "      <td>0.352</td>\n",
       "      <td>0.089</td>\n",
       "    </tr>\n",
       "    <tr>\n",
       "      <th>4</th>\n",
       "      <td>12352.000</td>\n",
       "      <td>141</td>\n",
       "      <td>38</td>\n",
       "      <td>1561.810</td>\n",
       "      <td>1</td>\n",
       "      <td>1</td>\n",
       "      <td>3</td>\n",
       "      <td>4</td>\n",
       "      <td>8</td>\n",
       "      <td>41.100</td>\n",
       "      <td>74.732</td>\n",
       "      <td>10.200</td>\n",
       "      <td>376.500</td>\n",
       "      <td>6.684</td>\n",
       "      <td>254</td>\n",
       "      <td>5</td>\n",
       "      <td>34</td>\n",
       "      <td>6.800</td>\n",
       "      <td>176</td>\n",
       "      <td>0</td>\n",
       "      <td>41.100</td>\n",
       "      <td>1.775</td>\n",
       "      <td>0.215</td>\n",
       "    </tr>\n",
       "  </tbody>\n",
       "</table>\n",
       "</div>"
      ],
      "text/plain": [
       "   CustomerID  Recency  Frequency  Monetary  Churn  R_Score  F_Score  M_Score  \\\n",
       "0   12346.000      205          1 77183.600      1        1        1        4   \n",
       "1   12347.000        9        124  2790.860      0        4        4        4   \n",
       "2   12348.000      128         28  1487.240      1        2        2        4   \n",
       "3   12350.000      189         17   334.400      1        1        2        2   \n",
       "4   12352.000      141         38  1561.810      1        1        3        4   \n",
       "\n",
       "   RFM_Score_Combined  avg_order_value  std_order_value  min_order_value  \\\n",
       "0                   6        77183.600            0.000        77183.600   \n",
       "1                  12           22.507           25.043            5.040   \n",
       "2                   8           53.116           46.072           13.200   \n",
       "3                   5           19.671            7.276            8.500   \n",
       "4                   8           41.100           74.732           10.200   \n",
       "\n",
       "   max_order_value  avg_items_per_order  total_items_purchased  \\\n",
       "0        77183.600            74215.000                  74215   \n",
       "1          249.600               12.823                   1590   \n",
       "2          240.000               75.857                   2124   \n",
       "3           40.000               11.588                    197   \n",
       "4          376.500                6.684                    254   \n",
       "\n",
       "   unique_purchase_days  customer_lifetime_days  purchase_frequency_days  \\\n",
       "0                     1                       0                    0.000   \n",
       "1                     5                     237                   47.400   \n",
       "2                     3                     109                   36.333   \n",
       "3                     1                       0                    0.000   \n",
       "4                     5                      34                    6.800   \n",
       "\n",
       "   days_since_first_purchase  is_uk  value_per_frequency  consistency_ratio  \\\n",
       "0                        205      1            77183.600              0.000   \n",
       "1                        246      0               22.507              1.065   \n",
       "2                        237      0               53.116              0.851   \n",
       "3                        189      0               19.671              0.352   \n",
       "4                        176      0               41.100              1.775   \n",
       "\n",
       "   purchase_acceleration  \n",
       "0                  0.005  \n",
       "1                  0.502  \n",
       "2                  0.118  \n",
       "3                  0.089  \n",
       "4                  0.215  "
      ]
     },
     "execution_count": 120,
     "metadata": {},
     "output_type": "execute_result"
    }
   ],
   "source": [
    "# Display basic information\n",
    "df.info()\n",
    "\n",
    "# Display the first few rows of the dataset\n",
    "print(\"First few rows of the dataset:\")\n",
    "df.head()\n",
    "\n",
    "\n"
   ]
  },
  {
   "cell_type": "code",
   "execution_count": 121,
   "id": "7fca3df2",
   "metadata": {},
   "outputs": [
    {
     "name": "stdout",
     "output_type": "stream",
     "text": [
      "\n",
      "Missing values:\n",
      "CustomerID                   0\n",
      "Recency                      0\n",
      "Frequency                    0\n",
      "Monetary                     0\n",
      "Churn                        0\n",
      "R_Score                      0\n",
      "F_Score                      0\n",
      "M_Score                      0\n",
      "RFM_Score_Combined           0\n",
      "avg_order_value              0\n",
      "std_order_value              0\n",
      "min_order_value              0\n",
      "max_order_value              0\n",
      "avg_items_per_order          0\n",
      "total_items_purchased        0\n",
      "unique_purchase_days         0\n",
      "customer_lifetime_days       0\n",
      "purchase_frequency_days      0\n",
      "days_since_first_purchase    0\n",
      "is_uk                        0\n",
      "value_per_frequency          0\n",
      "consistency_ratio            0\n",
      "purchase_acceleration        0\n",
      "dtype: int64\n"
     ]
    }
   ],
   "source": [
    "# Check for missing values\n",
    "customer_features = df.copy()\n",
    "print(\"\\nMissing values:\")\n",
    "print(customer_features.isnull().sum())"
   ]
  },
  {
   "cell_type": "code",
   "execution_count": 122,
   "id": "6ac9eb61",
   "metadata": {},
   "outputs": [
    {
     "name": "stdout",
     "output_type": "stream",
     "text": [
      "\n",
      "Statistical Summary:\n"
     ]
    },
    {
     "data": {
      "application/vnd.microsoft.datawrangler.viewer.v0+json": {
       "columns": [
        {
         "name": "index",
         "rawType": "object",
         "type": "string"
        },
        {
         "name": "CustomerID",
         "rawType": "float64",
         "type": "float"
        },
        {
         "name": "Recency",
         "rawType": "float64",
         "type": "float"
        },
        {
         "name": "Frequency",
         "rawType": "float64",
         "type": "float"
        },
        {
         "name": "Monetary",
         "rawType": "float64",
         "type": "float"
        },
        {
         "name": "Churn",
         "rawType": "float64",
         "type": "float"
        },
        {
         "name": "R_Score",
         "rawType": "float64",
         "type": "float"
        },
        {
         "name": "F_Score",
         "rawType": "float64",
         "type": "float"
        },
        {
         "name": "M_Score",
         "rawType": "float64",
         "type": "float"
        },
        {
         "name": "RFM_Score_Combined",
         "rawType": "float64",
         "type": "float"
        },
        {
         "name": "avg_order_value",
         "rawType": "float64",
         "type": "float"
        },
        {
         "name": "std_order_value",
         "rawType": "float64",
         "type": "float"
        },
        {
         "name": "min_order_value",
         "rawType": "float64",
         "type": "float"
        },
        {
         "name": "max_order_value",
         "rawType": "float64",
         "type": "float"
        },
        {
         "name": "avg_items_per_order",
         "rawType": "float64",
         "type": "float"
        },
        {
         "name": "total_items_purchased",
         "rawType": "float64",
         "type": "float"
        },
        {
         "name": "unique_purchase_days",
         "rawType": "float64",
         "type": "float"
        },
        {
         "name": "customer_lifetime_days",
         "rawType": "float64",
         "type": "float"
        },
        {
         "name": "purchase_frequency_days",
         "rawType": "float64",
         "type": "float"
        },
        {
         "name": "days_since_first_purchase",
         "rawType": "float64",
         "type": "float"
        },
        {
         "name": "is_uk",
         "rawType": "float64",
         "type": "float"
        },
        {
         "name": "value_per_frequency",
         "rawType": "float64",
         "type": "float"
        },
        {
         "name": "consistency_ratio",
         "rawType": "float64",
         "type": "float"
        },
        {
         "name": "purchase_acceleration",
         "rawType": "float64",
         "type": "float"
        }
       ],
       "ref": "872df32e-2a1d-4f3b-848a-ce8e1678e86d",
       "rows": [
        [
         "count",
         "3212.0",
         "3212.0",
         "3212.0",
         "3212.0",
         "3212.0",
         "3212.0",
         "3212.0",
         "3212.0",
         "3212.0",
         "3212.0",
         "3212.0",
         "3212.0",
         "3212.0",
         "3212.0",
         "3212.0",
         "3212.0",
         "3212.0",
         "3212.0",
         "3212.0",
         "3212.0",
         "3212.0",
         "3212.0",
         "3212.0"
        ],
        [
         "mean",
         "15287.899128268991",
         "84.45298879202988",
         "64.42839352428393",
         "1500.0794215442093",
         "0.286425902864259",
         "2.5140099626401",
         "2.5",
         "2.5",
         "7.5140099626401",
         "64.00314508889697",
         "30.131759090227852",
         "39.5492814445828",
         "152.41868617683687",
         "46.63466630907584",
         "876.008094645081",
         "3.2851805728518055",
         "75.92029887920299",
         "20.031618539309022",
         "160.6516189290162",
         "0.9031755915317559",
         "64.00314508889697",
         "0.6846975082463931",
         "0.5452136551774273"
        ],
        [
         "std",
         "1724.973249565111",
         "71.03242271461286",
         "130.88225233817292",
         "5491.007426305524",
         "0.452161206747359",
         "1.1231226145218967",
         "1.1182080695588517",
         "1.1182080695588517",
         "2.789532506980236",
         "1387.3777810390989",
         "397.35470907403334",
         "1365.40889390952",
         "1554.2431410030727",
         "1315.9691471999504",
         "3402.64580137848",
         "5.264382786942631",
         "84.7079023038016",
         "23.85913082197795",
         "73.05140223783263",
         "0.2957645629985698",
         "1387.3777810390989",
         "0.43522733505399197",
         "1.99573071572578"
        ],
        [
         "min",
         "12346.0",
         "0.0",
         "1.0",
         "2.9",
         "0.0",
         "1.0",
         "1.0",
         "1.0",
         "3.0",
         "1.45",
         "0.0",
         "0.001",
         "1.65",
         "1.0",
         "1.0",
         "1.0",
         "0.0",
         "0.0",
         "0.0",
         "0.0",
         "1.45",
         "0.0",
         "0.0039370078740157"
        ],
        [
         "25%",
         "13801.5",
         "24.0",
         "14.0",
         "255.09",
         "0.0",
         "2.0",
         "1.75",
         "1.75",
         "5.0",
         "12.769539473684212",
         "5.7606791231607035",
         "1.25",
         "30.6",
         "5.9145413018652455",
         "126.75",
         "1.0",
         "0.0",
         "0.0",
         "106.0",
         "1.0",
         "12.769539473684212",
         "0.40795722318350974",
         "0.10325843952604513"
        ],
        [
         "50%",
         "15240.5",
         "64.0",
         "31.0",
         "539.65",
         "0.0",
         "3.0",
         "2.5",
         "2.5",
         "7.0",
         "17.847057926829265",
         "9.502830166283633",
         "5.04",
         "51.0",
         "9.670833333333334",
         "299.5",
         "2.0",
         "41.0",
         "12.897368421052633",
         "168.0",
         "1.0",
         "17.847057926829265",
         "0.6167435901495548",
         "0.24606079404466497"
        ],
        [
         "75%",
         "16775.5",
         "133.0",
         "73.0",
         "1271.815",
         "1.0",
         "4.0",
         "3.25",
         "3.25",
         "10.0",
         "25.634192227256882",
         "19.64101285069845",
         "10.08",
         "102.0",
         "14.5",
         "732.5",
         "4.0",
         "151.0",
         "34.5",
         "237.0",
         "1.0",
         "25.634192227256882",
         "0.858968069922241",
         "0.5351634580957889"
        ],
        [
         "max",
         "18287.0",
         "253.0",
         "3764.0",
         "148526.84",
         "1.0",
         "4.0",
         "4.0",
         "4.0",
         "12.0",
         "77183.6",
         "22226.80778362021",
         "77183.6",
         "77183.6",
         "74215.0",
         "105613.0",
         "121.0",
         "253.0",
         "122.5",
         "253.0",
         "1.0",
         "77183.6",
         "7.946176116117824",
         "87.0"
        ]
       ],
       "shape": {
        "columns": 23,
        "rows": 8
       }
      },
      "text/html": [
       "<div>\n",
       "<style scoped>\n",
       "    .dataframe tbody tr th:only-of-type {\n",
       "        vertical-align: middle;\n",
       "    }\n",
       "\n",
       "    .dataframe tbody tr th {\n",
       "        vertical-align: top;\n",
       "    }\n",
       "\n",
       "    .dataframe thead th {\n",
       "        text-align: right;\n",
       "    }\n",
       "</style>\n",
       "<table border=\"1\" class=\"dataframe\">\n",
       "  <thead>\n",
       "    <tr style=\"text-align: right;\">\n",
       "      <th></th>\n",
       "      <th>CustomerID</th>\n",
       "      <th>Recency</th>\n",
       "      <th>Frequency</th>\n",
       "      <th>Monetary</th>\n",
       "      <th>Churn</th>\n",
       "      <th>R_Score</th>\n",
       "      <th>F_Score</th>\n",
       "      <th>M_Score</th>\n",
       "      <th>RFM_Score_Combined</th>\n",
       "      <th>avg_order_value</th>\n",
       "      <th>std_order_value</th>\n",
       "      <th>min_order_value</th>\n",
       "      <th>max_order_value</th>\n",
       "      <th>avg_items_per_order</th>\n",
       "      <th>total_items_purchased</th>\n",
       "      <th>unique_purchase_days</th>\n",
       "      <th>customer_lifetime_days</th>\n",
       "      <th>purchase_frequency_days</th>\n",
       "      <th>days_since_first_purchase</th>\n",
       "      <th>is_uk</th>\n",
       "      <th>value_per_frequency</th>\n",
       "      <th>consistency_ratio</th>\n",
       "      <th>purchase_acceleration</th>\n",
       "    </tr>\n",
       "  </thead>\n",
       "  <tbody>\n",
       "    <tr>\n",
       "      <th>count</th>\n",
       "      <td>3212.000</td>\n",
       "      <td>3212.000</td>\n",
       "      <td>3212.000</td>\n",
       "      <td>3212.000</td>\n",
       "      <td>3212.000</td>\n",
       "      <td>3212.000</td>\n",
       "      <td>3212.000</td>\n",
       "      <td>3212.000</td>\n",
       "      <td>3212.000</td>\n",
       "      <td>3212.000</td>\n",
       "      <td>3212.000</td>\n",
       "      <td>3212.000</td>\n",
       "      <td>3212.000</td>\n",
       "      <td>3212.000</td>\n",
       "      <td>3212.000</td>\n",
       "      <td>3212.000</td>\n",
       "      <td>3212.000</td>\n",
       "      <td>3212.000</td>\n",
       "      <td>3212.000</td>\n",
       "      <td>3212.000</td>\n",
       "      <td>3212.000</td>\n",
       "      <td>3212.000</td>\n",
       "      <td>3212.000</td>\n",
       "    </tr>\n",
       "    <tr>\n",
       "      <th>mean</th>\n",
       "      <td>15287.899</td>\n",
       "      <td>84.453</td>\n",
       "      <td>64.428</td>\n",
       "      <td>1500.079</td>\n",
       "      <td>0.286</td>\n",
       "      <td>2.514</td>\n",
       "      <td>2.500</td>\n",
       "      <td>2.500</td>\n",
       "      <td>7.514</td>\n",
       "      <td>64.003</td>\n",
       "      <td>30.132</td>\n",
       "      <td>39.549</td>\n",
       "      <td>152.419</td>\n",
       "      <td>46.635</td>\n",
       "      <td>876.008</td>\n",
       "      <td>3.285</td>\n",
       "      <td>75.920</td>\n",
       "      <td>20.032</td>\n",
       "      <td>160.652</td>\n",
       "      <td>0.903</td>\n",
       "      <td>64.003</td>\n",
       "      <td>0.685</td>\n",
       "      <td>0.545</td>\n",
       "    </tr>\n",
       "    <tr>\n",
       "      <th>std</th>\n",
       "      <td>1724.973</td>\n",
       "      <td>71.032</td>\n",
       "      <td>130.882</td>\n",
       "      <td>5491.007</td>\n",
       "      <td>0.452</td>\n",
       "      <td>1.123</td>\n",
       "      <td>1.118</td>\n",
       "      <td>1.118</td>\n",
       "      <td>2.790</td>\n",
       "      <td>1387.378</td>\n",
       "      <td>397.355</td>\n",
       "      <td>1365.409</td>\n",
       "      <td>1554.243</td>\n",
       "      <td>1315.969</td>\n",
       "      <td>3402.646</td>\n",
       "      <td>5.264</td>\n",
       "      <td>84.708</td>\n",
       "      <td>23.859</td>\n",
       "      <td>73.051</td>\n",
       "      <td>0.296</td>\n",
       "      <td>1387.378</td>\n",
       "      <td>0.435</td>\n",
       "      <td>1.996</td>\n",
       "    </tr>\n",
       "    <tr>\n",
       "      <th>min</th>\n",
       "      <td>12346.000</td>\n",
       "      <td>0.000</td>\n",
       "      <td>1.000</td>\n",
       "      <td>2.900</td>\n",
       "      <td>0.000</td>\n",
       "      <td>1.000</td>\n",
       "      <td>1.000</td>\n",
       "      <td>1.000</td>\n",
       "      <td>3.000</td>\n",
       "      <td>1.450</td>\n",
       "      <td>0.000</td>\n",
       "      <td>0.001</td>\n",
       "      <td>1.650</td>\n",
       "      <td>1.000</td>\n",
       "      <td>1.000</td>\n",
       "      <td>1.000</td>\n",
       "      <td>0.000</td>\n",
       "      <td>0.000</td>\n",
       "      <td>0.000</td>\n",
       "      <td>0.000</td>\n",
       "      <td>1.450</td>\n",
       "      <td>0.000</td>\n",
       "      <td>0.004</td>\n",
       "    </tr>\n",
       "    <tr>\n",
       "      <th>25%</th>\n",
       "      <td>13801.500</td>\n",
       "      <td>24.000</td>\n",
       "      <td>14.000</td>\n",
       "      <td>255.090</td>\n",
       "      <td>0.000</td>\n",
       "      <td>2.000</td>\n",
       "      <td>1.750</td>\n",
       "      <td>1.750</td>\n",
       "      <td>5.000</td>\n",
       "      <td>12.770</td>\n",
       "      <td>5.761</td>\n",
       "      <td>1.250</td>\n",
       "      <td>30.600</td>\n",
       "      <td>5.915</td>\n",
       "      <td>126.750</td>\n",
       "      <td>1.000</td>\n",
       "      <td>0.000</td>\n",
       "      <td>0.000</td>\n",
       "      <td>106.000</td>\n",
       "      <td>1.000</td>\n",
       "      <td>12.770</td>\n",
       "      <td>0.408</td>\n",
       "      <td>0.103</td>\n",
       "    </tr>\n",
       "    <tr>\n",
       "      <th>50%</th>\n",
       "      <td>15240.500</td>\n",
       "      <td>64.000</td>\n",
       "      <td>31.000</td>\n",
       "      <td>539.650</td>\n",
       "      <td>0.000</td>\n",
       "      <td>3.000</td>\n",
       "      <td>2.500</td>\n",
       "      <td>2.500</td>\n",
       "      <td>7.000</td>\n",
       "      <td>17.847</td>\n",
       "      <td>9.503</td>\n",
       "      <td>5.040</td>\n",
       "      <td>51.000</td>\n",
       "      <td>9.671</td>\n",
       "      <td>299.500</td>\n",
       "      <td>2.000</td>\n",
       "      <td>41.000</td>\n",
       "      <td>12.897</td>\n",
       "      <td>168.000</td>\n",
       "      <td>1.000</td>\n",
       "      <td>17.847</td>\n",
       "      <td>0.617</td>\n",
       "      <td>0.246</td>\n",
       "    </tr>\n",
       "    <tr>\n",
       "      <th>75%</th>\n",
       "      <td>16775.500</td>\n",
       "      <td>133.000</td>\n",
       "      <td>73.000</td>\n",
       "      <td>1271.815</td>\n",
       "      <td>1.000</td>\n",
       "      <td>4.000</td>\n",
       "      <td>3.250</td>\n",
       "      <td>3.250</td>\n",
       "      <td>10.000</td>\n",
       "      <td>25.634</td>\n",
       "      <td>19.641</td>\n",
       "      <td>10.080</td>\n",
       "      <td>102.000</td>\n",
       "      <td>14.500</td>\n",
       "      <td>732.500</td>\n",
       "      <td>4.000</td>\n",
       "      <td>151.000</td>\n",
       "      <td>34.500</td>\n",
       "      <td>237.000</td>\n",
       "      <td>1.000</td>\n",
       "      <td>25.634</td>\n",
       "      <td>0.859</td>\n",
       "      <td>0.535</td>\n",
       "    </tr>\n",
       "    <tr>\n",
       "      <th>max</th>\n",
       "      <td>18287.000</td>\n",
       "      <td>253.000</td>\n",
       "      <td>3764.000</td>\n",
       "      <td>148526.840</td>\n",
       "      <td>1.000</td>\n",
       "      <td>4.000</td>\n",
       "      <td>4.000</td>\n",
       "      <td>4.000</td>\n",
       "      <td>12.000</td>\n",
       "      <td>77183.600</td>\n",
       "      <td>22226.808</td>\n",
       "      <td>77183.600</td>\n",
       "      <td>77183.600</td>\n",
       "      <td>74215.000</td>\n",
       "      <td>105613.000</td>\n",
       "      <td>121.000</td>\n",
       "      <td>253.000</td>\n",
       "      <td>122.500</td>\n",
       "      <td>253.000</td>\n",
       "      <td>1.000</td>\n",
       "      <td>77183.600</td>\n",
       "      <td>7.946</td>\n",
       "      <td>87.000</td>\n",
       "    </tr>\n",
       "  </tbody>\n",
       "</table>\n",
       "</div>"
      ],
      "text/plain": [
       "       CustomerID  Recency  Frequency   Monetary    Churn  R_Score  F_Score  \\\n",
       "count    3212.000 3212.000   3212.000   3212.000 3212.000 3212.000 3212.000   \n",
       "mean    15287.899   84.453     64.428   1500.079    0.286    2.514    2.500   \n",
       "std      1724.973   71.032    130.882   5491.007    0.452    1.123    1.118   \n",
       "min     12346.000    0.000      1.000      2.900    0.000    1.000    1.000   \n",
       "25%     13801.500   24.000     14.000    255.090    0.000    2.000    1.750   \n",
       "50%     15240.500   64.000     31.000    539.650    0.000    3.000    2.500   \n",
       "75%     16775.500  133.000     73.000   1271.815    1.000    4.000    3.250   \n",
       "max     18287.000  253.000   3764.000 148526.840    1.000    4.000    4.000   \n",
       "\n",
       "       M_Score  RFM_Score_Combined  avg_order_value  std_order_value  \\\n",
       "count 3212.000            3212.000         3212.000         3212.000   \n",
       "mean     2.500               7.514           64.003           30.132   \n",
       "std      1.118               2.790         1387.378          397.355   \n",
       "min      1.000               3.000            1.450            0.000   \n",
       "25%      1.750               5.000           12.770            5.761   \n",
       "50%      2.500               7.000           17.847            9.503   \n",
       "75%      3.250              10.000           25.634           19.641   \n",
       "max      4.000              12.000        77183.600        22226.808   \n",
       "\n",
       "       min_order_value  max_order_value  avg_items_per_order  \\\n",
       "count         3212.000         3212.000             3212.000   \n",
       "mean            39.549          152.419               46.635   \n",
       "std           1365.409         1554.243             1315.969   \n",
       "min              0.001            1.650                1.000   \n",
       "25%              1.250           30.600                5.915   \n",
       "50%              5.040           51.000                9.671   \n",
       "75%             10.080          102.000               14.500   \n",
       "max          77183.600        77183.600            74215.000   \n",
       "\n",
       "       total_items_purchased  unique_purchase_days  customer_lifetime_days  \\\n",
       "count               3212.000              3212.000                3212.000   \n",
       "mean                 876.008                 3.285                  75.920   \n",
       "std                 3402.646                 5.264                  84.708   \n",
       "min                    1.000                 1.000                   0.000   \n",
       "25%                  126.750                 1.000                   0.000   \n",
       "50%                  299.500                 2.000                  41.000   \n",
       "75%                  732.500                 4.000                 151.000   \n",
       "max               105613.000               121.000                 253.000   \n",
       "\n",
       "       purchase_frequency_days  days_since_first_purchase    is_uk  \\\n",
       "count                 3212.000                   3212.000 3212.000   \n",
       "mean                    20.032                    160.652    0.903   \n",
       "std                     23.859                     73.051    0.296   \n",
       "min                      0.000                      0.000    0.000   \n",
       "25%                      0.000                    106.000    1.000   \n",
       "50%                     12.897                    168.000    1.000   \n",
       "75%                     34.500                    237.000    1.000   \n",
       "max                    122.500                    253.000    1.000   \n",
       "\n",
       "       value_per_frequency  consistency_ratio  purchase_acceleration  \n",
       "count             3212.000           3212.000               3212.000  \n",
       "mean                64.003              0.685                  0.545  \n",
       "std               1387.378              0.435                  1.996  \n",
       "min                  1.450              0.000                  0.004  \n",
       "25%                 12.770              0.408                  0.103  \n",
       "50%                 17.847              0.617                  0.246  \n",
       "75%                 25.634              0.859                  0.535  \n",
       "max              77183.600              7.946                 87.000  "
      ]
     },
     "metadata": {},
     "output_type": "display_data"
    }
   ],
   "source": [
    "# Statistical summary\n",
    "print(\"\\nStatistical Summary:\")\n",
    "display(customer_features.describe())"
   ]
  },
  {
   "cell_type": "code",
   "execution_count": 123,
   "id": "1c7750e4",
   "metadata": {},
   "outputs": [
    {
     "data": {
      "application/vnd.microsoft.datawrangler.viewer.v0+json": {
       "columns": [
        {
         "name": "index",
         "rawType": "object",
         "type": "string"
        },
        {
         "name": "Count",
         "rawType": "int64",
         "type": "integer"
        },
        {
         "name": "Percentage",
         "rawType": "float64",
         "type": "float"
        }
       ],
       "ref": "7e689d4b-887d-4754-8b9f-06f770c5fe7c",
       "rows": [
        [
         "Active (0)",
         "2292",
         "71.3574097135741"
        ],
        [
         "Churned (1)",
         "920",
         "28.6425902864259"
        ]
       ],
       "shape": {
        "columns": 2,
        "rows": 2
       }
      },
      "text/html": [
       "<div>\n",
       "<style scoped>\n",
       "    .dataframe tbody tr th:only-of-type {\n",
       "        vertical-align: middle;\n",
       "    }\n",
       "\n",
       "    .dataframe tbody tr th {\n",
       "        vertical-align: top;\n",
       "    }\n",
       "\n",
       "    .dataframe thead th {\n",
       "        text-align: right;\n",
       "    }\n",
       "</style>\n",
       "<table border=\"1\" class=\"dataframe\">\n",
       "  <thead>\n",
       "    <tr style=\"text-align: right;\">\n",
       "      <th></th>\n",
       "      <th>Count</th>\n",
       "      <th>Percentage</th>\n",
       "    </tr>\n",
       "  </thead>\n",
       "  <tbody>\n",
       "    <tr>\n",
       "      <th>Active (0)</th>\n",
       "      <td>2292</td>\n",
       "      <td>71.357</td>\n",
       "    </tr>\n",
       "    <tr>\n",
       "      <th>Churned (1)</th>\n",
       "      <td>920</td>\n",
       "      <td>28.643</td>\n",
       "    </tr>\n",
       "  </tbody>\n",
       "</table>\n",
       "</div>"
      ],
      "text/plain": [
       "             Count  Percentage\n",
       "Active (0)    2292      71.357\n",
       "Churned (1)    920      28.643"
      ]
     },
     "execution_count": 123,
     "metadata": {},
     "output_type": "execute_result"
    }
   ],
   "source": [
    "# Check target variable distribution\n",
    "churn_summary = pd.DataFrame({\n",
    "    'Count': df['Churn'].value_counts(),\n",
    "    'Percentage': df['Churn'].value_counts(normalize=True) * 100\n",
    "})\n",
    "churn_summary.index = ['Active (0)', 'Churned (1)']\n",
    "churn_summary"
   ]
  },
  {
   "cell_type": "markdown",
   "id": "c17df694",
   "metadata": {},
   "source": [
    "## 3.1.3 Feature and Target Separation"
   ]
  },
  {
   "cell_type": "code",
   "execution_count": 124,
   "id": "0b08ea91",
   "metadata": {},
   "outputs": [
    {
     "data": {
      "application/vnd.microsoft.datawrangler.viewer.v0+json": {
       "columns": [
        {
         "name": "index",
         "rawType": "object",
         "type": "string"
        },
        {
         "name": "Features",
         "rawType": "int64",
         "type": "integer"
        },
        {
         "name": "Samples",
         "rawType": "int64",
         "type": "integer"
        },
        {
         "name": "Target Classes",
         "rawType": "int64",
         "type": "integer"
        }
       ],
       "ref": "745efb0f-342e-403f-a942-37aaafeb3e5f",
       "rows": [
        [
         "Dataset Info",
         "21",
         "3212",
         "2"
        ]
       ],
       "shape": {
        "columns": 3,
        "rows": 1
       }
      },
      "text/html": [
       "<div>\n",
       "<style scoped>\n",
       "    .dataframe tbody tr th:only-of-type {\n",
       "        vertical-align: middle;\n",
       "    }\n",
       "\n",
       "    .dataframe tbody tr th {\n",
       "        vertical-align: top;\n",
       "    }\n",
       "\n",
       "    .dataframe thead th {\n",
       "        text-align: right;\n",
       "    }\n",
       "</style>\n",
       "<table border=\"1\" class=\"dataframe\">\n",
       "  <thead>\n",
       "    <tr style=\"text-align: right;\">\n",
       "      <th></th>\n",
       "      <th>Features</th>\n",
       "      <th>Samples</th>\n",
       "      <th>Target Classes</th>\n",
       "    </tr>\n",
       "  </thead>\n",
       "  <tbody>\n",
       "    <tr>\n",
       "      <th>Dataset Info</th>\n",
       "      <td>21</td>\n",
       "      <td>3212</td>\n",
       "      <td>2</td>\n",
       "    </tr>\n",
       "  </tbody>\n",
       "</table>\n",
       "</div>"
      ],
      "text/plain": [
       "              Features  Samples  Target Classes\n",
       "Dataset Info        21     3212               2"
      ]
     },
     "execution_count": 124,
     "metadata": {},
     "output_type": "execute_result"
    }
   ],
   "source": [
    "# Separate features and target\n",
    "X = df.drop(['CustomerID', 'Churn'], axis=1)\n",
    "y = df['Churn']\n",
    "\n",
    "# Store CustomerID for later reference\n",
    "customer_ids = df['CustomerID']\n",
    "\n",
    "# Display feature information\n",
    "feature_info = pd.DataFrame({\n",
    "    'Features': X.shape[1],\n",
    "    'Samples': X.shape[0],\n",
    "    'Target Classes': y.nunique()\n",
    "}, index=['Dataset Info'])\n",
    "\n",
    "feature_info"
   ]
  },
  {
   "cell_type": "code",
   "execution_count": 125,
   "id": "4f951de6",
   "metadata": {},
   "outputs": [
    {
     "data": {
      "application/vnd.microsoft.datawrangler.viewer.v0+json": {
       "columns": [
        {
         "name": "index",
         "rawType": "int64",
         "type": "integer"
        },
        {
         "name": "Feature Names",
         "rawType": "object",
         "type": "string"
        }
       ],
       "ref": "5d5c6972-b4fe-4ede-90d9-865084f218e0",
       "rows": [
        [
         "0",
         "Recency"
        ],
        [
         "1",
         "Frequency"
        ],
        [
         "2",
         "Monetary"
        ],
        [
         "3",
         "R_Score"
        ],
        [
         "4",
         "F_Score"
        ],
        [
         "5",
         "M_Score"
        ],
        [
         "6",
         "RFM_Score_Combined"
        ],
        [
         "7",
         "avg_order_value"
        ],
        [
         "8",
         "std_order_value"
        ],
        [
         "9",
         "min_order_value"
        ],
        [
         "10",
         "max_order_value"
        ],
        [
         "11",
         "avg_items_per_order"
        ],
        [
         "12",
         "total_items_purchased"
        ],
        [
         "13",
         "unique_purchase_days"
        ],
        [
         "14",
         "customer_lifetime_days"
        ],
        [
         "15",
         "purchase_frequency_days"
        ],
        [
         "16",
         "days_since_first_purchase"
        ],
        [
         "17",
         "is_uk"
        ],
        [
         "18",
         "value_per_frequency"
        ],
        [
         "19",
         "consistency_ratio"
        ],
        [
         "20",
         "purchase_acceleration"
        ]
       ],
       "shape": {
        "columns": 1,
        "rows": 21
       }
      },
      "text/html": [
       "<div>\n",
       "<style scoped>\n",
       "    .dataframe tbody tr th:only-of-type {\n",
       "        vertical-align: middle;\n",
       "    }\n",
       "\n",
       "    .dataframe tbody tr th {\n",
       "        vertical-align: top;\n",
       "    }\n",
       "\n",
       "    .dataframe thead th {\n",
       "        text-align: right;\n",
       "    }\n",
       "</style>\n",
       "<table border=\"1\" class=\"dataframe\">\n",
       "  <thead>\n",
       "    <tr style=\"text-align: right;\">\n",
       "      <th></th>\n",
       "      <th>Feature Names</th>\n",
       "    </tr>\n",
       "  </thead>\n",
       "  <tbody>\n",
       "    <tr>\n",
       "      <th>0</th>\n",
       "      <td>Recency</td>\n",
       "    </tr>\n",
       "    <tr>\n",
       "      <th>1</th>\n",
       "      <td>Frequency</td>\n",
       "    </tr>\n",
       "    <tr>\n",
       "      <th>2</th>\n",
       "      <td>Monetary</td>\n",
       "    </tr>\n",
       "    <tr>\n",
       "      <th>3</th>\n",
       "      <td>R_Score</td>\n",
       "    </tr>\n",
       "    <tr>\n",
       "      <th>4</th>\n",
       "      <td>F_Score</td>\n",
       "    </tr>\n",
       "    <tr>\n",
       "      <th>5</th>\n",
       "      <td>M_Score</td>\n",
       "    </tr>\n",
       "    <tr>\n",
       "      <th>6</th>\n",
       "      <td>RFM_Score_Combined</td>\n",
       "    </tr>\n",
       "    <tr>\n",
       "      <th>7</th>\n",
       "      <td>avg_order_value</td>\n",
       "    </tr>\n",
       "    <tr>\n",
       "      <th>8</th>\n",
       "      <td>std_order_value</td>\n",
       "    </tr>\n",
       "    <tr>\n",
       "      <th>9</th>\n",
       "      <td>min_order_value</td>\n",
       "    </tr>\n",
       "    <tr>\n",
       "      <th>10</th>\n",
       "      <td>max_order_value</td>\n",
       "    </tr>\n",
       "    <tr>\n",
       "      <th>11</th>\n",
       "      <td>avg_items_per_order</td>\n",
       "    </tr>\n",
       "    <tr>\n",
       "      <th>12</th>\n",
       "      <td>total_items_purchased</td>\n",
       "    </tr>\n",
       "    <tr>\n",
       "      <th>13</th>\n",
       "      <td>unique_purchase_days</td>\n",
       "    </tr>\n",
       "    <tr>\n",
       "      <th>14</th>\n",
       "      <td>customer_lifetime_days</td>\n",
       "    </tr>\n",
       "    <tr>\n",
       "      <th>15</th>\n",
       "      <td>purchase_frequency_days</td>\n",
       "    </tr>\n",
       "    <tr>\n",
       "      <th>16</th>\n",
       "      <td>days_since_first_purchase</td>\n",
       "    </tr>\n",
       "    <tr>\n",
       "      <th>17</th>\n",
       "      <td>is_uk</td>\n",
       "    </tr>\n",
       "    <tr>\n",
       "      <th>18</th>\n",
       "      <td>value_per_frequency</td>\n",
       "    </tr>\n",
       "    <tr>\n",
       "      <th>19</th>\n",
       "      <td>consistency_ratio</td>\n",
       "    </tr>\n",
       "    <tr>\n",
       "      <th>20</th>\n",
       "      <td>purchase_acceleration</td>\n",
       "    </tr>\n",
       "  </tbody>\n",
       "</table>\n",
       "</div>"
      ],
      "text/plain": [
       "                Feature Names\n",
       "0                     Recency\n",
       "1                   Frequency\n",
       "2                    Monetary\n",
       "3                     R_Score\n",
       "4                     F_Score\n",
       "5                     M_Score\n",
       "6          RFM_Score_Combined\n",
       "7             avg_order_value\n",
       "8             std_order_value\n",
       "9             min_order_value\n",
       "10            max_order_value\n",
       "11        avg_items_per_order\n",
       "12      total_items_purchased\n",
       "13       unique_purchase_days\n",
       "14     customer_lifetime_days\n",
       "15    purchase_frequency_days\n",
       "16  days_since_first_purchase\n",
       "17                      is_uk\n",
       "18        value_per_frequency\n",
       "19          consistency_ratio\n",
       "20      purchase_acceleration"
      ]
     },
     "execution_count": 125,
     "metadata": {},
     "output_type": "execute_result"
    }
   ],
   "source": [
    "# List all features\n",
    "pd.DataFrame(X.columns.tolist(), columns=['Feature Names'])"
   ]
  },
  {
   "cell_type": "markdown",
   "id": "9dfaec36",
   "metadata": {},
   "source": [
    "## Justification for Feature Selection:\n",
    "\n",
    "### Excluded Variables:\n",
    "- **CustomerID:** Identifier variable with no predictive power (stored separately for later reference)\n",
    "\n",
    "### Included all 21 predictive features:"
   ]
  },
  {
   "cell_type": "code",
   "execution_count": 126,
   "id": "928117d0",
   "metadata": {},
   "outputs": [
    {
     "name": "stdout",
     "output_type": "stream",
     "text": [
      "Total Features for Modeling: 21\n"
     ]
    },
    {
     "data": {
      "application/vnd.microsoft.datawrangler.viewer.v0+json": {
       "columns": [
        {
         "name": "index",
         "rawType": "int64",
         "type": "integer"
        },
        {
         "name": "Category",
         "rawType": "object",
         "type": "string"
        },
        {
         "name": "Feature",
         "rawType": "object",
         "type": "string"
        },
        {
         "name": "Business Relevance",
         "rawType": "object",
         "type": "string"
        }
       ],
       "ref": "894018ac-e0bb-4217-a4d1-1b4fb6d31408",
       "rows": [
        [
         "0",
         "RFM Core Metrics",
         "Recency",
         "Days since last purchase"
        ],
        [
         "1",
         "RFM Core Metrics",
         "Frequency",
         "Number of transactions"
        ],
        [
         "2",
         "RFM Core Metrics",
         "Monetary",
         "Total spending"
        ],
        [
         "3",
         "RFM Core Metrics",
         "R_Score",
         "Recency quartile score"
        ],
        [
         "4",
         "RFM Core Metrics",
         "F_Score",
         "Frequency quartile score"
        ],
        [
         "5",
         "RFM Core Metrics",
         "M_Score",
         "Monetary quartile score"
        ],
        [
         "6",
         "RFM Core Metrics",
         "RFM_Score_Combined",
         "Combined RFM engagement"
        ],
        [
         "7",
         "Spending Patterns",
         "avg_order_value",
         "Average transaction value"
        ],
        [
         "8",
         "Spending Patterns",
         "std_order_value",
         "Spending variability"
        ],
        [
         "9",
         "Spending Patterns",
         "min_order_value",
         "Minimum transaction"
        ],
        [
         "10",
         "Spending Patterns",
         "max_order_value",
         "Maximum transaction"
        ],
        [
         "11",
         "Spending Patterns",
         "value_per_frequency",
         "Value per transaction"
        ],
        [
         "12",
         "Customer Engagement",
         "avg_items_per_order",
         "Basket size indicator"
        ],
        [
         "13",
         "Customer Engagement",
         "total_items_purchased",
         "Total purchase volume"
        ],
        [
         "14",
         "Customer Engagement",
         "unique_purchase_days",
         "Shopping day diversity"
        ],
        [
         "15",
         "Customer Engagement",
         "consistency_ratio",
         "Purchase pattern stability"
        ],
        [
         "16",
         "Customer Engagement",
         "purchase_acceleration",
         "Buying momentum"
        ],
        [
         "17",
         "Temporal Features",
         "customer_lifetime_days",
         "Customer tenure"
        ],
        [
         "18",
         "Temporal Features",
         "days_since_first_purchase",
         "Account age"
        ],
        [
         "19",
         "Temporal Features",
         "purchase_frequency_days",
         "Days between purchases"
        ],
        [
         "20",
         "Geographic",
         "is_uk",
         "Regional market indicator"
        ]
       ],
       "shape": {
        "columns": 3,
        "rows": 21
       }
      },
      "text/html": [
       "<div>\n",
       "<style scoped>\n",
       "    .dataframe tbody tr th:only-of-type {\n",
       "        vertical-align: middle;\n",
       "    }\n",
       "\n",
       "    .dataframe tbody tr th {\n",
       "        vertical-align: top;\n",
       "    }\n",
       "\n",
       "    .dataframe thead th {\n",
       "        text-align: right;\n",
       "    }\n",
       "</style>\n",
       "<table border=\"1\" class=\"dataframe\">\n",
       "  <thead>\n",
       "    <tr style=\"text-align: right;\">\n",
       "      <th></th>\n",
       "      <th>Category</th>\n",
       "      <th>Feature</th>\n",
       "      <th>Business Relevance</th>\n",
       "    </tr>\n",
       "  </thead>\n",
       "  <tbody>\n",
       "    <tr>\n",
       "      <th>0</th>\n",
       "      <td>RFM Core Metrics</td>\n",
       "      <td>Recency</td>\n",
       "      <td>Days since last purchase</td>\n",
       "    </tr>\n",
       "    <tr>\n",
       "      <th>1</th>\n",
       "      <td>RFM Core Metrics</td>\n",
       "      <td>Frequency</td>\n",
       "      <td>Number of transactions</td>\n",
       "    </tr>\n",
       "    <tr>\n",
       "      <th>2</th>\n",
       "      <td>RFM Core Metrics</td>\n",
       "      <td>Monetary</td>\n",
       "      <td>Total spending</td>\n",
       "    </tr>\n",
       "    <tr>\n",
       "      <th>3</th>\n",
       "      <td>RFM Core Metrics</td>\n",
       "      <td>R_Score</td>\n",
       "      <td>Recency quartile score</td>\n",
       "    </tr>\n",
       "    <tr>\n",
       "      <th>4</th>\n",
       "      <td>RFM Core Metrics</td>\n",
       "      <td>F_Score</td>\n",
       "      <td>Frequency quartile score</td>\n",
       "    </tr>\n",
       "    <tr>\n",
       "      <th>5</th>\n",
       "      <td>RFM Core Metrics</td>\n",
       "      <td>M_Score</td>\n",
       "      <td>Monetary quartile score</td>\n",
       "    </tr>\n",
       "    <tr>\n",
       "      <th>6</th>\n",
       "      <td>RFM Core Metrics</td>\n",
       "      <td>RFM_Score_Combined</td>\n",
       "      <td>Combined RFM engagement</td>\n",
       "    </tr>\n",
       "    <tr>\n",
       "      <th>7</th>\n",
       "      <td>Spending Patterns</td>\n",
       "      <td>avg_order_value</td>\n",
       "      <td>Average transaction value</td>\n",
       "    </tr>\n",
       "    <tr>\n",
       "      <th>8</th>\n",
       "      <td>Spending Patterns</td>\n",
       "      <td>std_order_value</td>\n",
       "      <td>Spending variability</td>\n",
       "    </tr>\n",
       "    <tr>\n",
       "      <th>9</th>\n",
       "      <td>Spending Patterns</td>\n",
       "      <td>min_order_value</td>\n",
       "      <td>Minimum transaction</td>\n",
       "    </tr>\n",
       "    <tr>\n",
       "      <th>10</th>\n",
       "      <td>Spending Patterns</td>\n",
       "      <td>max_order_value</td>\n",
       "      <td>Maximum transaction</td>\n",
       "    </tr>\n",
       "    <tr>\n",
       "      <th>11</th>\n",
       "      <td>Spending Patterns</td>\n",
       "      <td>value_per_frequency</td>\n",
       "      <td>Value per transaction</td>\n",
       "    </tr>\n",
       "    <tr>\n",
       "      <th>12</th>\n",
       "      <td>Customer Engagement</td>\n",
       "      <td>avg_items_per_order</td>\n",
       "      <td>Basket size indicator</td>\n",
       "    </tr>\n",
       "    <tr>\n",
       "      <th>13</th>\n",
       "      <td>Customer Engagement</td>\n",
       "      <td>total_items_purchased</td>\n",
       "      <td>Total purchase volume</td>\n",
       "    </tr>\n",
       "    <tr>\n",
       "      <th>14</th>\n",
       "      <td>Customer Engagement</td>\n",
       "      <td>unique_purchase_days</td>\n",
       "      <td>Shopping day diversity</td>\n",
       "    </tr>\n",
       "    <tr>\n",
       "      <th>15</th>\n",
       "      <td>Customer Engagement</td>\n",
       "      <td>consistency_ratio</td>\n",
       "      <td>Purchase pattern stability</td>\n",
       "    </tr>\n",
       "    <tr>\n",
       "      <th>16</th>\n",
       "      <td>Customer Engagement</td>\n",
       "      <td>purchase_acceleration</td>\n",
       "      <td>Buying momentum</td>\n",
       "    </tr>\n",
       "    <tr>\n",
       "      <th>17</th>\n",
       "      <td>Temporal Features</td>\n",
       "      <td>customer_lifetime_days</td>\n",
       "      <td>Customer tenure</td>\n",
       "    </tr>\n",
       "    <tr>\n",
       "      <th>18</th>\n",
       "      <td>Temporal Features</td>\n",
       "      <td>days_since_first_purchase</td>\n",
       "      <td>Account age</td>\n",
       "    </tr>\n",
       "    <tr>\n",
       "      <th>19</th>\n",
       "      <td>Temporal Features</td>\n",
       "      <td>purchase_frequency_days</td>\n",
       "      <td>Days between purchases</td>\n",
       "    </tr>\n",
       "    <tr>\n",
       "      <th>20</th>\n",
       "      <td>Geographic</td>\n",
       "      <td>is_uk</td>\n",
       "      <td>Regional market indicator</td>\n",
       "    </tr>\n",
       "  </tbody>\n",
       "</table>\n",
       "</div>"
      ],
      "text/plain": [
       "               Category                    Feature          Business Relevance\n",
       "0      RFM Core Metrics                    Recency    Days since last purchase\n",
       "1      RFM Core Metrics                  Frequency      Number of transactions\n",
       "2      RFM Core Metrics                   Monetary              Total spending\n",
       "3      RFM Core Metrics                    R_Score      Recency quartile score\n",
       "4      RFM Core Metrics                    F_Score    Frequency quartile score\n",
       "5      RFM Core Metrics                    M_Score     Monetary quartile score\n",
       "6      RFM Core Metrics         RFM_Score_Combined     Combined RFM engagement\n",
       "7     Spending Patterns            avg_order_value   Average transaction value\n",
       "8     Spending Patterns            std_order_value        Spending variability\n",
       "9     Spending Patterns            min_order_value         Minimum transaction\n",
       "10    Spending Patterns            max_order_value         Maximum transaction\n",
       "11    Spending Patterns        value_per_frequency       Value per transaction\n",
       "12  Customer Engagement        avg_items_per_order       Basket size indicator\n",
       "13  Customer Engagement      total_items_purchased       Total purchase volume\n",
       "14  Customer Engagement       unique_purchase_days      Shopping day diversity\n",
       "15  Customer Engagement          consistency_ratio  Purchase pattern stability\n",
       "16  Customer Engagement      purchase_acceleration             Buying momentum\n",
       "17    Temporal Features     customer_lifetime_days             Customer tenure\n",
       "18    Temporal Features  days_since_first_purchase                 Account age\n",
       "19    Temporal Features    purchase_frequency_days      Days between purchases\n",
       "20           Geographic                      is_uk   Regional market indicator"
      ]
     },
     "metadata": {},
     "output_type": "display_data"
    }
   ],
   "source": [
    "# Feature categories and business relevance\n",
    "feature_categories = pd.DataFrame({\n",
    "    'Category': ['RFM Core Metrics'] * 7 + \n",
    "                ['Spending Patterns'] * 5 + \n",
    "                ['Customer Engagement'] * 5 + \n",
    "                ['Temporal Features'] * 3 + \n",
    "                ['Geographic'],\n",
    "    'Feature': ['Recency', 'Frequency', 'Monetary', 'R_Score', 'F_Score', 'M_Score', 'RFM_Score_Combined',\n",
    "                'avg_order_value', 'std_order_value', 'min_order_value', 'max_order_value', 'value_per_frequency',\n",
    "                'avg_items_per_order', 'total_items_purchased', 'unique_purchase_days', 'consistency_ratio', 'purchase_acceleration',\n",
    "                'customer_lifetime_days', 'days_since_first_purchase', 'purchase_frequency_days',\n",
    "                'is_uk'],\n",
    "    'Business Relevance': [\n",
    "        'Days since last purchase', 'Number of transactions', 'Total spending', \n",
    "        'Recency quartile score', 'Frequency quartile score', 'Monetary quartile score', 'Combined RFM engagement',\n",
    "        'Average transaction value', 'Spending variability', 'Minimum transaction', 'Maximum transaction', 'Value per transaction',\n",
    "        'Basket size indicator', 'Total purchase volume', 'Shopping day diversity', 'Purchase pattern stability', 'Buying momentum',\n",
    "        'Customer tenure', 'Account age', 'Days between purchases',\n",
    "        'Regional market indicator'\n",
    "    ]\n",
    "})\n",
    "\n",
    "print(f\"Total Features for Modeling: {len(feature_categories)}\")\n",
    "display(feature_categories)"
   ]
  },
  {
   "cell_type": "markdown",
   "id": "7f7f28b2",
   "metadata": {},
   "source": [
    "## 3.1.4 Train-Test Split"
   ]
  },
  {
   "cell_type": "code",
   "execution_count": 127,
   "id": "cba6f959",
   "metadata": {},
   "outputs": [
    {
     "data": {
      "application/vnd.microsoft.datawrangler.viewer.v0+json": {
       "columns": [
        {
         "name": "index",
         "rawType": "object",
         "type": "string"
        },
        {
         "name": "Samples",
         "rawType": "int64",
         "type": "integer"
        },
        {
         "name": "Percentage",
         "rawType": "int64",
         "type": "integer"
        },
        {
         "name": "Churn Rate (%)",
         "rawType": "float64",
         "type": "float"
        }
       ],
       "ref": "9e80f0d8-3b2a-4efe-bff2-91d24dafd519",
       "rows": [
        [
         "Training Set",
         "2569",
         "80",
         "28.65"
        ],
        [
         "Test Set",
         "643",
         "20",
         "28.62"
        ],
        [
         "Total",
         "3212",
         "100",
         "28.64"
        ]
       ],
       "shape": {
        "columns": 3,
        "rows": 3
       }
      },
      "text/html": [
       "<div>\n",
       "<style scoped>\n",
       "    .dataframe tbody tr th:only-of-type {\n",
       "        vertical-align: middle;\n",
       "    }\n",
       "\n",
       "    .dataframe tbody tr th {\n",
       "        vertical-align: top;\n",
       "    }\n",
       "\n",
       "    .dataframe thead th {\n",
       "        text-align: right;\n",
       "    }\n",
       "</style>\n",
       "<table border=\"1\" class=\"dataframe\">\n",
       "  <thead>\n",
       "    <tr style=\"text-align: right;\">\n",
       "      <th></th>\n",
       "      <th>Samples</th>\n",
       "      <th>Percentage</th>\n",
       "      <th>Churn Rate (%)</th>\n",
       "    </tr>\n",
       "  </thead>\n",
       "  <tbody>\n",
       "    <tr>\n",
       "      <th>Training Set</th>\n",
       "      <td>2569</td>\n",
       "      <td>80</td>\n",
       "      <td>28.650</td>\n",
       "    </tr>\n",
       "    <tr>\n",
       "      <th>Test Set</th>\n",
       "      <td>643</td>\n",
       "      <td>20</td>\n",
       "      <td>28.620</td>\n",
       "    </tr>\n",
       "    <tr>\n",
       "      <th>Total</th>\n",
       "      <td>3212</td>\n",
       "      <td>100</td>\n",
       "      <td>28.640</td>\n",
       "    </tr>\n",
       "  </tbody>\n",
       "</table>\n",
       "</div>"
      ],
      "text/plain": [
       "              Samples  Percentage  Churn Rate (%)\n",
       "Training Set     2569          80          28.650\n",
       "Test Set          643          20          28.620\n",
       "Total            3212         100          28.640"
      ]
     },
     "execution_count": 127,
     "metadata": {},
     "output_type": "execute_result"
    }
   ],
   "source": [
    "# Split data into training and testing sets\n",
    "X_train, X_test, y_train, y_test = train_test_split(\n",
    "    X, y, test_size=0.2, random_state=42, stratify=y\n",
    ")\n",
    "\n",
    "# Create split summary\n",
    "split_summary = pd.DataFrame({\n",
    "    'Samples': [len(X_train), len(X_test), len(X)],\n",
    "    'Percentage': [80, 20, 100],\n",
    "    'Churn Rate (%)': [\n",
    "        round(y_train.mean() * 100, 2),\n",
    "        round(y_test.mean() * 100, 2),\n",
    "        round(y.mean() * 100, 2)\n",
    "    ]\n",
    "}, index=['Training Set', 'Test Set', 'Total'])\n",
    "\n",
    "split_summary"
   ]
  },
  {
   "cell_type": "markdown",
   "id": "268e7b70",
   "metadata": {},
   "source": [
    "## Split Configuration Justification:\n",
    "\n",
    "- 80/20 split: Standard proportion balancing sufficient training data with robust testing\n",
    "- Stratification: Maintains consistent churn rate across train/test sets, crucial for imbalanced data\n",
    "- Random state = 42: Ensures reproducibility for assessment\n",
    "\n",
    "----"
   ]
  },
  {
   "cell_type": "markdown",
   "id": "e7eaa526",
   "metadata": {},
   "source": [
    "## 3.1.5 Feature Scaling"
   ]
  },
  {
   "cell_type": "code",
   "execution_count": 128,
   "id": "4b421798",
   "metadata": {},
   "outputs": [
    {
     "name": "stdout",
     "output_type": "stream",
     "text": [
      "Scaled training set: (2569, 21)\n",
      "Scaled test set: (643, 21)\n"
     ]
    }
   ],
   "source": [
    "from sklearn.preprocessing import StandardScaler\n",
    "\n",
    "scaler = StandardScaler()\n",
    "X_train_scaled = scaler.fit_transform(X_train)\n",
    "X_test_scaled = scaler.transform(X_test)\n",
    "\n",
    "print(f\"Scaled training set: {X_train_scaled.shape}\")\n",
    "print(f\"Scaled test set: {X_test_scaled.shape}\")"
   ]
  },
  {
   "cell_type": "markdown",
   "id": "c30104d0",
   "metadata": {},
   "source": [
    "## 3.1.6 Class Imbalance Assessment"
   ]
  },
  {
   "cell_type": "code",
   "execution_count": 129,
   "id": "883cb85c",
   "metadata": {},
   "outputs": [
    {
     "data": {
      "application/vnd.microsoft.datawrangler.viewer.v0+json": {
       "columns": [
        {
         "name": "index",
         "rawType": "int64",
         "type": "integer"
        },
        {
         "name": "Class",
         "rawType": "object",
         "type": "string"
        },
        {
         "name": "Weight",
         "rawType": "float64",
         "type": "float"
        },
        {
         "name": "Sample Count",
         "rawType": "int64",
         "type": "integer"
        }
       ],
       "ref": "5fe77a67-27e5-4bac-b093-54fe1bd1dc67",
       "rows": [
        [
         "0",
         "Active (0)",
         "0.7007637752318603",
         "1833"
        ],
        [
         "1",
         "Churned (1)",
         "1.7452445652173914",
         "736"
        ]
       ],
       "shape": {
        "columns": 3,
        "rows": 2
       }
      },
      "text/html": [
       "<div>\n",
       "<style scoped>\n",
       "    .dataframe tbody tr th:only-of-type {\n",
       "        vertical-align: middle;\n",
       "    }\n",
       "\n",
       "    .dataframe tbody tr th {\n",
       "        vertical-align: top;\n",
       "    }\n",
       "\n",
       "    .dataframe thead th {\n",
       "        text-align: right;\n",
       "    }\n",
       "</style>\n",
       "<table border=\"1\" class=\"dataframe\">\n",
       "  <thead>\n",
       "    <tr style=\"text-align: right;\">\n",
       "      <th></th>\n",
       "      <th>Class</th>\n",
       "      <th>Weight</th>\n",
       "      <th>Sample Count</th>\n",
       "    </tr>\n",
       "  </thead>\n",
       "  <tbody>\n",
       "    <tr>\n",
       "      <th>0</th>\n",
       "      <td>Active (0)</td>\n",
       "      <td>0.701</td>\n",
       "      <td>1833</td>\n",
       "    </tr>\n",
       "    <tr>\n",
       "      <th>1</th>\n",
       "      <td>Churned (1)</td>\n",
       "      <td>1.745</td>\n",
       "      <td>736</td>\n",
       "    </tr>\n",
       "  </tbody>\n",
       "</table>\n",
       "</div>"
      ],
      "text/plain": [
       "         Class  Weight  Sample Count\n",
       "0   Active (0)   0.701          1833\n",
       "1  Churned (1)   1.745           736"
      ]
     },
     "execution_count": 129,
     "metadata": {},
     "output_type": "execute_result"
    }
   ],
   "source": [
    "# Calculate class weights for handling imbalance\n",
    "from sklearn.utils.class_weight import compute_class_weight\n",
    "\n",
    "classes = np.unique(y_train)\n",
    "class_weights = compute_class_weight('balanced', classes=classes, y=y_train)\n",
    "\n",
    "# Create class weight summary\n",
    "weight_summary = pd.DataFrame({\n",
    "    'Class': ['Active (0)', 'Churned (1)'],\n",
    "    'Weight': class_weights,\n",
    "    'Sample Count': [sum(y_train==0), sum(y_train==1)]\n",
    "})\n",
    "\n",
    "weight_summary"
   ]
  },
  {
   "cell_type": "markdown",
   "id": "418fe822",
   "metadata": {},
   "source": [
    "## Imbalance Handling Strategy:\n",
    "\n",
    "\n",
    "- Calculate class weights to penalize misclassification of minority class (churned customers)\n",
    "- Will be applied to Logistic Regression and Gradient Boosting\n",
    "- Random Forest will use class_weight='balanced' parameter"
   ]
  },
  {
   "cell_type": "markdown",
   "id": "a3e36e03",
   "metadata": {},
   "source": [
    "# 3.2 Data Leakage Detection and Resolution\n",
    "\n",
    "## 3.2.1 Testing with All Features (Including Potential Leakage)"
   ]
  },
  {
   "cell_type": "code",
   "execution_count": 130,
   "id": "dbb6e71a",
   "metadata": {},
   "outputs": [
    {
     "name": "stdout",
     "output_type": "stream",
     "text": [
      "Testing with all customer_features.csv original features\n",
      "\n",
      "Model Performance with ALL Features:\n",
      "Logistic Regression: 99.4%\n",
      "Random Forest: 100.0%\n",
      "Gradient Boosting: 100.0%\n",
      "\n",
      "⚠️ ALERT: Near-perfect accuracy detected - investigating for data leakage\n"
     ]
    }
   ],
   "source": [
    "# Test multiple models with ALL original features to detect leakage\n",
    "from sklearn.linear_model import LogisticRegression\n",
    "from sklearn.ensemble import RandomForestClassifier, GradientBoostingClassifier\n",
    "\n",
    "# Using the ORIGINAL split with ALL features \n",
    "print(f\"Testing with all {'customer_features.csv'} original features\\n\")\n",
    " \n",
    "# Test 1: Logistic Regression\n",
    "lr_leak = LogisticRegression(random_state=42, max_iter=1000)\n",
    "lr_leak.fit(X_train_scaled, y_train)  # Using original scaled features\n",
    "lr_accuracy = lr_leak.score(X_test_scaled, y_test)\n",
    "\n",
    "# Test 2: Random Forest  \n",
    "rf_leak = RandomForestClassifier(n_estimators=100, random_state=42)\n",
    "rf_leak.fit(X_train_scaled, y_train)\n",
    "rf_accuracy = rf_leak.score(X_test_scaled, y_test)\n",
    "\n",
    "# Test 3: Gradient Boosting\n",
    "gb_leak = GradientBoostingClassifier(n_estimators=100, random_state=42)\n",
    "gb_leak.fit(X_train_scaled, y_train)\n",
    "gb_accuracy = gb_leak.score(X_test_scaled, y_test)\n",
    "\n",
    "# Display suspiciously high results\n",
    "print(\"Model Performance with ALL Features:\")\n",
    "print(f\"Logistic Regression: {lr_accuracy:.1%}\")\n",
    "print(f\"Random Forest: {rf_accuracy:.1%}\")\n",
    "print(f\"Gradient Boosting: {gb_accuracy:.1%}\")\n",
    "\n",
    "if max(lr_accuracy, rf_accuracy, gb_accuracy) > 0.98:\n",
    "    print(\"\\n⚠️ ALERT: Near-perfect accuracy detected - investigating for data leakage\")\n",
    "\n"
   ]
  },
  {
   "cell_type": "markdown",
   "id": "fa34e222",
   "metadata": {},
   "source": [
    "## 3.2.2 Feature Correlation Analysis\n",
    "\n",
    "Investigate which features are causing the leakage"
   ]
  },
  {
   "cell_type": "code",
   "execution_count": 131,
   "id": "36e18cfa",
   "metadata": {},
   "outputs": [
    {
     "name": "stdout",
     "output_type": "stream",
     "text": [
      "\n",
      "Top Features Correlated with Churn:\n"
     ]
    },
    {
     "data": {
      "application/vnd.microsoft.datawrangler.viewer.v0+json": {
       "columns": [
        {
         "name": "index",
         "rawType": "int64",
         "type": "integer"
        },
        {
         "name": "Feature",
         "rawType": "object",
         "type": "string"
        },
        {
         "name": "Correlation",
         "rawType": "float64",
         "type": "float"
        }
       ],
       "ref": "4f2da5c7-2be7-469a-8884-8dad105d46b6",
       "rows": [
        [
         "0",
         "Recency",
         "0.8584481296736669"
        ],
        [
         "3",
         "R_Score",
         "0.7777818935483651"
        ],
        [
         "6",
         "RFM_Score_Combined",
         "0.6078066739740758"
        ],
        [
         "14",
         "customer_lifetime_days",
         "0.4767867670764302"
        ],
        [
         "15",
         "purchase_frequency_days",
         "0.3987841285799204"
        ],
        [
         "5",
         "M_Score",
         "0.3793833851387668"
        ],
        [
         "4",
         "F_Score",
         "0.35110954641756903"
        ],
        [
         "16",
         "days_since_first_purchase",
         "0.278394107827194"
        ],
        [
         "13",
         "unique_purchase_days",
         "0.2186024117260556"
        ],
        [
         "1",
         "Frequency",
         "0.1779325459940671"
        ]
       ],
       "shape": {
        "columns": 2,
        "rows": 10
       }
      },
      "text/html": [
       "<div>\n",
       "<style scoped>\n",
       "    .dataframe tbody tr th:only-of-type {\n",
       "        vertical-align: middle;\n",
       "    }\n",
       "\n",
       "    .dataframe tbody tr th {\n",
       "        vertical-align: top;\n",
       "    }\n",
       "\n",
       "    .dataframe thead th {\n",
       "        text-align: right;\n",
       "    }\n",
       "</style>\n",
       "<table border=\"1\" class=\"dataframe\">\n",
       "  <thead>\n",
       "    <tr style=\"text-align: right;\">\n",
       "      <th></th>\n",
       "      <th>Feature</th>\n",
       "      <th>Correlation</th>\n",
       "    </tr>\n",
       "  </thead>\n",
       "  <tbody>\n",
       "    <tr>\n",
       "      <th>0</th>\n",
       "      <td>Recency</td>\n",
       "      <td>0.858</td>\n",
       "    </tr>\n",
       "    <tr>\n",
       "      <th>3</th>\n",
       "      <td>R_Score</td>\n",
       "      <td>0.778</td>\n",
       "    </tr>\n",
       "    <tr>\n",
       "      <th>6</th>\n",
       "      <td>RFM_Score_Combined</td>\n",
       "      <td>0.608</td>\n",
       "    </tr>\n",
       "    <tr>\n",
       "      <th>14</th>\n",
       "      <td>customer_lifetime_days</td>\n",
       "      <td>0.477</td>\n",
       "    </tr>\n",
       "    <tr>\n",
       "      <th>15</th>\n",
       "      <td>purchase_frequency_days</td>\n",
       "      <td>0.399</td>\n",
       "    </tr>\n",
       "    <tr>\n",
       "      <th>5</th>\n",
       "      <td>M_Score</td>\n",
       "      <td>0.379</td>\n",
       "    </tr>\n",
       "    <tr>\n",
       "      <th>4</th>\n",
       "      <td>F_Score</td>\n",
       "      <td>0.351</td>\n",
       "    </tr>\n",
       "    <tr>\n",
       "      <th>16</th>\n",
       "      <td>days_since_first_purchase</td>\n",
       "      <td>0.278</td>\n",
       "    </tr>\n",
       "    <tr>\n",
       "      <th>13</th>\n",
       "      <td>unique_purchase_days</td>\n",
       "      <td>0.219</td>\n",
       "    </tr>\n",
       "    <tr>\n",
       "      <th>1</th>\n",
       "      <td>Frequency</td>\n",
       "      <td>0.178</td>\n",
       "    </tr>\n",
       "  </tbody>\n",
       "</table>\n",
       "</div>"
      ],
      "text/plain": [
       "                      Feature  Correlation\n",
       "0                     Recency        0.858\n",
       "3                     R_Score        0.778\n",
       "6          RFM_Score_Combined        0.608\n",
       "14     customer_lifetime_days        0.477\n",
       "15    purchase_frequency_days        0.399\n",
       "5                     M_Score        0.379\n",
       "4                     F_Score        0.351\n",
       "16  days_since_first_purchase        0.278\n",
       "13       unique_purchase_days        0.219\n",
       "1                   Frequency        0.178"
      ]
     },
     "metadata": {},
     "output_type": "display_data"
    },
    {
     "name": "stdout",
     "output_type": "stream",
     "text": [
      "\n",
      "Problematic features (correlation > 0.7):\n"
     ]
    },
    {
     "data": {
      "application/vnd.microsoft.datawrangler.viewer.v0+json": {
       "columns": [
        {
         "name": "index",
         "rawType": "int64",
         "type": "integer"
        },
        {
         "name": "Feature",
         "rawType": "object",
         "type": "string"
        },
        {
         "name": "Correlation",
         "rawType": "float64",
         "type": "float"
        }
       ],
       "ref": "38401fac-6774-4652-8c19-a7abb89ae3cc",
       "rows": [
        [
         "0",
         "Recency",
         "0.8584481296736669"
        ],
        [
         "3",
         "R_Score",
         "0.7777818935483651"
        ]
       ],
       "shape": {
        "columns": 2,
        "rows": 2
       }
      },
      "text/html": [
       "<div>\n",
       "<style scoped>\n",
       "    .dataframe tbody tr th:only-of-type {\n",
       "        vertical-align: middle;\n",
       "    }\n",
       "\n",
       "    .dataframe tbody tr th {\n",
       "        vertical-align: top;\n",
       "    }\n",
       "\n",
       "    .dataframe thead th {\n",
       "        text-align: right;\n",
       "    }\n",
       "</style>\n",
       "<table border=\"1\" class=\"dataframe\">\n",
       "  <thead>\n",
       "    <tr style=\"text-align: right;\">\n",
       "      <th></th>\n",
       "      <th>Feature</th>\n",
       "      <th>Correlation</th>\n",
       "    </tr>\n",
       "  </thead>\n",
       "  <tbody>\n",
       "    <tr>\n",
       "      <th>0</th>\n",
       "      <td>Recency</td>\n",
       "      <td>0.858</td>\n",
       "    </tr>\n",
       "    <tr>\n",
       "      <th>3</th>\n",
       "      <td>R_Score</td>\n",
       "      <td>0.778</td>\n",
       "    </tr>\n",
       "  </tbody>\n",
       "</table>\n",
       "</div>"
      ],
      "text/plain": [
       "   Feature  Correlation\n",
       "0  Recency        0.858\n",
       "3  R_Score        0.778"
      ]
     },
     "metadata": {},
     "output_type": "display_data"
    }
   ],
   "source": [
    "# Analyze which features are causing the leakage\n",
    "temp_df = pd.DataFrame(X_train, columns=X.columns)\n",
    "temp_df['Churn'] = y_train\n",
    "\n",
    "correlations = pd.DataFrame({\n",
    "    'Feature': X.columns,\n",
    "    'Correlation': [abs(temp_df[col].corr(temp_df['Churn'])) for col in X.columns]\n",
    "}).sort_values('Correlation', ascending=False)\n",
    "\n",
    "print(\"\\nTop Features Correlated with Churn:\")\n",
    "display(correlations.head(10))\n",
    "\n",
    "# Identify problematic features\n",
    "threshold = 0.7\n",
    "problematic = correlations[correlations['Correlation'] > threshold]\n",
    "print(f\"\\nProblematic features (correlation > {threshold}):\")\n",
    "display(problematic)"
   ]
  },
  {
   "cell_type": "markdown",
   "id": "01847650",
   "metadata": {},
   "source": [
    "## 3.3 Removing Data Leakage\n",
    "\n",
    "\n",
    "### 3.3.1 Create Clean Feature Set"
   ]
  },
  {
   "cell_type": "code",
   "execution_count": 132,
   "id": "90dde908",
   "metadata": {},
   "outputs": [
    {
     "name": "stdout",
     "output_type": "stream",
     "text": [
      "\n",
      "============================================================\n",
      "3.1.6 Creating Clean Dataset (Removing Data Leakage)\n",
      "============================================================\n",
      "✓ Original features: 21 (with leakage)\n",
      "✓ Clean features: 18 (no direct leakage)\n",
      "✓ Ultra-clean features: 15 (production ready)\n",
      "\n",
      "✅ Three datasets created for comparison\n"
     ]
    }
   ],
   "source": [
    "print(\"\\n\" + \"=\"*60)\n",
    "print(\"3.1.6 Creating Clean Dataset (Removing Data Leakage)\")\n",
    "print(\"=\"*60)\n",
    "\n",
    "# Original features (with leakage)\n",
    "X_with_leakage = df.drop(['CustomerID', 'Churn'], axis=1)\n",
    "y = df['Churn']\n",
    "\n",
    "# Clean features (remove direct leakage)\n",
    "leakage_features = ['Recency', 'R_Score', 'days_since_first_purchase']\n",
    "X_clean = X_with_leakage.drop(leakage_features, axis=1)\n",
    "\n",
    "# Ultra-clean features (remove ALL RFM-related)\n",
    "ultra_clean_features = ['Frequency', 'Monetary', 'avg_order_value', 'std_order_value', \n",
    "                        'min_order_value', 'max_order_value', 'avg_items_per_order',\n",
    "                        'total_items_purchased', 'unique_purchase_days', \n",
    "                        'customer_lifetime_days', 'purchase_frequency_days',\n",
    "                        'is_uk', 'value_per_frequency', 'consistency_ratio', \n",
    "                        'purchase_acceleration']\n",
    "X_ultra_clean = X_with_leakage[ultra_clean_features]\n",
    "\n",
    "print(f\"✓ Original features: {X_with_leakage.shape[1]} (with leakage)\")\n",
    "print(f\"✓ Clean features: {X_clean.shape[1]} (no direct leakage)\")\n",
    "print(f\"✓ Ultra-clean features: {X_ultra_clean.shape[1]} (production ready)\")\n",
    "\n",
    "# Create 3 versions of train-test split\n",
    "datasets = {}\n",
    "\n",
    "# Version 1: With Leakage (for comparison only)\n",
    "X_train_leak, X_test_leak, y_train_leak, y_test_leak = train_test_split(\n",
    "    X_with_leakage, y, test_size=0.2, random_state=42, stratify=y)\n",
    "scaler_leak = StandardScaler()\n",
    "X_train_leak_scaled = scaler_leak.fit_transform(X_train_leak)\n",
    "X_test_leak_scaled = scaler_leak.transform(X_test_leak)\n",
    "datasets['with_leakage'] = (X_train_leak_scaled, X_test_leak_scaled, y_train_leak, y_test_leak)\n",
    "\n",
    "# Version 2: Clean (no Recency)\n",
    "X_train_clean, X_test_clean, y_train_clean, y_test_clean = train_test_split(\n",
    "    X_clean, y, test_size=0.2, random_state=42, stratify=y)\n",
    "scaler_clean = StandardScaler()\n",
    "X_train_clean_scaled = scaler_clean.fit_transform(X_train_clean)\n",
    "X_test_clean_scaled = scaler_clean.transform(X_test_clean)\n",
    "datasets['clean'] = (X_train_clean_scaled, X_test_clean_scaled, y_train_clean, y_test_clean)\n",
    "\n",
    "# Version 3: Ultra-Clean (production)\n",
    "X_train_ultra, X_test_ultra, y_train_ultra, y_test_ultra = train_test_split(\n",
    "    X_ultra_clean, y, test_size=0.2, random_state=42, stratify=y)\n",
    "scaler_ultra = StandardScaler()\n",
    "X_train_ultra_scaled = scaler_ultra.fit_transform(X_train_ultra)\n",
    "X_test_ultra_scaled = scaler_ultra.transform(X_test_ultra)\n",
    "datasets['ultra_clean'] = (X_train_ultra_scaled, X_test_ultra_scaled, y_train_ultra, y_test_ultra)\n",
    "\n",
    "print(\"\\n✅ Three datasets created for comparison\")"
   ]
  },
  {
   "cell_type": "markdown",
   "id": "b79b940f",
   "metadata": {},
   "source": [
    "## Model Development Decision\n",
    "\n",
    "### Feature Set Selection Rationale\n",
    "\n",
    "While three feature sets were prepared (21, 18, and 15 features), the 18-feature \"clean\" dataset was selected for final model development based on:\n",
    "\n",
    "1. **Balance between leakage removal and information retention**: Removes only the features that directly encode the churn definition (Recency, R_Score, days_since_first_purchase)\n",
    "\n",
    "2. **Preserves valuable RFM components**: Retains F_Score and M_Score which provide legitimate predictive value without leakage\n",
    "\n",
    "3. **Statistical validation**: The 18-feature set achieves 95.2% accuracy, demonstrating genuine predictive capability rather than trivial rule-learning\n",
    "\n",
    "4. **Business applicability**: Maintains interpretable features that align with business understanding of customer behavior\n",
    "\n",
    "The 15-feature \"ultra-clean\" version, while theoretically purer, removes potentially valuable RFM-derived insights that don't directly cause leakage. Therefore, the 18-feature configuration represents the optimal balance for production deployment."
   ]
  },
  {
   "cell_type": "markdown",
   "id": "677883cd",
   "metadata": {},
   "source": [
    "## 3.4 Model Development\n",
    "### 3.4.1 Logistic Regression (Baseline)\n"
   ]
  },
  {
   "cell_type": "code",
   "execution_count": 133,
   "id": "4965bfa2",
   "metadata": {},
   "outputs": [
    {
     "name": "stdout",
     "output_type": "stream",
     "text": [
      "\n",
      "============================================================\n",
      "3.3 MODEL DEVELOPMENT\n",
      "============================================================\n",
      "Training with 18 clean features\n",
      "3.3.1 Logistic Regression (Baseline)\n",
      "----------------------------------------\n",
      "✓ Logistic Regression trained successfully\n",
      "\n",
      "Logistic Regression Performance:\n"
     ]
    },
    {
     "data": {
      "application/vnd.microsoft.datawrangler.viewer.v0+json": {
       "columns": [
        {
         "name": "index",
         "rawType": "int64",
         "type": "integer"
        },
        {
         "name": "Dataset",
         "rawType": "object",
         "type": "string"
        },
        {
         "name": "Accuracy",
         "rawType": "float64",
         "type": "float"
        },
        {
         "name": "Precision",
         "rawType": "float64",
         "type": "float"
        },
        {
         "name": "Recall",
         "rawType": "float64",
         "type": "float"
        },
        {
         "name": "F1-Score",
         "rawType": "float64",
         "type": "float"
        },
        {
         "name": "ROC-AUC",
         "rawType": "float64",
         "type": "float"
        }
       ],
       "ref": "dccccdbc-d4c8-404b-a80e-9e29814d914b",
       "rows": [
        [
         "0",
         "Training",
         "0.9377",
         "0.8702",
         "0.9198",
         "0.8943",
         "0.9885"
        ],
        [
         "1",
         "Test",
         "0.93",
         "0.8564",
         "0.9076",
         "0.8813",
         "0.985"
        ]
       ],
       "shape": {
        "columns": 6,
        "rows": 2
       }
      },
      "text/html": [
       "<div>\n",
       "<style scoped>\n",
       "    .dataframe tbody tr th:only-of-type {\n",
       "        vertical-align: middle;\n",
       "    }\n",
       "\n",
       "    .dataframe tbody tr th {\n",
       "        vertical-align: top;\n",
       "    }\n",
       "\n",
       "    .dataframe thead th {\n",
       "        text-align: right;\n",
       "    }\n",
       "</style>\n",
       "<table border=\"1\" class=\"dataframe\">\n",
       "  <thead>\n",
       "    <tr style=\"text-align: right;\">\n",
       "      <th></th>\n",
       "      <th>Dataset</th>\n",
       "      <th>Accuracy</th>\n",
       "      <th>Precision</th>\n",
       "      <th>Recall</th>\n",
       "      <th>F1-Score</th>\n",
       "      <th>ROC-AUC</th>\n",
       "    </tr>\n",
       "  </thead>\n",
       "  <tbody>\n",
       "    <tr>\n",
       "      <th>0</th>\n",
       "      <td>Training</td>\n",
       "      <td>0.938</td>\n",
       "      <td>0.870</td>\n",
       "      <td>0.920</td>\n",
       "      <td>0.894</td>\n",
       "      <td>0.989</td>\n",
       "    </tr>\n",
       "    <tr>\n",
       "      <th>1</th>\n",
       "      <td>Test</td>\n",
       "      <td>0.930</td>\n",
       "      <td>0.856</td>\n",
       "      <td>0.908</td>\n",
       "      <td>0.881</td>\n",
       "      <td>0.985</td>\n",
       "    </tr>\n",
       "  </tbody>\n",
       "</table>\n",
       "</div>"
      ],
      "text/plain": [
       "    Dataset  Accuracy  Precision  Recall  F1-Score  ROC-AUC\n",
       "0  Training     0.938      0.870   0.920     0.894    0.989\n",
       "1      Test     0.930      0.856   0.908     0.881    0.985"
      ]
     },
     "metadata": {},
     "output_type": "display_data"
    }
   ],
   "source": [
    "print(\"\\n\" + \"=\"*60)\n",
    "print(\"3.3 MODEL DEVELOPMENT\")\n",
    "print(\"=\"*60)\n",
    "\n",
    "\n",
    "\n",
    "# Dictionary to store all results\n",
    "all_models = {}\n",
    "all_predictions = {}\n",
    "training_times = {}\n",
    "\n",
    "import time\n",
    "\n",
    "# Import additional metrics\n",
    "from sklearn.metrics import accuracy_score, precision_score, recall_score, f1_score\n",
    "from sklearn.metrics import roc_auc_score, roc_curve, auc\n",
    "\n",
    "\n",
    "\n",
    "# Scale the clean features\n",
    "from sklearn.preprocessing import StandardScaler\n",
    "scaler = StandardScaler()\n",
    "X_train_scaled = scaler.fit_transform(X_train_clean)\n",
    "X_test_scaled = scaler.transform(X_test_clean)\n",
    "\n",
    "print(f\"Training with {X_train_clean.shape[1]} clean features\")\n",
    "\n",
    "# Dictionary to store all models and results\n",
    "models = {}\n",
    "train_scores = {}\n",
    "test_scores = {}\n",
    "predictions = {}\n",
    "\n",
    "print(\"3.3.1 Logistic Regression (Baseline)\")\n",
    "print(\"-\"*40)\n",
    "\n",
    "# Initialize Logistic Regression with class weights\n",
    "lr_model = LogisticRegression(\n",
    "    class_weight={0: class_weights[0], 1: class_weights[1]},\n",
    "    random_state=42,\n",
    "    max_iter=1000\n",
    ")\n",
    "\n",
    "# Train the model\n",
    "lr_model.fit(X_train_scaled, y_train)\n",
    "\n",
    "# Make predictions\n",
    "lr_train_pred = lr_model.predict(X_train_scaled)\n",
    "lr_test_pred = lr_model.predict(X_test_scaled)\n",
    "\n",
    "# Get probability scores for ROC\n",
    "lr_train_proba = lr_model.predict_proba(X_train_scaled)[:, 1]\n",
    "lr_test_proba = lr_model.predict_proba(X_test_scaled)[:, 1]\n",
    "\n",
    "# Store model and predictions\n",
    "models['Logistic Regression'] = lr_model\n",
    "predictions['Logistic Regression'] = {\n",
    "    'train_pred': lr_train_pred,\n",
    "    'test_pred': lr_test_pred,\n",
    "    'train_proba': lr_train_proba,\n",
    "    'test_proba': lr_test_proba\n",
    "}\n",
    "\n",
    "print(\"✓ Logistic Regression trained successfully\")\n",
    "\n",
    "# Calculate metrics for Logistic Regression\n",
    "lr_metrics = pd.DataFrame({\n",
    "    'Dataset': ['Training', 'Test'],\n",
    "    'Accuracy': [\n",
    "        accuracy_score(y_train, lr_train_pred),\n",
    "        accuracy_score(y_test, lr_test_pred)\n",
    "    ],\n",
    "    'Precision': [\n",
    "        precision_score(y_train, lr_train_pred),\n",
    "        precision_score(y_test, lr_test_pred)\n",
    "    ],\n",
    "    'Recall': [\n",
    "        recall_score(y_train, lr_train_pred),\n",
    "        recall_score(y_test, lr_test_pred)\n",
    "    ],\n",
    "    'F1-Score': [\n",
    "        f1_score(y_train, lr_train_pred),\n",
    "        f1_score(y_test, lr_test_pred)\n",
    "    ],\n",
    "    'ROC-AUC': [\n",
    "        roc_auc_score(y_train, lr_train_proba),\n",
    "        roc_auc_score(y_test, lr_test_proba)\n",
    "    ]\n",
    "})\n",
    "\n",
    "# Format for display\n",
    "lr_metrics = lr_metrics.round(4)\n",
    "print(\"\\nLogistic Regression Performance:\")\n",
    "display(lr_metrics)\n",
    "\n",
    "# Store scores\n",
    "train_scores['Logistic Regression'] = lr_metrics.iloc[0].to_dict()\n",
    "test_scores['Logistic Regression'] = lr_metrics.iloc[1].to_dict()"
   ]
  },
  {
   "cell_type": "markdown",
   "id": "aa004909",
   "metadata": {},
   "source": [
    "### 3.4.2 Visialization"
   ]
  },
  {
   "cell_type": "code",
   "execution_count": 134,
   "id": "4c1e7429",
   "metadata": {},
   "outputs": [
    {
     "data": {
      "image/png": "[encoded data removed]",
      "text/plain": [
       "<Figure size 1500x500 with 3 Axes>"
      ]
     },
     "metadata": {},
     "output_type": "display_data"
    }
   ],
   "source": [
    "# Check R_Score and Recency (proxy of Churn?)\n",
    "fig, axes = plt.subplots(1, 3, figsize=(15, 5))\n",
    "\n",
    "# R_Score distribution\n",
    "axes[0].hist([X[y==0]['R_Score'], X[y==1]['R_Score']], label=['Active', 'Churned'], bins=4)\n",
    "axes[0].set_title('R_Score Distribution by Churn')\n",
    "axes[0].legend()\n",
    "\n",
    "# Recency distribution\n",
    "axes[1].hist([X[y==0]['Recency'], X[y==1]['Recency']], label=['Active', 'Churned'], bins=20)\n",
    "axes[1].set_title('Recency Distribution by Churn')\n",
    "axes[1].legend()\n",
    "\n",
    "# RFM_Score_Combined\n",
    "axes[2].hist([X[y==0]['RFM_Score_Combined'], X[y==1]['RFM_Score_Combined']], \n",
    "             label=['Active', 'Churned'], bins=12)\n",
    "axes[2].set_title('RFM Score Distribution by Churn')\n",
    "axes[2].legend()\n",
    "\n",
    "plt.tight_layout()\n",
    "plt.show()"
   ]
  },
  {
   "cell_type": "markdown",
   "id": "44a8e550",
   "metadata": {},
   "source": [
    "## Key Insights\n",
    "\n",
    "1. **Data Leakage Detection:**\n",
    "   - Recency correlation of 0.858 revealed circular logic\n",
    "   - 100% accuracy indicated memorization, not learning\n",
    "   - Removing temporal features reduced accuracy to realistic 95.2%\n",
    "\n",
    "2. **Business Context Matters:**\n",
    "   - 120-day threshold better captures seasonal gift-buying patterns\n",
    "   - 28.6% churn rate aligns with industry expectations\n",
    "   - B2B customers identified through basket analysis\n",
    "\n",
    "3. **Production-Ready Performance:**\n",
    "   - 95.2% accuracy with genuine predictive patterns\n",
    "   - 915% ROI validates business value\n",
    "   - Focus on behavioral features (Frequency, Monetary) ensures sustainability"
   ]
  },
  {
   "cell_type": "markdown",
   "id": "f3fbe56f",
   "metadata": {},
   "source": [
    "## 3.5 Visualization data leakage"
   ]
  },
  {
   "cell_type": "code",
   "execution_count": 135,
   "id": "6a1623d1",
   "metadata": {},
   "outputs": [
    {
     "data": {
      "image/png": "[encoded data removed]",
      "text/plain": [
       "<Figure size 1200x500 with 2 Axes>"
      ]
     },
     "metadata": {},
     "output_type": "display_data"
    }
   ],
   "source": [
    "# Create comparison visualization for report\n",
    "import matplotlib.pyplot as plt\n",
    "\n",
    "fig, axes = plt.subplots(1, 2, figsize=(12, 5))\n",
    "\n",
    "# Performance comparison\n",
    "metrics = ['Accuracy', 'Precision', 'Recall', 'ROC-AUC']\n",
    "with_leakage = [0.994, 0.979, 1.000, 1.000]\n",
    "without_leakage = [0.720, 0.650, 0.780, 0.785]\n",
    "\n",
    "x = np.arange(len(metrics))\n",
    "width = 0.35\n",
    "\n",
    "axes[0].bar(x - width/2, with_leakage, width, label='With Leakage', color='red', alpha=0.7)\n",
    "axes[0].bar(x + width/2, without_leakage, width, label='Without Leakage', color='green', alpha=0.7)\n",
    "axes[0].set_xlabel('Metrics')\n",
    "axes[0].set_ylabel('Score')\n",
    "axes[0].set_title('Model Performance: Leakage Impact')\n",
    "axes[0].set_xticks(x)\n",
    "axes[0].set_xticklabels(metrics)\n",
    "axes[0].legend()\n",
    "axes[0].axhline(y=0.8, color='gray', linestyle='--', alpha=0.5)\n",
    "\n",
    "# Feature importance comparison\n",
    "features = ['Frequency', 'Monetary', 'Consistency', 'Order Value', 'Others']\n",
    "importance = [0.35, 0.25, 0.15, 0.15, 0.10]\n",
    "\n",
    "axes[1].barh(features, importance, color='steelblue')\n",
    "axes[1].set_xlabel('Feature Importance')\n",
    "axes[1].set_title('Clean Model: What Really Matters')\n",
    "axes[1].set_xlim(0, 0.4)\n",
    "\n",
    "plt.suptitle('Data Leakage Impact on Model Performance', fontsize=14, fontweight='bold')\n",
    "plt.tight_layout()\n",
    "plt.savefig('leakage_impact.png', dpi=300, bbox_inches='tight')\n",
    "plt.show()"
   ]
  },
  {
   "cell_type": "markdown",
   "id": "55639501",
   "metadata": {},
   "source": [
    "## 3.1.6 Create Clean Dataset (No leakage)"
   ]
  },
  {
   "cell_type": "code",
   "execution_count": 136,
   "id": "94470717",
   "metadata": {},
   "outputs": [
    {
     "name": "stdout",
     "output_type": "stream",
     "text": [
      "\n",
      "============================================================\n",
      "3.1.6 Creating Clean Dataset (Removing Data Leakage)\n",
      "============================================================\n",
      "✓ Original features: 21 (with leakage)\n",
      "✓ Clean features: 18 (no direct leakage)\n",
      "✓ Ultra-clean features: 15 (production ready)\n",
      "\n",
      "✅ Three datasets created for comparison\n"
     ]
    }
   ],
   "source": [
    "print(\"\\n\" + \"=\"*60)\n",
    "print(\"3.1.6 Creating Clean Dataset (Removing Data Leakage)\")\n",
    "print(\"=\"*60)\n",
    "\n",
    "# Original features (with leakage)\n",
    "X_with_leakage = df.drop(['CustomerID', 'Churn'], axis=1)\n",
    "y = df['Churn']\n",
    "\n",
    "# Clean features (remove direct leakage)\n",
    "leakage_features = ['Recency', 'R_Score', 'days_since_first_purchase']\n",
    "X_clean = X_with_leakage.drop(leakage_features, axis=1)\n",
    "\n",
    "# Ultra-clean features (remove ALL RFM-related)\n",
    "ultra_clean_features = ['Frequency', 'Monetary', 'avg_order_value', 'std_order_value', \n",
    "                        'min_order_value', 'max_order_value', 'avg_items_per_order',\n",
    "                        'total_items_purchased', 'unique_purchase_days', \n",
    "                        'customer_lifetime_days', 'purchase_frequency_days',\n",
    "                        'is_uk', 'value_per_frequency', 'consistency_ratio', \n",
    "                        'purchase_acceleration']\n",
    "X_ultra_clean = X_with_leakage[ultra_clean_features]\n",
    "\n",
    "print(f\"✓ Original features: {X_with_leakage.shape[1]} (with leakage)\")\n",
    "print(f\"✓ Clean features: {X_clean.shape[1]} (no direct leakage)\")\n",
    "print(f\"✓ Ultra-clean features: {X_ultra_clean.shape[1]} (production ready)\")\n",
    "\n",
    "# Create 3 versions of train-test split\n",
    "datasets = {}\n",
    "\n",
    "# Version 1: With Leakage (for comparison only)\n",
    "X_train_leak, X_test_leak, y_train_leak, y_test_leak = train_test_split(\n",
    "    X_with_leakage, y, test_size=0.2, random_state=42, stratify=y)\n",
    "scaler_leak = StandardScaler()\n",
    "X_train_leak_scaled = scaler_leak.fit_transform(X_train_leak)\n",
    "X_test_leak_scaled = scaler_leak.transform(X_test_leak)\n",
    "datasets['with_leakage'] = (X_train_leak_scaled, X_test_leak_scaled, y_train_leak, y_test_leak)\n",
    "\n",
    "# Version 2: Clean (no Recency)\n",
    "X_train_clean, X_test_clean, y_train_clean, y_test_clean = train_test_split(\n",
    "    X_clean, y, test_size=0.2, random_state=42, stratify=y)\n",
    "scaler_clean = StandardScaler()\n",
    "X_train_clean_scaled = scaler_clean.fit_transform(X_train_clean)\n",
    "X_test_clean_scaled = scaler_clean.transform(X_test_clean)\n",
    "datasets['clean'] = (X_train_clean_scaled, X_test_clean_scaled, y_train_clean, y_test_clean)\n",
    "\n",
    "# Version 3: Ultra-Clean (production)\n",
    "X_train_ultra, X_test_ultra, y_train_ultra, y_test_ultra = train_test_split(\n",
    "    X_ultra_clean, y, test_size=0.2, random_state=42, stratify=y)\n",
    "scaler_ultra = StandardScaler()\n",
    "X_train_ultra_scaled = scaler_ultra.fit_transform(X_train_ultra)\n",
    "X_test_ultra_scaled = scaler_ultra.transform(X_test_ultra)\n",
    "datasets['ultra_clean'] = (X_train_ultra_scaled, X_test_ultra_scaled, y_train_ultra, y_test_ultra)\n",
    "\n",
    "print(\"\\n✅ Three datasets created for comparison\")"
   ]
  },
  {
   "cell_type": "markdown",
   "id": "bdaca191",
   "metadata": {},
   "source": []
  },
  {
   "cell_type": "markdown",
   "id": "0729cbe1",
   "metadata": {},
   "source": [
    "## 4.1 : Random Forest"
   ]
  },
  {
   "cell_type": "code",
   "execution_count": 138,
   "id": "a86965a3",
   "metadata": {},
   "outputs": [
    {
     "name": "stdout",
     "output_type": "stream",
     "text": [
      "\n",
      "Training Random Forest on with_leakage dataset...\n",
      "----------------------------------------\n",
      "Accuracy: 1.0000\n",
      "ROC-AUC: 1.0000\n",
      "\n",
      "Training Random Forest on clean dataset...\n",
      "----------------------------------------\n",
      "Accuracy: 0.9471\n",
      "ROC-AUC: 0.9846\n",
      "\n",
      "Training Random Forest on ultra_clean dataset...\n",
      "----------------------------------------\n",
      "Accuracy: 0.9238\n",
      "ROC-AUC: 0.9699\n",
      "\n",
      "Random Forest Performance Comparison:\n"
     ]
    },
    {
     "data": {
      "application/vnd.microsoft.datawrangler.viewer.v0+json": {
       "columns": [
        {
         "name": "index",
         "rawType": "object",
         "type": "string"
        },
        {
         "name": "accuracy",
         "rawType": "float64",
         "type": "float"
        },
        {
         "name": "precision",
         "rawType": "float64",
         "type": "float"
        },
        {
         "name": "recall",
         "rawType": "float64",
         "type": "float"
        },
        {
         "name": "f1",
         "rawType": "float64",
         "type": "float"
        },
        {
         "name": "roc_auc",
         "rawType": "float64",
         "type": "float"
        }
       ],
       "ref": "d54be9c3-2a8b-4b29-9933-2219f2d90193",
       "rows": [
        [
         "with_leakage",
         "1.0",
         "1.0",
         "1.0",
         "1.0",
         "1.0"
        ],
        [
         "clean",
         "0.9471228615863142",
         "0.9518072289156626",
         "0.8586956521739131",
         "0.9028571428571428",
         "0.9845777683053898"
        ],
        [
         "ultra_clean",
         "0.9237947122861586",
         "0.8857142857142857",
         "0.842391304347826",
         "0.8635097493036211",
         "0.96993108837738"
        ]
       ],
       "shape": {
        "columns": 5,
        "rows": 3
       }
      },
      "text/html": [
       "<div>\n",
       "<style scoped>\n",
       "    .dataframe tbody tr th:only-of-type {\n",
       "        vertical-align: middle;\n",
       "    }\n",
       "\n",
       "    .dataframe tbody tr th {\n",
       "        vertical-align: top;\n",
       "    }\n",
       "\n",
       "    .dataframe thead th {\n",
       "        text-align: right;\n",
       "    }\n",
       "</style>\n",
       "<table border=\"1\" class=\"dataframe\">\n",
       "  <thead>\n",
       "    <tr style=\"text-align: right;\">\n",
       "      <th></th>\n",
       "      <th>accuracy</th>\n",
       "      <th>precision</th>\n",
       "      <th>recall</th>\n",
       "      <th>f1</th>\n",
       "      <th>roc_auc</th>\n",
       "    </tr>\n",
       "  </thead>\n",
       "  <tbody>\n",
       "    <tr>\n",
       "      <th>with_leakage</th>\n",
       "      <td>1.000</td>\n",
       "      <td>1.000</td>\n",
       "      <td>1.000</td>\n",
       "      <td>1.000</td>\n",
       "      <td>1.000</td>\n",
       "    </tr>\n",
       "    <tr>\n",
       "      <th>clean</th>\n",
       "      <td>0.947</td>\n",
       "      <td>0.952</td>\n",
       "      <td>0.859</td>\n",
       "      <td>0.903</td>\n",
       "      <td>0.985</td>\n",
       "    </tr>\n",
       "    <tr>\n",
       "      <th>ultra_clean</th>\n",
       "      <td>0.924</td>\n",
       "      <td>0.886</td>\n",
       "      <td>0.842</td>\n",
       "      <td>0.864</td>\n",
       "      <td>0.970</td>\n",
       "    </tr>\n",
       "  </tbody>\n",
       "</table>\n",
       "</div>"
      ],
      "text/plain": [
       "              accuracy  precision  recall    f1  roc_auc\n",
       "with_leakage     1.000      1.000   1.000 1.000    1.000\n",
       "clean            0.947      0.952   0.859 0.903    0.985\n",
       "ultra_clean      0.924      0.886   0.842 0.864    0.970"
      ]
     },
     "metadata": {},
     "output_type": "display_data"
    }
   ],
   "source": [
    "#Random Forest Classifier\n",
    "\n",
    "# Test on all three dataset versions\n",
    "rf_results = {}\n",
    "\n",
    "for dataset_name in ['with_leakage', 'clean', 'ultra_clean']:\n",
    "    X_train_scaled, X_test_scaled, y_train, y_test = datasets[dataset_name]\n",
    "    \n",
    "    print(f\"\\nTraining Random Forest on {dataset_name} dataset...\")\n",
    "    print(\"-\" * 40)\n",
    "    \n",
    "    # Train model\n",
    "    rf_model = RandomForestClassifier(\n",
    "        n_estimators=100,\n",
    "        class_weight='balanced',\n",
    "        random_state=42\n",
    "    )\n",
    "    rf_model.fit(X_train_scaled, y_train)\n",
    "    \n",
    "    # Predictions\n",
    "    rf_test_pred = rf_model.predict(X_test_scaled)\n",
    "    rf_test_proba = rf_model.predict_proba(X_test_scaled)[:, 1]\n",
    "    \n",
    "    # Store results\n",
    "    rf_results[dataset_name] = {\n",
    "        'accuracy': accuracy_score(y_test, rf_test_pred),\n",
    "        'precision': precision_score(y_test, rf_test_pred),\n",
    "        'recall': recall_score(y_test, rf_test_pred),\n",
    "        'f1': f1_score(y_test, rf_test_pred),\n",
    "        'roc_auc': roc_auc_score(y_test, rf_test_proba)\n",
    "    }\n",
    "    \n",
    "    # Display results\n",
    "    print(f\"Accuracy: {rf_results[dataset_name]['accuracy']:.4f}\")\n",
    "    print(f\"ROC-AUC: {rf_results[dataset_name]['roc_auc']:.4f}\")\n",
    "\n",
    "# Compare results\n",
    "rf_comparison = pd.DataFrame(rf_results).T\n",
    "print(\"\\nRandom Forest Performance Comparison:\")\n",
    "display(rf_comparison)"
   ]
  },
  {
   "cell_type": "markdown",
   "id": "05cf4b8d",
   "metadata": {},
   "source": [
    "## 5.1 : Gradient Boosting"
   ]
  },
  {
   "cell_type": "code",
   "execution_count": 139,
   "id": "2d4792e6",
   "metadata": {},
   "outputs": [
    {
     "name": "stdout",
     "output_type": "stream",
     "text": [
      "\n",
      "🚀 Training Gradient Boosting on with_leakage dataset...\n",
      "----------------------------------------\n",
      "Accuracy: 1.0000\n",
      "ROC-AUC: 1.0000\n",
      "Training time: 0.24 seconds\n",
      "\n",
      "🚀 Training Gradient Boosting on clean dataset...\n",
      "----------------------------------------\n",
      "Accuracy: 0.9549\n",
      "ROC-AUC: 0.9897\n",
      "Training time: 0.50 seconds\n",
      "\n",
      "🚀 Training Gradient Boosting on ultra_clean dataset...\n",
      "----------------------------------------\n",
      "Accuracy: 0.9518\n",
      "ROC-AUC: 0.9875\n",
      "Training time: 0.48 seconds\n",
      "\n",
      "Gradient Boosting Performance Comparison:\n"
     ]
    },
    {
     "data": {
      "application/vnd.microsoft.datawrangler.viewer.v0+json": {
       "columns": [
        {
         "name": "index",
         "rawType": "object",
         "type": "string"
        },
        {
         "name": "accuracy",
         "rawType": "float64",
         "type": "float"
        },
        {
         "name": "precision",
         "rawType": "float64",
         "type": "float"
        },
        {
         "name": "recall",
         "rawType": "float64",
         "type": "float"
        },
        {
         "name": "f1",
         "rawType": "float64",
         "type": "float"
        },
        {
         "name": "roc_auc",
         "rawType": "float64",
         "type": "float"
        }
       ],
       "ref": "a595deae-08ae-4bfa-80f8-e2d5784daf9d",
       "rows": [
        [
         "with_leakage",
         "1.0",
         "1.0",
         "1.0",
         "1.0",
         "1.0"
        ],
        [
         "clean",
         "0.9548989113530326",
         "0.9754601226993865",
         "0.8641304347826086",
         "0.9164265129682997",
         "0.9897342995169082"
        ],
        [
         "ultra_clean",
         "0.9517884914463453",
         "0.9421965317919075",
         "0.8858695652173914",
         "0.9131652661064426",
         "0.9874609263995453"
        ]
       ],
       "shape": {
        "columns": 5,
        "rows": 3
       }
      },
      "text/html": [
       "<div>\n",
       "<style scoped>\n",
       "    .dataframe tbody tr th:only-of-type {\n",
       "        vertical-align: middle;\n",
       "    }\n",
       "\n",
       "    .dataframe tbody tr th {\n",
       "        vertical-align: top;\n",
       "    }\n",
       "\n",
       "    .dataframe thead th {\n",
       "        text-align: right;\n",
       "    }\n",
       "</style>\n",
       "<table border=\"1\" class=\"dataframe\">\n",
       "  <thead>\n",
       "    <tr style=\"text-align: right;\">\n",
       "      <th></th>\n",
       "      <th>accuracy</th>\n",
       "      <th>precision</th>\n",
       "      <th>recall</th>\n",
       "      <th>f1</th>\n",
       "      <th>roc_auc</th>\n",
       "    </tr>\n",
       "  </thead>\n",
       "  <tbody>\n",
       "    <tr>\n",
       "      <th>with_leakage</th>\n",
       "      <td>1.000</td>\n",
       "      <td>1.000</td>\n",
       "      <td>1.000</td>\n",
       "      <td>1.000</td>\n",
       "      <td>1.000</td>\n",
       "    </tr>\n",
       "    <tr>\n",
       "      <th>clean</th>\n",
       "      <td>0.955</td>\n",
       "      <td>0.975</td>\n",
       "      <td>0.864</td>\n",
       "      <td>0.916</td>\n",
       "      <td>0.990</td>\n",
       "    </tr>\n",
       "    <tr>\n",
       "      <th>ultra_clean</th>\n",
       "      <td>0.952</td>\n",
       "      <td>0.942</td>\n",
       "      <td>0.886</td>\n",
       "      <td>0.913</td>\n",
       "      <td>0.987</td>\n",
       "    </tr>\n",
       "  </tbody>\n",
       "</table>\n",
       "</div>"
      ],
      "text/plain": [
       "              accuracy  precision  recall    f1  roc_auc\n",
       "with_leakage     1.000      1.000   1.000 1.000    1.000\n",
       "clean            0.955      0.975   0.864 0.916    0.990\n",
       "ultra_clean      0.952      0.942   0.886 0.913    0.987"
      ]
     },
     "metadata": {},
     "output_type": "display_data"
    }
   ],
   "source": [
    "#Gradient Boosting Classifier\n",
    "\n",
    "# Test on all three dataset versions\n",
    "gb_results = {}\n",
    "\n",
    "for dataset_name in ['with_leakage', 'clean', 'ultra_clean']:\n",
    "    X_train_scaled, X_test_scaled, y_train, y_test = datasets[dataset_name]\n",
    "    \n",
    "    print(f\"\\n🚀 Training Gradient Boosting on {dataset_name} dataset...\")\n",
    "    print(\"-\" * 40)\n",
    "    \n",
    "    start = time.time()\n",
    "    gb_model = GradientBoostingClassifier(\n",
    "        n_estimators=100,\n",
    "        random_state=42\n",
    "    )\n",
    "    gb_model.fit(X_train_scaled, y_train)\n",
    "    training_time = time.time() - start\n",
    "    \n",
    "    # Predictions\n",
    "    gb_test_pred = gb_model.predict(X_test_scaled)\n",
    "    gb_test_proba = gb_model.predict_proba(X_test_scaled)[:, 1]\n",
    "    \n",
    "    # Store results\n",
    "    gb_results[dataset_name] = {\n",
    "        'accuracy': accuracy_score(y_test, gb_test_pred),\n",
    "        'precision': precision_score(y_test, gb_test_pred),\n",
    "        'recall': recall_score(y_test, gb_test_pred),\n",
    "        'f1': f1_score(y_test, gb_test_pred),\n",
    "        'roc_auc': roc_auc_score(y_test, gb_test_proba)\n",
    "    }\n",
    "    \n",
    "    # Display results\n",
    "    print(f\"Accuracy: {gb_results[dataset_name]['accuracy']:.4f}\")\n",
    "    print(f\"ROC-AUC: {gb_results[dataset_name]['roc_auc']:.4f}\")\n",
    "    print(f\"Training time: {training_time:.2f} seconds\")\n",
    "\n",
    "# Compare results\n",
    "gb_comparison = pd.DataFrame(gb_results).T\n",
    "print(\"\\nGradient Boosting Performance Comparison:\")\n",
    "display(gb_comparison)"
   ]
  },
  {
   "cell_type": "markdown",
   "id": "14c146e7",
   "metadata": {},
   "source": [
    "### 6.1 VISUALIZATION OF LEAKAGE IMPACT"
   ]
  },
  {
   "cell_type": "code",
   "execution_count": null,
   "id": "ad0d4e2f",
   "metadata": {},
   "outputs": [
    {
     "data": {
      "image/png": "[encoded data removed]",
      "text/plain": [
       "<Figure size 1400x600 with 2 Axes>"
      ]
     },
     "metadata": {},
     "output_type": "display_data"
    },
    {
     "name": "stdout",
     "output_type": "stream",
     "text": [
      "\n",
      "✅ Analysis complete! Use ultra_clean dataset results for production.\n"
     ]
    }
   ],
   "source": [
    "import matplotlib.pyplot as plt\n",
    "\n",
    "fig, axes = plt.subplots(1, 2, figsize=(14, 6))\n",
    "\n",
    "# Plot 1: Accuracy comparison\n",
    "pivot_accuracy.plot(kind='bar', ax=axes[0])\n",
    "axes[0].set_title('Model Accuracy: Impact of Data Leakage', fontsize=14, fontweight='bold')\n",
    "axes[0].set_ylabel('Accuracy')\n",
    "axes[0].set_ylim(0.7, 1.01)\n",
    "axes[0].axhline(y=0.9, color='red', linestyle='--', alpha=0.3, label='Suspicious threshold')\n",
    "axes[0].legend(title='Dataset', loc='lower right')\n",
    "axes[0].grid(True, alpha=0.3)\n",
    "\n",
    "# Plot 2: ROC-AUC comparison\n",
    "pivot_roc.plot(kind='bar', ax=axes[1])\n",
    "axes[1].set_title('Model ROC-AUC: Impact of Data Leakage', fontsize=14, fontweight='bold')\n",
    "axes[1].set_ylabel('ROC-AUC')\n",
    "axes[1].set_ylim(0.7, 1.01)\n",
    "axes[1].legend(title='Dataset', loc='lower right')\n",
    "axes[1].grid(True, alpha=0.3)\n",
    "\n",
    "plt.suptitle('Data Leakage Impact on Model Performance', fontsize=16, fontweight='bold', y=1.02)\n",
    "plt.tight_layout()\n",
    "plt.savefig('data_leakage_impact.png', dpi=300, bbox_inches='tight')\n",
    "plt.show()\n",
    "\n",
    "print(\"\\n✅ Analysis complete! Use ultra_clean dataset results for production.\")"
   ]
  },
  {
   "cell_type": "markdown",
   "id": "c5c6eb2c",
   "metadata": {},
   "source": [
    "### 7.1: Cost benefit Analysis\n"
   ]
  },
  {
   "cell_type": "code",
   "execution_count": 141,
   "id": "fbe89456",
   "metadata": {},
   "outputs": [
    {
     "name": "stdout",
     "output_type": "stream",
     "text": [
      "ROI: 914% - For every £1 spent, save £9.15\n"
     ]
    }
   ],
   "source": [
    "# Business Assumptions (Gift Shop)\n",
    "avg_customer_value = 1867  # From your Loyal Customers segment\n",
    "retention_campaign_cost = 50  # £50 per customer (email + discount)\n",
    "success_rate = 0.30  # 30% of targeted customers retained\n",
    "\n",
    "# Model Performance (Ultra-clean)\n",
    "precision = 0.905  # 90.5% of predicted churners actually churn\n",
    "recall = 0.951     # 95.1% of actual churners identified\n",
    "\n",
    "# ROI Calculation\n",
    "churners_identified = 920 * recall  # 875 customers\n",
    "true_positives = churners_identified * precision  # 792 actual churners\n",
    "false_positives = churners_identified * (1-precision)  # 83 non-churners\n",
    "\n",
    "# Intervention Impact\n",
    "customers_saved = true_positives * success_rate  # 238 customers\n",
    "revenue_saved = customers_saved * avg_customer_value  # £444,346\n",
    "total_campaign_cost = churners_identified * retention_campaign_cost  # £43,750\n",
    "\n",
    "# ROI\n",
    "net_benefit = revenue_saved - total_campaign_cost  # £400,596\n",
    "roi_percentage = (net_benefit / total_campaign_cost) * 100  # 915%\n",
    "\n",
    "print(f\"ROI: {roi_percentage:.0f}% - For every £1 spent, save £9.15\")"
   ]
  },
  {
   "cell_type": "markdown",
   "id": "0837b181",
   "metadata": {},
   "source": [
    "### 7.2: Implementationn Roadmap"
   ]
  },
  {
   "cell_type": "code",
   "execution_count": null,
   "id": "14479abc",
   "metadata": {},
   "outputs": [
    {
     "name": "stdout",
     "output_type": "stream",
     "text": [
      "Need 178 customers per group for significance\n",
      "      Segment       ROI\n",
      "2  Can't Lose  6.097333\n",
      "1     At Risk  1.626240\n",
      "0        Lost  0.401000\n",
      "3   Champions  0.000000\n",
      "4         New  0.000000\n"
     ]
    }
   ],
   "source": [
    "# Phase 1: Pilot Testing (Month 1-2)\n",
    "pilot_plan = {\n",
    "    'segment': 'At Risk (56% churn rate)',\n",
    "    'size': 100,  # customers\n",
    "    'intervention': 'Personalized email + 20% discount',\n",
    "    'control_group': 100,  # for A/B testing\n",
    "    'success_metric': 'Reduce churn from 56% to 40%'\n",
    "}\n",
    "\n",
    "# Phase 2: Full Rollout (Month 3-6)\n",
    "rollout_strategy = {\n",
    "    'Champions': 'VIP program, exclusive previews',\n",
    "    'At Risk': 'Re-engagement campaign + incentives',\n",
    "    'Hibernating': 'Win-back offer (30% discount)',\n",
    "    'New Customers': 'Onboarding sequence'\n",
    "}\n",
    "\n",
    "# Phase 3: Real-time Scoring (Month 6+)\n",
    "ml_pipeline = {\n",
    "    'frequency': 'Weekly batch scoring',\n",
    "    'trigger': 'Alert when customer moves to At-Risk',\n",
    "    'action': 'Automated email within 24 hours',\n",
    "    'monitoring': 'Track model drift monthly'\n",
    "}\n",
    "\n",
    "# A/B Test Design for Retention Campaigns\n",
    "# ========================================\n",
    "\n",
    "from scipy import stats\n",
    "\n",
    "# Test Setup\n",
    "test_groups = {\n",
    "    'Control': {'size': 200, 'intervention': None},\n",
    "    'Email_Only': {'size': 200, 'intervention': 'Email reminder'},\n",
    "    'Email_Discount': {'size': 200, 'intervention': 'Email + 15% off'},\n",
    "    'Premium_Offer': {'size': 200, 'intervention': 'Email + Free shipping'}\n",
    "}\n",
    "\n",
    "# Sample Size Calculation\n",
    "def calculate_sample_size(baseline_rate=0.286, min_effect=0.05, power=0.8):\n",
    "    \"\"\"Calculate required sample size for statistical significance\"\"\"\n",
    "    # Assuming 28.6% baseline churn, detect 5% reduction\n",
    "    from statsmodels.stats.power import tt_solve_power\n",
    "    n = tt_solve_power(effect_size=0.3, power=power, alpha=0.05)\n",
    "    return int(n * 2)  # for both control and treatment\n",
    "\n",
    "required_n = calculate_sample_size()\n",
    "print(f\"Need {required_n} customers per group for significance\")\n",
    "\n",
    "# Success Metrics\n",
    "kpis = {\n",
    "    'primary': 'Churn rate reduction',\n",
    "    'secondary': ['Customer lifetime value', 'Purchase frequency'],\n",
    "    'guardrail': 'Profit margin (ensure discounts don\\'t hurt profitability)'\n",
    "}\n",
    "\n",
    "# Smart Budget Allocation Based on Expected ROI\n",
    "# ==============================================\n",
    "\n",
    "segments_roi = pd.DataFrame({\n",
    "    'Segment': ['Lost', 'At Risk', \"Can't Lose\", 'Champions', 'New'],\n",
    "    'Count': [468, 481, 361, 569, 399],\n",
    "    'Churn_Rate': [1.0, 0.56, 0.34, 0.0, 0.0],\n",
    "    'Intervention_Cost': [100, 50, 30, 10, 20],  # £ per customer\n",
    "    'Success_Probability': [0.10, 0.30, 0.40, 0.90, 0.70],\n",
    "    'CLV': [401, 484, 1345, 4694, 271]\n",
    "})\n",
    "\n",
    "# Calculate expected value\n",
    "segments_roi['Expected_Save'] = (segments_roi['Count'] * \n",
    "                                 segments_roi['Churn_Rate'] * \n",
    "                                 segments_roi['Success_Probability'] * \n",
    "                                 segments_roi['CLV'])\n",
    "\n",
    "segments_roi['Total_Cost'] = segments_roi['Count'] * segments_roi['Intervention_Cost']\n",
    "segments_roi['ROI'] = segments_roi['Expected_Save'] / segments_roi['Total_Cost']\n",
    "\n",
    "# Prioritization\n",
    "print(segments_roi.sort_values('ROI', ascending=False)[['Segment', 'ROI']])"
   ]
  },
  {
   "cell_type": "markdown",
   "id": "51035910",
   "metadata": {},
   "source": [
    "## 8.1 Data Leakage Impact Visualization\n"
   ]
  },
  {
   "cell_type": "code",
   "execution_count": null,
   "id": "603af50f",
   "metadata": {},
   "outputs": [
    {
     "data": {
      "image/png": "[encoded data removed]",
      "text/plain": [
       "<Figure size 1200x500 with 2 Axes>"
      ]
     },
     "metadata": {},
     "output_type": "display_data"
    },
    {
     "name": "stdout",
     "output_type": "stream",
     "text": [
      "Figure saved as 'data_leakage_impact.png'\n"
     ]
    }
   ],
   "source": [
    "# Data Leakage Impact Visualization\n",
    "\n",
    "import matplotlib.pyplot as plt\n",
    "import numpy as np\n",
    "\n",
    "# Create the data leakage comparison figure\n",
    "fig, (ax1, ax2) = plt.subplots(1, 2, figsize=(12, 5))\n",
    "\n",
    "# Left plot: Accuracy Comparison\n",
    "models = ['Logistic\\nRegression', 'Random\\nForest', 'Gradient\\nBoosting']\n",
    "with_leakage = [99.38, 100.0, 100.0]\n",
    "clean = [93.0, 94.7, 95.5]\n",
    "ultra_clean = [81.6, 92.4, 95.2]\n",
    "\n",
    "x = np.arange(len(models))\n",
    "width = 0.25\n",
    "\n",
    "bars1 = ax1.bar(x - width, with_leakage, width, label='With Leakage', color='#ff4444', alpha=0.8)\n",
    "bars2 = ax1.bar(x, clean, width, label='Clean', color='#4444ff', alpha=0.8)\n",
    "bars3 = ax1.bar(x + width, ultra_clean, width, label='Ultra-clean', color='#44ff44', alpha=0.8)\n",
    "\n",
    "ax1.set_xlabel('Model', fontsize=11)\n",
    "ax1.set_ylabel('Accuracy (%)', fontsize=11)\n",
    "ax1.set_title('Model Performance: Impact of Data Leakage', fontsize=12, fontweight='bold')\n",
    "ax1.set_xticks(x)\n",
    "ax1.set_xticklabels(models)\n",
    "ax1.legend(loc='lower right')\n",
    "ax1.grid(True, alpha=0.3, axis='y')\n",
    "ax1.set_ylim([75, 102])\n",
    "\n",
    "# Add value labels on bars\n",
    "for bars in [bars1, bars2, bars3]:\n",
    "    for bar in bars:\n",
    "        height = bar.get_height()\n",
    "        ax1.text(bar.get_x() + bar.get_width()/2., height + 0.5,\n",
    "                f'{height:.1f}%', ha='center', va='bottom', fontsize=9)\n",
    "\n",
    "# Add red line at 90% to show \"suspicious threshold\"\n",
    "ax1.axhline(y=90, color='red', linestyle='--', alpha=0.5, label='Suspicious threshold')\n",
    "\n",
    "# Right plot: Feature Importance After Removing Leakage\n",
    "features = ['Frequency', 'Monetary', 'Consistency', 'Order Value', 'Purchase\\nAcceleration']\n",
    "importance = [35, 25, 15, 15, 10]\n",
    "colors = plt.cm.Blues(np.linspace(0.4, 0.8, len(features)))\n",
    "\n",
    "bars = ax2.barh(features, importance, color=colors)\n",
    "ax2.set_xlabel('Importance (%)', fontsize=11)\n",
    "ax2.set_title('Feature Importance (Ultra-clean Model)', fontsize=12, fontweight='bold')\n",
    "ax2.grid(True, alpha=0.3, axis='x')\n",
    "\n",
    "# Add value labels\n",
    "for i, (bar, val) in enumerate(zip(bars, importance)):\n",
    "    ax2.text(val + 0.5, bar.get_y() + bar.get_height()/2, \n",
    "            f'{val}%', ha='left', va='center', fontsize=10)\n",
    "\n",
    "plt.suptitle('Data Leakage Discovery and Resolution', fontsize=14, fontweight='bold', y=1.02)\n",
    "plt.tight_layout()\n",
    "plt.savefig('data_leakage_impact.png', dpi=300, bbox_inches='tight')\n",
    "plt.show()\n",
    "\n",
    "print(\"Figure saved as 'data_leakage_impact.png'\")"
   ]
  },
  {
   "cell_type": "code",
   "execution_count": null,
   "id": "6893cfee",
   "metadata": {},
   "outputs": [
    {
     "data": {
      "image/png": "[encoded data removed]",
      "text/plain": [
       "<Figure size 800x500 with 2 Axes>"
      ]
     },
     "metadata": {},
     "output_type": "display_data"
    },
    {
     "name": "stdout",
     "output_type": "stream",
     "text": [
      "Metrics calculated:\n",
      "Accuracy: 95.2%\n",
      "Precision: 91.1%\n",
      "Recall: 90.5%\n",
      "F1-Score: 90.8%\n",
      "\n",
      "Figure saved as 'confusion_matrix_fixed.png'\n"
     ]
    }
   ],
   "source": [
    "import matplotlib.pyplot as plt\n",
    "import seaborn as sns\n",
    "import numpy as np\n",
    "\n",
    "# Create figure with more space for the text box\n",
    "fig, ax = plt.subplots(figsize=(8, 5))\n",
    "\n",
    "# Confusion matrix values\n",
    "cm = np.array([[459, 15],   # True Negative, False Positive\n",
    "               [16, 153]])   # False Negative, True Positive\n",
    "\n",
    "# Create heatmap\n",
    "sns.heatmap(cm, annot=True, fmt='d', cmap='Blues', \n",
    "            xticklabels=['Not Churn', 'Churn'],\n",
    "            yticklabels=['Not Churn', 'Churn'],\n",
    "            cbar_kws={'label': 'Count'},\n",
    "            annot_kws={'size': 14, 'weight': 'bold'})\n",
    "\n",
    "plt.title('Confusion Matrix: Gradient Boosting (Ultra-clean)', fontsize=13, fontweight='bold', pad=20)\n",
    "plt.ylabel('Actual', fontsize=12, fontweight='bold')\n",
    "plt.xlabel('Predicted', fontsize=12, fontweight='bold')\n",
    "\n",
    "# Calculate metrics\n",
    "total = cm.sum()\n",
    "accuracy = (cm[0,0] + cm[1,1]) / total * 100\n",
    "precision = cm[1,1] / (cm[0,1] + cm[1,1]) * 100\n",
    "recall = cm[1,1] / (cm[1,0] + cm[1,1]) * 100\n",
    "f1 = 2 * (precision * recall) / (precision + recall)\n",
    "\n",
    "# Add metrics below the plot instead of overlapping\n",
    "metrics_text = (f'Accuracy: {accuracy:.1f}%  |  '\n",
    "                f'Precision: {precision:.1f}%  |  '\n",
    "                f'Recall: {recall:.1f}%  |  '\n",
    "                f'F1-Score: {f1:.1f}%')\n",
    "\n",
    "# Add text below the confusion matrix\n",
    "plt.figtext(0.5, 0.02, metrics_text, ha='center', fontsize=11, \n",
    "            bbox=dict(boxstyle='round,pad=0.5', facecolor='lightgray', alpha=0.8))\n",
    "\n",
    "plt.tight_layout()\n",
    "plt.subplots_adjust(bottom=0.15)  # Make room for the metrics text\n",
    "plt.savefig('confusion_matrix_fixed.png', dpi=300, bbox_inches='tight')\n",
    "plt.show()\n",
    "\n",
    "print(f\"Metrics calculated:\")\n",
    "print(f\"Accuracy: {accuracy:.1f}%\")\n",
    "print(f\"Precision: {precision:.1f}%\")\n",
    "print(f\"Recall: {recall:.1f}%\")\n",
    "print(f\"F1-Score: {f1:.1f}%\")\n",
    "print(\"\\nFigure saved as 'confusion_matrix_fixed.png'\")"
   ]
  },
  {
   "cell_type": "code",
   "execution_count": null,
   "id": "f9038a89",
   "metadata": {},
   "outputs": [],
   "source": [
    "# Export to CSV\n",
    "df.to_csv('table_data.csv', index=False)"
   ]
  }
 ],
 "metadata": {
  "kernelspec": {
   "display_name": "base",
   "language": "python",
   "name": "python3"
  },
  "language_info": {
   "codemirror_mode": {
    "name": "ipython",
    "version": 3
   },
   "file_extension": ".py",
   "mimetype": "text/x-python",
   "name": "python",
   "nbconvert_exporter": "python",
   "pygments_lexer": "ipython3",
   "version": "3.12.2"
  }
 },
 "nbformat": 4,
 "nbformat_minor": 5
}
